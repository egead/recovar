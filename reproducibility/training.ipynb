{
 "cells": [
  {
   "cell_type": "code",
   "execution_count": 4,
   "metadata": {},
   "outputs": [],
   "source": [
    "from seismic_purifier import RepresentationLearningAutoencoder, RepresentationLearningDenoisingAutoencoder, RepresentationLearningAutoencoderEnsemble\n",
    "from kfold_trainer import KfoldTrainer\n",
    "from config import KFOLD_SPLITS"
   ]
  },
  {
   "cell_type": "code",
   "execution_count": 5,
   "metadata": {},
   "outputs": [],
   "source": [
    "# Experiment name.\n",
    "EXP_NAME = \"exp_test\"\n",
    "\n",
    "# Should be one of the RepresentationLearningAutoencoder, RepresentationLearningDenoisingAutoencoder, RepresentationLearningAutoencoderEnsemble\n",
    "MODEL_CLASSES = [RepresentationLearningAutoencoder, RepresentationLearningDenoisingAutoencoder, RepresentationLearningAutoencoderEnsemble]\n",
    "\n",
    "# Should be stead or instance.\n",
    "DATASETS = [\"instance\", \"stead\"]\n",
    "\n",
    "# Number of epochs\n",
    "NUM_EPOCHS = 10"
   ]
  },
  {
   "cell_type": "code",
   "execution_count": 6,
   "metadata": {},
   "outputs": [
    {
     "name": "stderr",
     "output_type": "stream",
     "text": [
      "/home/onur/Desktop/GitRepos/SeismicPurifier/reproducibility/kfold_environment.py:427: DtypeWarning: Columns (23,24,26,27) have mixed types. Specify dtype option on import or set low_memory=False.\n",
      "  eq_metadata = pd.read_csv(eq_metadata_csv)\n"
     ]
    },
    {
     "name": "stdout",
     "output_type": "stream",
     "text": [
      "Epoch 1/10\n",
      "3019/3019 [==============================] - 91s 29ms/step - loss: 1.0392 - val_loss: 1.1430\n",
      "Epoch 2/10\n",
      "3019/3019 [==============================] - 86s 28ms/step - loss: 0.9006 - val_loss: 0.8364\n",
      "Epoch 3/10\n",
      "3019/3019 [==============================] - 83s 28ms/step - loss: 0.8020 - val_loss: 0.7811\n",
      "Epoch 4/10\n",
      "3019/3019 [==============================] - 82s 27ms/step - loss: 0.7443 - val_loss: 0.6767\n",
      "Epoch 5/10\n",
      "3019/3019 [==============================] - 82s 27ms/step - loss: 0.6351 - val_loss: 0.6078\n",
      "Epoch 6/10\n",
      "3019/3019 [==============================] - 82s 27ms/step - loss: 0.5846 - val_loss: 0.5756\n",
      "Epoch 7/10\n",
      "3019/3019 [==============================] - 82s 27ms/step - loss: 0.5523 - val_loss: 0.5360\n",
      "Epoch 8/10\n",
      "3019/3019 [==============================] - 82s 27ms/step - loss: 0.5131 - val_loss: 0.4995\n",
      "Epoch 9/10\n",
      "3019/3019 [==============================] - 82s 27ms/step - loss: 0.4825 - val_loss: 0.4769\n",
      "Epoch 10/10\n",
      "3019/3019 [==============================] - 82s 27ms/step - loss: 0.4668 - val_loss: 0.4653\n"
     ]
    },
    {
     "name": "stderr",
     "output_type": "stream",
     "text": [
      "/home/onur/Desktop/GitRepos/SeismicPurifier/reproducibility/kfold_environment.py:427: DtypeWarning: Columns (23,24,26,27) have mixed types. Specify dtype option on import or set low_memory=False.\n",
      "  eq_metadata = pd.read_csv(eq_metadata_csv)\n"
     ]
    },
    {
     "name": "stdout",
     "output_type": "stream",
     "text": [
      "Epoch 1/10\n",
      "3019/3019 [==============================] - 88s 28ms/step - loss: 1.0477 - val_loss: 1.1167\n",
      "Epoch 2/10\n",
      "3019/3019 [==============================] - 83s 27ms/step - loss: 0.9311 - val_loss: 0.8672\n",
      "Epoch 3/10\n",
      "3019/3019 [==============================] - 83s 27ms/step - loss: 0.8179 - val_loss: 0.7851\n",
      "Epoch 4/10\n",
      "3019/3019 [==============================] - 83s 27ms/step - loss: 0.7690 - val_loss: 0.7510\n",
      "Epoch 5/10\n",
      "3019/3019 [==============================] - 83s 27ms/step - loss: 0.7287 - val_loss: 0.7169\n",
      "Epoch 6/10\n",
      "3019/3019 [==============================] - 82s 27ms/step - loss: 0.6556 - val_loss: 0.6028\n",
      "Epoch 7/10\n",
      "3019/3019 [==============================] - 83s 28ms/step - loss: 0.5625 - val_loss: 0.5497\n",
      "Epoch 8/10\n",
      "3019/3019 [==============================] - 84s 28ms/step - loss: 0.5345 - val_loss: 0.5210\n",
      "Epoch 9/10\n",
      "3019/3019 [==============================] - 84s 28ms/step - loss: 0.4977 - val_loss: 0.4922\n",
      "Epoch 10/10\n",
      "3019/3019 [==============================] - 84s 28ms/step - loss: 0.4710 - val_loss: 0.4679\n"
     ]
    },
    {
     "name": "stderr",
     "output_type": "stream",
     "text": [
      "/home/onur/Desktop/GitRepos/SeismicPurifier/reproducibility/kfold_environment.py:427: DtypeWarning: Columns (23,24,26,27) have mixed types. Specify dtype option on import or set low_memory=False.\n",
      "  eq_metadata = pd.read_csv(eq_metadata_csv)\n"
     ]
    },
    {
     "name": "stdout",
     "output_type": "stream",
     "text": [
      "Epoch 1/10\n",
      "3033/3033 [==============================] - 88s 27ms/step - loss: 1.0431 - val_loss: 1.0527\n",
      "Epoch 2/10\n",
      "3033/3033 [==============================] - 82s 27ms/step - loss: 0.9635 - val_loss: 0.8947\n",
      "Epoch 3/10\n",
      "3033/3033 [==============================] - 82s 27ms/step - loss: 0.8275 - val_loss: 0.7515\n",
      "Epoch 4/10\n",
      "3033/3033 [==============================] - 82s 27ms/step - loss: 0.7028 - val_loss: 0.6553\n",
      "Epoch 5/10\n",
      "3033/3033 [==============================] - 83s 27ms/step - loss: 0.6157 - val_loss: 0.5969\n",
      "Epoch 6/10\n",
      "3033/3033 [==============================] - 82s 27ms/step - loss: 0.5724 - val_loss: 0.5453\n",
      "Epoch 7/10\n",
      "3033/3033 [==============================] - 82s 27ms/step - loss: 0.5208 - val_loss: 0.5031\n",
      "Epoch 8/10\n",
      "3033/3033 [==============================] - 83s 27ms/step - loss: 0.4922 - val_loss: 0.4819\n",
      "Epoch 9/10\n",
      "3033/3033 [==============================] - 82s 27ms/step - loss: 0.4723 - val_loss: 0.4650\n",
      "Epoch 10/10\n",
      "3033/3033 [==============================] - 82s 27ms/step - loss: 0.4528 - val_loss: 0.4436\n"
     ]
    },
    {
     "name": "stderr",
     "output_type": "stream",
     "text": [
      "/home/onur/Desktop/GitRepos/SeismicPurifier/reproducibility/kfold_environment.py:427: DtypeWarning: Columns (23,24,26,27) have mixed types. Specify dtype option on import or set low_memory=False.\n",
      "  eq_metadata = pd.read_csv(eq_metadata_csv)\n"
     ]
    },
    {
     "name": "stdout",
     "output_type": "stream",
     "text": [
      "Epoch 1/10\n",
      "3027/3027 [==============================] - 88s 28ms/step - loss: 1.0452 - val_loss: 1.1626\n",
      "Epoch 2/10\n",
      "3027/3027 [==============================] - 82s 27ms/step - loss: 0.9227 - val_loss: 0.8560\n",
      "Epoch 3/10\n",
      "3027/3027 [==============================] - 82s 27ms/step - loss: 0.8141 - val_loss: 0.7857\n",
      "Epoch 4/10\n",
      "3027/3027 [==============================] - 83s 27ms/step - loss: 0.7698 - val_loss: 0.7490\n",
      "Epoch 5/10\n",
      "3027/3027 [==============================] - 83s 27ms/step - loss: 0.7263 - val_loss: 0.7144\n",
      "Epoch 6/10\n",
      "3027/3027 [==============================] - 82s 27ms/step - loss: 0.6968 - val_loss: 0.6795\n",
      "Epoch 7/10\n",
      "3027/3027 [==============================] - 82s 27ms/step - loss: 0.5931 - val_loss: 0.5554\n",
      "Epoch 8/10\n",
      "3027/3027 [==============================] - 82s 27ms/step - loss: 0.5334 - val_loss: 0.5171\n",
      "Epoch 9/10\n",
      "3027/3027 [==============================] - 82s 27ms/step - loss: 0.5016 - val_loss: 0.4911\n",
      "Epoch 10/10\n",
      "3027/3027 [==============================] - 82s 27ms/step - loss: 0.4766 - val_loss: 0.4711\n"
     ]
    },
    {
     "name": "stderr",
     "output_type": "stream",
     "text": [
      "/home/onur/Desktop/GitRepos/SeismicPurifier/reproducibility/kfold_environment.py:427: DtypeWarning: Columns (23,24,26,27) have mixed types. Specify dtype option on import or set low_memory=False.\n",
      "  eq_metadata = pd.read_csv(eq_metadata_csv)\n"
     ]
    },
    {
     "name": "stdout",
     "output_type": "stream",
     "text": [
      "Epoch 1/10\n",
      "3009/3009 [==============================] - 87s 27ms/step - loss: 1.0448 - val_loss: 1.0173\n",
      "Epoch 2/10\n",
      "3009/3009 [==============================] - 81s 27ms/step - loss: 0.9281 - val_loss: 0.8660\n",
      "Epoch 3/10\n",
      "3009/3009 [==============================] - 81s 27ms/step - loss: 0.8235 - val_loss: 0.7857\n",
      "Epoch 4/10\n",
      "3009/3009 [==============================] - 82s 27ms/step - loss: 0.7749 - val_loss: 0.7650\n",
      "Epoch 5/10\n",
      "3009/3009 [==============================] - 81s 27ms/step - loss: 0.7392 - val_loss: 0.7215\n",
      "Epoch 6/10\n",
      "3009/3009 [==============================] - 81s 27ms/step - loss: 0.7090 - val_loss: 0.6980\n",
      "Epoch 7/10\n",
      "3009/3009 [==============================] - 81s 27ms/step - loss: 0.6273 - val_loss: 0.5804\n",
      "Epoch 8/10\n",
      "3009/3009 [==============================] - 81s 27ms/step - loss: 0.5530 - val_loss: 0.5438\n",
      "Epoch 9/10\n",
      "3009/3009 [==============================] - 83s 27ms/step - loss: 0.5240 - val_loss: 0.4963\n",
      "Epoch 10/10\n",
      "3009/3009 [==============================] - 81s 27ms/step - loss: 0.4768 - val_loss: 0.4646\n"
     ]
    },
    {
     "name": "stderr",
     "output_type": "stream",
     "text": [
      "/home/onur/Desktop/GitRepos/SeismicPurifier/reproducibility/kfold_environment.py:427: DtypeWarning: Columns (23,24,26,27) have mixed types. Specify dtype option on import or set low_memory=False.\n",
      "  eq_metadata = pd.read_csv(eq_metadata_csv)\n"
     ]
    },
    {
     "name": "stdout",
     "output_type": "stream",
     "text": [
      "Epoch 1/10\n",
      "3019/3019 [==============================] - 89s 28ms/step - loss: 1.0428 - val_loss: 1.5755\n",
      "Epoch 2/10\n",
      "3019/3019 [==============================] - 83s 28ms/step - loss: 0.9497 - val_loss: 0.8863\n",
      "Epoch 3/10\n",
      "3019/3019 [==============================] - 84s 28ms/step - loss: 0.8156 - val_loss: 0.7537\n",
      "Epoch 4/10\n",
      "3019/3019 [==============================] - 84s 28ms/step - loss: 0.6981 - val_loss: 0.6595\n",
      "Epoch 5/10\n",
      "3019/3019 [==============================] - 85s 28ms/step - loss: 0.6279 - val_loss: 0.6094\n",
      "Epoch 6/10\n",
      "3019/3019 [==============================] - 85s 28ms/step - loss: 0.5929 - val_loss: 0.5827\n",
      "Epoch 7/10\n",
      "3019/3019 [==============================] - 86s 29ms/step - loss: 0.5617 - val_loss: 0.5410\n",
      "Epoch 8/10\n",
      "3019/3019 [==============================] - 85s 28ms/step - loss: 0.5220 - val_loss: 0.5057\n",
      "Epoch 9/10\n",
      "3019/3019 [==============================] - 84s 28ms/step - loss: 0.4910 - val_loss: 0.4814\n",
      "Epoch 10/10\n",
      "3019/3019 [==============================] - 85s 28ms/step - loss: 0.4724 - val_loss: 0.4611\n"
     ]
    },
    {
     "name": "stderr",
     "output_type": "stream",
     "text": [
      "/home/onur/Desktop/GitRepos/SeismicPurifier/reproducibility/kfold_environment.py:427: DtypeWarning: Columns (23,24,26,27) have mixed types. Specify dtype option on import or set low_memory=False.\n",
      "  eq_metadata = pd.read_csv(eq_metadata_csv)\n"
     ]
    },
    {
     "name": "stdout",
     "output_type": "stream",
     "text": [
      "Epoch 1/10\n",
      "3019/3019 [==============================] - 89s 28ms/step - loss: 1.0403 - val_loss: 1.1058\n",
      "Epoch 2/10\n",
      "3019/3019 [==============================] - 84s 28ms/step - loss: 0.9317 - val_loss: 0.8570\n",
      "Epoch 3/10\n",
      "3019/3019 [==============================] - 84s 28ms/step - loss: 0.7712 - val_loss: 0.7101\n",
      "Epoch 4/10\n",
      "3019/3019 [==============================] - 84s 28ms/step - loss: 0.6678 - val_loss: 0.6256\n",
      "Epoch 5/10\n",
      "3019/3019 [==============================] - 84s 28ms/step - loss: 0.6041 - val_loss: 0.5877\n",
      "Epoch 6/10\n",
      "3019/3019 [==============================] - 84s 28ms/step - loss: 0.5592 - val_loss: 0.5317\n",
      "Epoch 7/10\n",
      "3019/3019 [==============================] - 84s 28ms/step - loss: 0.5142 - val_loss: 0.4968\n",
      "Epoch 8/10\n",
      "3019/3019 [==============================] - 84s 28ms/step - loss: 0.4868 - val_loss: 0.4765\n",
      "Epoch 9/10\n",
      "3019/3019 [==============================] - 84s 28ms/step - loss: 0.4673 - val_loss: 0.4532\n",
      "Epoch 10/10\n",
      "3019/3019 [==============================] - 84s 28ms/step - loss: 0.4490 - val_loss: 0.4417\n"
     ]
    },
    {
     "name": "stderr",
     "output_type": "stream",
     "text": [
      "/home/onur/Desktop/GitRepos/SeismicPurifier/reproducibility/kfold_environment.py:427: DtypeWarning: Columns (23,24,26,27) have mixed types. Specify dtype option on import or set low_memory=False.\n",
      "  eq_metadata = pd.read_csv(eq_metadata_csv)\n"
     ]
    },
    {
     "name": "stdout",
     "output_type": "stream",
     "text": [
      "Epoch 1/10\n",
      "3033/3033 [==============================] - 88s 28ms/step - loss: 1.0346 - val_loss: 1.0837\n",
      "Epoch 2/10\n",
      "3033/3033 [==============================] - 84s 28ms/step - loss: 0.8910 - val_loss: 0.8214\n",
      "Epoch 3/10\n",
      "3033/3033 [==============================] - 85s 28ms/step - loss: 0.7988 - val_loss: 0.7763\n",
      "Epoch 4/10\n",
      "3033/3033 [==============================] - 85s 28ms/step - loss: 0.6921 - val_loss: 0.6304\n",
      "Epoch 5/10\n",
      "3033/3033 [==============================] - 85s 28ms/step - loss: 0.6096 - val_loss: 0.5927\n",
      "Epoch 6/10\n",
      "3033/3033 [==============================] - 84s 28ms/step - loss: 0.5881 - val_loss: 0.5718\n",
      "Epoch 7/10\n",
      "3033/3033 [==============================] - 84s 28ms/step - loss: 0.5415 - val_loss: 0.5182\n",
      "Epoch 8/10\n",
      "3033/3033 [==============================] - 84s 28ms/step - loss: 0.4995 - val_loss: 0.4856\n",
      "Epoch 9/10\n",
      "3033/3033 [==============================] - 84s 28ms/step - loss: 0.4754 - val_loss: 0.4735\n",
      "Epoch 10/10\n",
      "3033/3033 [==============================] - 84s 28ms/step - loss: 0.4586 - val_loss: 0.4510\n"
     ]
    },
    {
     "name": "stderr",
     "output_type": "stream",
     "text": [
      "/home/onur/Desktop/GitRepos/SeismicPurifier/reproducibility/kfold_environment.py:427: DtypeWarning: Columns (23,24,26,27) have mixed types. Specify dtype option on import or set low_memory=False.\n",
      "  eq_metadata = pd.read_csv(eq_metadata_csv)\n"
     ]
    },
    {
     "name": "stdout",
     "output_type": "stream",
     "text": [
      "Epoch 1/10\n",
      "3027/3027 [==============================] - 89s 28ms/step - loss: 1.0378 - val_loss: 1.0134\n",
      "Epoch 2/10\n",
      "3027/3027 [==============================] - 84s 28ms/step - loss: 0.9202 - val_loss: 0.8494\n",
      "Epoch 3/10\n",
      "3027/3027 [==============================] - 84s 28ms/step - loss: 0.7913 - val_loss: 0.7304\n",
      "Epoch 4/10\n",
      "3027/3027 [==============================] - 84s 28ms/step - loss: 0.6883 - val_loss: 0.6522\n",
      "Epoch 5/10\n",
      "3027/3027 [==============================] - 84s 28ms/step - loss: 0.6275 - val_loss: 0.6143\n",
      "Epoch 6/10\n",
      "3027/3027 [==============================] - 84s 28ms/step - loss: 0.5871 - val_loss: 0.5634\n",
      "Epoch 7/10\n",
      "3027/3027 [==============================] - 84s 28ms/step - loss: 0.5431 - val_loss: 0.5235\n",
      "Epoch 8/10\n",
      "3027/3027 [==============================] - 83s 28ms/step - loss: 0.5141 - val_loss: 0.5039\n",
      "Epoch 9/10\n",
      "3027/3027 [==============================] - 84s 28ms/step - loss: 0.4997 - val_loss: 0.4901\n",
      "Epoch 10/10\n",
      "3027/3027 [==============================] - 84s 28ms/step - loss: 0.4845 - val_loss: 0.4772\n"
     ]
    },
    {
     "name": "stderr",
     "output_type": "stream",
     "text": [
      "/home/onur/Desktop/GitRepos/SeismicPurifier/reproducibility/kfold_environment.py:427: DtypeWarning: Columns (23,24,26,27) have mixed types. Specify dtype option on import or set low_memory=False.\n",
      "  eq_metadata = pd.read_csv(eq_metadata_csv)\n"
     ]
    },
    {
     "name": "stdout",
     "output_type": "stream",
     "text": [
      "Epoch 1/10\n",
      "3009/3009 [==============================] - 89s 28ms/step - loss: 1.0390 - val_loss: 1.1477\n",
      "Epoch 2/10\n",
      "3009/3009 [==============================] - 83s 28ms/step - loss: 0.9558 - val_loss: 0.8916\n",
      "Epoch 3/10\n",
      "3009/3009 [==============================] - 84s 28ms/step - loss: 0.8234 - val_loss: 0.7565\n",
      "Epoch 4/10\n",
      "3009/3009 [==============================] - 83s 28ms/step - loss: 0.7038 - val_loss: 0.6555\n",
      "Epoch 5/10\n",
      "3009/3009 [==============================] - 84s 28ms/step - loss: 0.6421 - val_loss: 0.6212\n",
      "Epoch 6/10\n",
      "3009/3009 [==============================] - 83s 27ms/step - loss: 0.6063 - val_loss: 0.5858\n",
      "Epoch 7/10\n",
      "3009/3009 [==============================] - 83s 28ms/step - loss: 0.5621 - val_loss: 0.5329\n",
      "Epoch 8/10\n",
      "3009/3009 [==============================] - 84s 28ms/step - loss: 0.5226 - val_loss: 0.5064\n",
      "Epoch 9/10\n",
      "3009/3009 [==============================] - 84s 28ms/step - loss: 0.5053 - val_loss: 0.4940\n",
      "Epoch 10/10\n",
      "3009/3009 [==============================] - 84s 28ms/step - loss: 0.4902 - val_loss: 0.4783\n"
     ]
    },
    {
     "name": "stderr",
     "output_type": "stream",
     "text": [
      "/home/onur/Desktop/GitRepos/SeismicPurifier/reproducibility/kfold_environment.py:427: DtypeWarning: Columns (23,24,26,27) have mixed types. Specify dtype option on import or set low_memory=False.\n",
      "  eq_metadata = pd.read_csv(eq_metadata_csv)\n"
     ]
    },
    {
     "name": "stdout",
     "output_type": "stream",
     "text": [
      "Epoch 1/10\n",
      "3019/3019 [==============================] - 427s 135ms/step - loss: 1.7493 - val_loss: 1.6101\n",
      "Epoch 2/10\n",
      "3019/3019 [==============================] - 406s 134ms/step - loss: 1.3793 - val_loss: 1.2691\n",
      "Epoch 3/10\n",
      "3019/3019 [==============================] - 406s 134ms/step - loss: 1.1922 - val_loss: 1.1130\n",
      "Epoch 4/10\n",
      "3019/3019 [==============================] - 408s 135ms/step - loss: 1.0562 - val_loss: 1.0080\n",
      "Epoch 5/10\n",
      "3019/3019 [==============================] - 405s 134ms/step - loss: 0.9591 - val_loss: 0.9383\n",
      "Epoch 6/10\n",
      "3019/3019 [==============================] - 405s 134ms/step - loss: 0.8923 - val_loss: 0.8282\n",
      "Epoch 7/10\n",
      "3019/3019 [==============================] - 406s 134ms/step - loss: 0.8017 - val_loss: 0.7827\n",
      "Epoch 8/10\n",
      "3019/3019 [==============================] - 417s 138ms/step - loss: 0.7684 - val_loss: 0.7709\n",
      "Epoch 9/10\n",
      "3019/3019 [==============================] - 400s 133ms/step - loss: 0.7712 - val_loss: 0.7623\n",
      "Epoch 10/10\n",
      "3019/3019 [==============================] - 398s 132ms/step - loss: 0.7511 - val_loss: 0.7427\n"
     ]
    },
    {
     "name": "stderr",
     "output_type": "stream",
     "text": [
      "/home/onur/Desktop/GitRepos/SeismicPurifier/reproducibility/kfold_environment.py:427: DtypeWarning: Columns (23,24,26,27) have mixed types. Specify dtype option on import or set low_memory=False.\n",
      "  eq_metadata = pd.read_csv(eq_metadata_csv)\n"
     ]
    },
    {
     "name": "stdout",
     "output_type": "stream",
     "text": [
      "Epoch 1/10\n",
      "3019/3019 [==============================] - 420s 132ms/step - loss: 1.7094 - val_loss: 1.6550\n",
      "Epoch 2/10\n",
      "3019/3019 [==============================] - 399s 132ms/step - loss: 1.3488 - val_loss: 1.2272\n",
      "Epoch 3/10\n",
      "3019/3019 [==============================] - 399s 132ms/step - loss: 1.1250 - val_loss: 1.0288\n",
      "Epoch 4/10\n",
      "3019/3019 [==============================] - 399s 132ms/step - loss: 0.9571 - val_loss: 0.9147\n",
      "Epoch 5/10\n",
      "3019/3019 [==============================] - 399s 132ms/step - loss: 0.8860 - val_loss: 0.8877\n",
      "Epoch 6/10\n",
      "3019/3019 [==============================] - 402s 133ms/step - loss: 0.8351 - val_loss: 0.8334\n",
      "Epoch 7/10\n",
      "3019/3019 [==============================] - 417s 138ms/step - loss: 0.7861 - val_loss: 0.7722\n",
      "Epoch 8/10\n",
      "3019/3019 [==============================] - 418s 138ms/step - loss: 0.7433 - val_loss: 0.7369\n",
      "Epoch 9/10\n",
      "3019/3019 [==============================] - 415s 138ms/step - loss: 0.7567 - val_loss: 0.7629\n",
      "Epoch 10/10\n",
      "3019/3019 [==============================] - 415s 138ms/step - loss: 0.7508 - val_loss: 0.7509\n"
     ]
    },
    {
     "name": "stderr",
     "output_type": "stream",
     "text": [
      "/home/onur/Desktop/GitRepos/SeismicPurifier/reproducibility/kfold_environment.py:427: DtypeWarning: Columns (23,24,26,27) have mixed types. Specify dtype option on import or set low_memory=False.\n",
      "  eq_metadata = pd.read_csv(eq_metadata_csv)\n"
     ]
    },
    {
     "name": "stdout",
     "output_type": "stream",
     "text": [
      "Epoch 1/10\n",
      "3033/3033 [==============================] - 447s 141ms/step - loss: 1.7518 - val_loss: 1.7058\n",
      "Epoch 2/10\n",
      "1973/3033 [==================>...........] - ETA: 2:18 - loss: 1.4226"
     ]
    },
    {
     "ename": "KeyboardInterrupt",
     "evalue": "",
     "output_type": "error",
     "traceback": [
      "\u001b[0;31m---------------------------------------------------------------------------\u001b[0m",
      "\u001b[0;31mKeyboardInterrupt\u001b[0m                         Traceback (most recent call last)",
      "Cell \u001b[0;32mIn[6], line 8\u001b[0m\n\u001b[1;32m      4\u001b[0m \u001b[38;5;28;01mfor\u001b[39;00m split \u001b[38;5;129;01min\u001b[39;00m \u001b[38;5;28mrange\u001b[39m(KFOLD_SPLITS):\n\u001b[1;32m      5\u001b[0m     kfold_trainer \u001b[38;5;241m=\u001b[39m KfoldTrainer(\n\u001b[1;32m      6\u001b[0m         EXP_NAME, model_class, train_dataset, split, epochs\u001b[38;5;241m=\u001b[39mNUM_EPOCHS\n\u001b[1;32m      7\u001b[0m     )\n\u001b[0;32m----> 8\u001b[0m     \u001b[43mkfold_trainer\u001b[49m\u001b[38;5;241;43m.\u001b[39;49m\u001b[43mtrain\u001b[49m\u001b[43m(\u001b[49m\u001b[43m)\u001b[49m\n",
      "File \u001b[0;32m~/Desktop/GitRepos/SeismicPurifier/reproducibility/kfold_trainer.py:69\u001b[0m, in \u001b[0;36mKfoldTrainer.train\u001b[0;34m(self)\u001b[0m\n\u001b[1;32m     60\u001b[0m makedirs(\n\u001b[1;32m     61\u001b[0m     get_checkpoint_dir(\n\u001b[1;32m     62\u001b[0m         \u001b[38;5;28mself\u001b[39m\u001b[38;5;241m.\u001b[39mexp_name, \u001b[38;5;28mself\u001b[39m\u001b[38;5;241m.\u001b[39mmodel_name, \u001b[38;5;28mself\u001b[39m\u001b[38;5;241m.\u001b[39mdataset, \u001b[38;5;28mself\u001b[39m\u001b[38;5;241m.\u001b[39msplit\n\u001b[1;32m     63\u001b[0m     ),\n\u001b[1;32m     64\u001b[0m     exist_ok\u001b[38;5;241m=\u001b[39m\u001b[38;5;28;01mTrue\u001b[39;00m,\n\u001b[1;32m     65\u001b[0m )\n\u001b[1;32m     67\u001b[0m model \u001b[38;5;241m=\u001b[39m \u001b[38;5;28mself\u001b[39m\u001b[38;5;241m.\u001b[39m_create_model()\n\u001b[0;32m---> 69\u001b[0m fit_result \u001b[38;5;241m=\u001b[39m \u001b[38;5;28;43mself\u001b[39;49m\u001b[38;5;241;43m.\u001b[39;49m\u001b[43m_train_model\u001b[49m\u001b[43m(\u001b[49m\n\u001b[1;32m     70\u001b[0m \u001b[43m    \u001b[49m\u001b[43mmodel\u001b[49m\u001b[38;5;241;43m=\u001b[39;49m\u001b[43mmodel\u001b[49m\u001b[43m,\u001b[49m\n\u001b[1;32m     71\u001b[0m \u001b[43m    \u001b[49m\u001b[43msplit\u001b[49m\u001b[38;5;241;43m=\u001b[39;49m\u001b[38;5;28;43mself\u001b[39;49m\u001b[38;5;241;43m.\u001b[39;49m\u001b[43msplit\u001b[49m\u001b[43m,\u001b[49m\n\u001b[1;32m     72\u001b[0m \u001b[43m    \u001b[49m\u001b[43mtrain_gen\u001b[49m\u001b[38;5;241;43m=\u001b[39;49m\u001b[43mtrain_gen\u001b[49m\u001b[43m,\u001b[49m\n\u001b[1;32m     73\u001b[0m \u001b[43m    \u001b[49m\u001b[43mvalidation_gen\u001b[49m\u001b[38;5;241;43m=\u001b[39;49m\u001b[43mvalidation_gen\u001b[49m\u001b[43m,\u001b[49m\n\u001b[1;32m     74\u001b[0m \u001b[43m\u001b[49m\u001b[43m)\u001b[49m\n\u001b[1;32m     76\u001b[0m \u001b[38;5;28mself\u001b[39m\u001b[38;5;241m.\u001b[39m_save_history(\u001b[38;5;28mself\u001b[39m\u001b[38;5;241m.\u001b[39msplit, fit_result)\n",
      "File \u001b[0;32m~/Desktop/GitRepos/SeismicPurifier/reproducibility/kfold_trainer.py:86\u001b[0m, in \u001b[0;36mKfoldTrainer._train_model\u001b[0;34m(self, model, split, train_gen, validation_gen)\u001b[0m\n\u001b[1;32m     78\u001b[0m \u001b[38;5;28;01mdef\u001b[39;00m \u001b[38;5;21m_train_model\u001b[39m(\u001b[38;5;28mself\u001b[39m, model, split, train_gen, validation_gen):\n\u001b[1;32m     79\u001b[0m     checkpoint_callback \u001b[38;5;241m=\u001b[39m CheckpointCallback(\n\u001b[1;32m     80\u001b[0m         \u001b[38;5;28mself\u001b[39m\u001b[38;5;241m.\u001b[39mexp_name,\n\u001b[1;32m     81\u001b[0m         model,\n\u001b[1;32m     82\u001b[0m         \u001b[38;5;28mself\u001b[39m\u001b[38;5;241m.\u001b[39mdataset,\n\u001b[1;32m     83\u001b[0m         split,\n\u001b[1;32m     84\u001b[0m     )\n\u001b[0;32m---> 86\u001b[0m     fit_result \u001b[38;5;241m=\u001b[39m \u001b[43mmodel\u001b[49m\u001b[38;5;241;43m.\u001b[39;49m\u001b[43mfit\u001b[49m\u001b[43m(\u001b[49m\n\u001b[1;32m     87\u001b[0m \u001b[43m        \u001b[49m\u001b[43mtrain_gen\u001b[49m\u001b[43m,\u001b[49m\n\u001b[1;32m     88\u001b[0m \u001b[43m        \u001b[49m\u001b[43mvalidation_data\u001b[49m\u001b[38;5;241;43m=\u001b[39;49m\u001b[43mvalidation_gen\u001b[49m\u001b[43m,\u001b[49m\n\u001b[1;32m     89\u001b[0m \u001b[43m        \u001b[49m\u001b[43mepochs\u001b[49m\u001b[38;5;241;43m=\u001b[39;49m\u001b[38;5;28;43mself\u001b[39;49m\u001b[38;5;241;43m.\u001b[39;49m\u001b[43mepochs\u001b[49m\u001b[43m,\u001b[49m\n\u001b[1;32m     90\u001b[0m \u001b[43m        \u001b[49m\u001b[43mbatch_size\u001b[49m\u001b[38;5;241;43m=\u001b[39;49m\u001b[43mBATCH_SIZE\u001b[49m\u001b[43m,\u001b[49m\n\u001b[1;32m     91\u001b[0m \u001b[43m        \u001b[49m\u001b[43mcallbacks\u001b[49m\u001b[38;5;241;43m=\u001b[39;49m\u001b[43m[\u001b[49m\u001b[43mcheckpoint_callback\u001b[49m\u001b[43m]\u001b[49m\u001b[43m,\u001b[49m\n\u001b[1;32m     92\u001b[0m \u001b[43m        \u001b[49m\u001b[43mshuffle\u001b[49m\u001b[38;5;241;43m=\u001b[39;49m\u001b[38;5;28;43;01mFalse\u001b[39;49;00m\u001b[43m,\u001b[49m\n\u001b[1;32m     93\u001b[0m \u001b[43m    \u001b[49m\u001b[43m)\u001b[49m\n\u001b[1;32m     95\u001b[0m     \u001b[38;5;28;01mreturn\u001b[39;00m fit_result\n",
      "File \u001b[0;32m~/anaconda3/envs/seismic_purifier_test/lib/python3.10/site-packages/keras/src/utils/traceback_utils.py:65\u001b[0m, in \u001b[0;36mfilter_traceback.<locals>.error_handler\u001b[0;34m(*args, **kwargs)\u001b[0m\n\u001b[1;32m     63\u001b[0m filtered_tb \u001b[38;5;241m=\u001b[39m \u001b[38;5;28;01mNone\u001b[39;00m\n\u001b[1;32m     64\u001b[0m \u001b[38;5;28;01mtry\u001b[39;00m:\n\u001b[0;32m---> 65\u001b[0m     \u001b[38;5;28;01mreturn\u001b[39;00m \u001b[43mfn\u001b[49m\u001b[43m(\u001b[49m\u001b[38;5;241;43m*\u001b[39;49m\u001b[43margs\u001b[49m\u001b[43m,\u001b[49m\u001b[43m \u001b[49m\u001b[38;5;241;43m*\u001b[39;49m\u001b[38;5;241;43m*\u001b[39;49m\u001b[43mkwargs\u001b[49m\u001b[43m)\u001b[49m\n\u001b[1;32m     66\u001b[0m \u001b[38;5;28;01mexcept\u001b[39;00m \u001b[38;5;167;01mException\u001b[39;00m \u001b[38;5;28;01mas\u001b[39;00m e:\n\u001b[1;32m     67\u001b[0m     filtered_tb \u001b[38;5;241m=\u001b[39m _process_traceback_frames(e\u001b[38;5;241m.\u001b[39m__traceback__)\n",
      "File \u001b[0;32m~/anaconda3/envs/seismic_purifier_test/lib/python3.10/site-packages/keras/src/engine/training.py:1783\u001b[0m, in \u001b[0;36mModel.fit\u001b[0;34m(self, x, y, batch_size, epochs, verbose, callbacks, validation_split, validation_data, shuffle, class_weight, sample_weight, initial_epoch, steps_per_epoch, validation_steps, validation_batch_size, validation_freq, max_queue_size, workers, use_multiprocessing)\u001b[0m\n\u001b[1;32m   1775\u001b[0m \u001b[38;5;28;01mwith\u001b[39;00m tf\u001b[38;5;241m.\u001b[39mprofiler\u001b[38;5;241m.\u001b[39mexperimental\u001b[38;5;241m.\u001b[39mTrace(\n\u001b[1;32m   1776\u001b[0m     \u001b[38;5;124m\"\u001b[39m\u001b[38;5;124mtrain\u001b[39m\u001b[38;5;124m\"\u001b[39m,\n\u001b[1;32m   1777\u001b[0m     epoch_num\u001b[38;5;241m=\u001b[39mepoch,\n\u001b[0;32m   (...)\u001b[0m\n\u001b[1;32m   1780\u001b[0m     _r\u001b[38;5;241m=\u001b[39m\u001b[38;5;241m1\u001b[39m,\n\u001b[1;32m   1781\u001b[0m ):\n\u001b[1;32m   1782\u001b[0m     callbacks\u001b[38;5;241m.\u001b[39mon_train_batch_begin(step)\n\u001b[0;32m-> 1783\u001b[0m     tmp_logs \u001b[38;5;241m=\u001b[39m \u001b[38;5;28;43mself\u001b[39;49m\u001b[38;5;241;43m.\u001b[39;49m\u001b[43mtrain_function\u001b[49m\u001b[43m(\u001b[49m\u001b[43miterator\u001b[49m\u001b[43m)\u001b[49m\n\u001b[1;32m   1784\u001b[0m     \u001b[38;5;28;01mif\u001b[39;00m data_handler\u001b[38;5;241m.\u001b[39mshould_sync:\n\u001b[1;32m   1785\u001b[0m         context\u001b[38;5;241m.\u001b[39masync_wait()\n",
      "File \u001b[0;32m~/anaconda3/envs/seismic_purifier_test/lib/python3.10/site-packages/tensorflow/python/util/traceback_utils.py:150\u001b[0m, in \u001b[0;36mfilter_traceback.<locals>.error_handler\u001b[0;34m(*args, **kwargs)\u001b[0m\n\u001b[1;32m    148\u001b[0m filtered_tb \u001b[38;5;241m=\u001b[39m \u001b[38;5;28;01mNone\u001b[39;00m\n\u001b[1;32m    149\u001b[0m \u001b[38;5;28;01mtry\u001b[39;00m:\n\u001b[0;32m--> 150\u001b[0m   \u001b[38;5;28;01mreturn\u001b[39;00m \u001b[43mfn\u001b[49m\u001b[43m(\u001b[49m\u001b[38;5;241;43m*\u001b[39;49m\u001b[43margs\u001b[49m\u001b[43m,\u001b[49m\u001b[43m \u001b[49m\u001b[38;5;241;43m*\u001b[39;49m\u001b[38;5;241;43m*\u001b[39;49m\u001b[43mkwargs\u001b[49m\u001b[43m)\u001b[49m\n\u001b[1;32m    151\u001b[0m \u001b[38;5;28;01mexcept\u001b[39;00m \u001b[38;5;167;01mException\u001b[39;00m \u001b[38;5;28;01mas\u001b[39;00m e:\n\u001b[1;32m    152\u001b[0m   filtered_tb \u001b[38;5;241m=\u001b[39m _process_traceback_frames(e\u001b[38;5;241m.\u001b[39m__traceback__)\n",
      "File \u001b[0;32m~/anaconda3/envs/seismic_purifier_test/lib/python3.10/site-packages/tensorflow/python/eager/polymorphic_function/polymorphic_function.py:831\u001b[0m, in \u001b[0;36mFunction.__call__\u001b[0;34m(self, *args, **kwds)\u001b[0m\n\u001b[1;32m    828\u001b[0m compiler \u001b[38;5;241m=\u001b[39m \u001b[38;5;124m\"\u001b[39m\u001b[38;5;124mxla\u001b[39m\u001b[38;5;124m\"\u001b[39m \u001b[38;5;28;01mif\u001b[39;00m \u001b[38;5;28mself\u001b[39m\u001b[38;5;241m.\u001b[39m_jit_compile \u001b[38;5;28;01melse\u001b[39;00m \u001b[38;5;124m\"\u001b[39m\u001b[38;5;124mnonXla\u001b[39m\u001b[38;5;124m\"\u001b[39m\n\u001b[1;32m    830\u001b[0m \u001b[38;5;28;01mwith\u001b[39;00m OptionalXlaContext(\u001b[38;5;28mself\u001b[39m\u001b[38;5;241m.\u001b[39m_jit_compile):\n\u001b[0;32m--> 831\u001b[0m   result \u001b[38;5;241m=\u001b[39m \u001b[38;5;28;43mself\u001b[39;49m\u001b[38;5;241;43m.\u001b[39;49m\u001b[43m_call\u001b[49m\u001b[43m(\u001b[49m\u001b[38;5;241;43m*\u001b[39;49m\u001b[43margs\u001b[49m\u001b[43m,\u001b[49m\u001b[43m \u001b[49m\u001b[38;5;241;43m*\u001b[39;49m\u001b[38;5;241;43m*\u001b[39;49m\u001b[43mkwds\u001b[49m\u001b[43m)\u001b[49m\n\u001b[1;32m    833\u001b[0m new_tracing_count \u001b[38;5;241m=\u001b[39m \u001b[38;5;28mself\u001b[39m\u001b[38;5;241m.\u001b[39mexperimental_get_tracing_count()\n\u001b[1;32m    834\u001b[0m without_tracing \u001b[38;5;241m=\u001b[39m (tracing_count \u001b[38;5;241m==\u001b[39m new_tracing_count)\n",
      "File \u001b[0;32m~/anaconda3/envs/seismic_purifier_test/lib/python3.10/site-packages/tensorflow/python/eager/polymorphic_function/polymorphic_function.py:867\u001b[0m, in \u001b[0;36mFunction._call\u001b[0;34m(self, *args, **kwds)\u001b[0m\n\u001b[1;32m    864\u001b[0m   \u001b[38;5;28mself\u001b[39m\u001b[38;5;241m.\u001b[39m_lock\u001b[38;5;241m.\u001b[39mrelease()\n\u001b[1;32m    865\u001b[0m   \u001b[38;5;66;03m# In this case we have created variables on the first call, so we run the\u001b[39;00m\n\u001b[1;32m    866\u001b[0m   \u001b[38;5;66;03m# defunned version which is guaranteed to never create variables.\u001b[39;00m\n\u001b[0;32m--> 867\u001b[0m   \u001b[38;5;28;01mreturn\u001b[39;00m \u001b[43mtracing_compilation\u001b[49m\u001b[38;5;241;43m.\u001b[39;49m\u001b[43mcall_function\u001b[49m\u001b[43m(\u001b[49m\n\u001b[1;32m    868\u001b[0m \u001b[43m      \u001b[49m\u001b[43margs\u001b[49m\u001b[43m,\u001b[49m\u001b[43m \u001b[49m\u001b[43mkwds\u001b[49m\u001b[43m,\u001b[49m\u001b[43m \u001b[49m\u001b[38;5;28;43mself\u001b[39;49m\u001b[38;5;241;43m.\u001b[39;49m\u001b[43m_no_variable_creation_config\u001b[49m\n\u001b[1;32m    869\u001b[0m \u001b[43m  \u001b[49m\u001b[43m)\u001b[49m\n\u001b[1;32m    870\u001b[0m \u001b[38;5;28;01melif\u001b[39;00m \u001b[38;5;28mself\u001b[39m\u001b[38;5;241m.\u001b[39m_variable_creation_config \u001b[38;5;129;01mis\u001b[39;00m \u001b[38;5;129;01mnot\u001b[39;00m \u001b[38;5;28;01mNone\u001b[39;00m:\n\u001b[1;32m    871\u001b[0m   \u001b[38;5;66;03m# Release the lock early so that multiple threads can perform the call\u001b[39;00m\n\u001b[1;32m    872\u001b[0m   \u001b[38;5;66;03m# in parallel.\u001b[39;00m\n\u001b[1;32m    873\u001b[0m   \u001b[38;5;28mself\u001b[39m\u001b[38;5;241m.\u001b[39m_lock\u001b[38;5;241m.\u001b[39mrelease()\n",
      "File \u001b[0;32m~/anaconda3/envs/seismic_purifier_test/lib/python3.10/site-packages/tensorflow/python/eager/polymorphic_function/tracing_compilation.py:139\u001b[0m, in \u001b[0;36mcall_function\u001b[0;34m(args, kwargs, tracing_options)\u001b[0m\n\u001b[1;32m    137\u001b[0m bound_args \u001b[38;5;241m=\u001b[39m function\u001b[38;5;241m.\u001b[39mfunction_type\u001b[38;5;241m.\u001b[39mbind(\u001b[38;5;241m*\u001b[39margs, \u001b[38;5;241m*\u001b[39m\u001b[38;5;241m*\u001b[39mkwargs)\n\u001b[1;32m    138\u001b[0m flat_inputs \u001b[38;5;241m=\u001b[39m function\u001b[38;5;241m.\u001b[39mfunction_type\u001b[38;5;241m.\u001b[39munpack_inputs(bound_args)\n\u001b[0;32m--> 139\u001b[0m \u001b[38;5;28;01mreturn\u001b[39;00m \u001b[43mfunction\u001b[49m\u001b[38;5;241;43m.\u001b[39;49m\u001b[43m_call_flat\u001b[49m\u001b[43m(\u001b[49m\u001b[43m  \u001b[49m\u001b[38;5;66;43;03m# pylint: disable=protected-access\u001b[39;49;00m\n\u001b[1;32m    140\u001b[0m \u001b[43m    \u001b[49m\u001b[43mflat_inputs\u001b[49m\u001b[43m,\u001b[49m\u001b[43m \u001b[49m\u001b[43mcaptured_inputs\u001b[49m\u001b[38;5;241;43m=\u001b[39;49m\u001b[43mfunction\u001b[49m\u001b[38;5;241;43m.\u001b[39;49m\u001b[43mcaptured_inputs\u001b[49m\n\u001b[1;32m    141\u001b[0m \u001b[43m\u001b[49m\u001b[43m)\u001b[49m\n",
      "File \u001b[0;32m~/anaconda3/envs/seismic_purifier_test/lib/python3.10/site-packages/tensorflow/python/eager/polymorphic_function/concrete_function.py:1264\u001b[0m, in \u001b[0;36mConcreteFunction._call_flat\u001b[0;34m(self, tensor_inputs, captured_inputs)\u001b[0m\n\u001b[1;32m   1260\u001b[0m possible_gradient_type \u001b[38;5;241m=\u001b[39m gradients_util\u001b[38;5;241m.\u001b[39mPossibleTapeGradientTypes(args)\n\u001b[1;32m   1261\u001b[0m \u001b[38;5;28;01mif\u001b[39;00m (possible_gradient_type \u001b[38;5;241m==\u001b[39m gradients_util\u001b[38;5;241m.\u001b[39mPOSSIBLE_GRADIENT_TYPES_NONE\n\u001b[1;32m   1262\u001b[0m     \u001b[38;5;129;01mand\u001b[39;00m executing_eagerly):\n\u001b[1;32m   1263\u001b[0m   \u001b[38;5;66;03m# No tape is watching; skip to running the function.\u001b[39;00m\n\u001b[0;32m-> 1264\u001b[0m   \u001b[38;5;28;01mreturn\u001b[39;00m \u001b[38;5;28;43mself\u001b[39;49m\u001b[38;5;241;43m.\u001b[39;49m\u001b[43m_inference_function\u001b[49m\u001b[38;5;241;43m.\u001b[39;49m\u001b[43mflat_call\u001b[49m\u001b[43m(\u001b[49m\u001b[43margs\u001b[49m\u001b[43m)\u001b[49m\n\u001b[1;32m   1265\u001b[0m forward_backward \u001b[38;5;241m=\u001b[39m \u001b[38;5;28mself\u001b[39m\u001b[38;5;241m.\u001b[39m_select_forward_and_backward_functions(\n\u001b[1;32m   1266\u001b[0m     args,\n\u001b[1;32m   1267\u001b[0m     possible_gradient_type,\n\u001b[1;32m   1268\u001b[0m     executing_eagerly)\n\u001b[1;32m   1269\u001b[0m forward_function, args_with_tangents \u001b[38;5;241m=\u001b[39m forward_backward\u001b[38;5;241m.\u001b[39mforward()\n",
      "File \u001b[0;32m~/anaconda3/envs/seismic_purifier_test/lib/python3.10/site-packages/tensorflow/python/eager/polymorphic_function/atomic_function.py:217\u001b[0m, in \u001b[0;36mAtomicFunction.flat_call\u001b[0;34m(self, args)\u001b[0m\n\u001b[1;32m    215\u001b[0m \u001b[38;5;28;01mdef\u001b[39;00m \u001b[38;5;21mflat_call\u001b[39m(\u001b[38;5;28mself\u001b[39m, args: Sequence[core\u001b[38;5;241m.\u001b[39mTensor]) \u001b[38;5;241m-\u001b[39m\u001b[38;5;241m>\u001b[39m Any:\n\u001b[1;32m    216\u001b[0m \u001b[38;5;250m  \u001b[39m\u001b[38;5;124;03m\"\"\"Calls with tensor inputs and returns the structured output.\"\"\"\u001b[39;00m\n\u001b[0;32m--> 217\u001b[0m   flat_outputs \u001b[38;5;241m=\u001b[39m \u001b[38;5;28;43mself\u001b[39;49m\u001b[43m(\u001b[49m\u001b[38;5;241;43m*\u001b[39;49m\u001b[43margs\u001b[49m\u001b[43m)\u001b[49m\n\u001b[1;32m    218\u001b[0m   \u001b[38;5;28;01mreturn\u001b[39;00m \u001b[38;5;28mself\u001b[39m\u001b[38;5;241m.\u001b[39mfunction_type\u001b[38;5;241m.\u001b[39mpack_output(flat_outputs)\n",
      "File \u001b[0;32m~/anaconda3/envs/seismic_purifier_test/lib/python3.10/site-packages/tensorflow/python/eager/polymorphic_function/atomic_function.py:252\u001b[0m, in \u001b[0;36mAtomicFunction.__call__\u001b[0;34m(self, *args)\u001b[0m\n\u001b[1;32m    250\u001b[0m \u001b[38;5;28;01mwith\u001b[39;00m record\u001b[38;5;241m.\u001b[39mstop_recording():\n\u001b[1;32m    251\u001b[0m   \u001b[38;5;28;01mif\u001b[39;00m \u001b[38;5;28mself\u001b[39m\u001b[38;5;241m.\u001b[39m_bound_context\u001b[38;5;241m.\u001b[39mexecuting_eagerly():\n\u001b[0;32m--> 252\u001b[0m     outputs \u001b[38;5;241m=\u001b[39m \u001b[38;5;28;43mself\u001b[39;49m\u001b[38;5;241;43m.\u001b[39;49m\u001b[43m_bound_context\u001b[49m\u001b[38;5;241;43m.\u001b[39;49m\u001b[43mcall_function\u001b[49m\u001b[43m(\u001b[49m\n\u001b[1;32m    253\u001b[0m \u001b[43m        \u001b[49m\u001b[38;5;28;43mself\u001b[39;49m\u001b[38;5;241;43m.\u001b[39;49m\u001b[43mname\u001b[49m\u001b[43m,\u001b[49m\n\u001b[1;32m    254\u001b[0m \u001b[43m        \u001b[49m\u001b[38;5;28;43mlist\u001b[39;49m\u001b[43m(\u001b[49m\u001b[43margs\u001b[49m\u001b[43m)\u001b[49m\u001b[43m,\u001b[49m\n\u001b[1;32m    255\u001b[0m \u001b[43m        \u001b[49m\u001b[38;5;28;43mlen\u001b[39;49m\u001b[43m(\u001b[49m\u001b[38;5;28;43mself\u001b[39;49m\u001b[38;5;241;43m.\u001b[39;49m\u001b[43mfunction_type\u001b[49m\u001b[38;5;241;43m.\u001b[39;49m\u001b[43mflat_outputs\u001b[49m\u001b[43m)\u001b[49m\u001b[43m,\u001b[49m\n\u001b[1;32m    256\u001b[0m \u001b[43m    \u001b[49m\u001b[43m)\u001b[49m\n\u001b[1;32m    257\u001b[0m   \u001b[38;5;28;01melse\u001b[39;00m:\n\u001b[1;32m    258\u001b[0m     outputs \u001b[38;5;241m=\u001b[39m make_call_op_in_graph(\n\u001b[1;32m    259\u001b[0m         \u001b[38;5;28mself\u001b[39m,\n\u001b[1;32m    260\u001b[0m         \u001b[38;5;28mlist\u001b[39m(args),\n\u001b[1;32m    261\u001b[0m         \u001b[38;5;28mself\u001b[39m\u001b[38;5;241m.\u001b[39m_bound_context\u001b[38;5;241m.\u001b[39mfunction_call_options\u001b[38;5;241m.\u001b[39mas_attrs(),\n\u001b[1;32m    262\u001b[0m     )\n",
      "File \u001b[0;32m~/anaconda3/envs/seismic_purifier_test/lib/python3.10/site-packages/tensorflow/python/eager/context.py:1479\u001b[0m, in \u001b[0;36mContext.call_function\u001b[0;34m(self, name, tensor_inputs, num_outputs)\u001b[0m\n\u001b[1;32m   1477\u001b[0m cancellation_context \u001b[38;5;241m=\u001b[39m cancellation\u001b[38;5;241m.\u001b[39mcontext()\n\u001b[1;32m   1478\u001b[0m \u001b[38;5;28;01mif\u001b[39;00m cancellation_context \u001b[38;5;129;01mis\u001b[39;00m \u001b[38;5;28;01mNone\u001b[39;00m:\n\u001b[0;32m-> 1479\u001b[0m   outputs \u001b[38;5;241m=\u001b[39m \u001b[43mexecute\u001b[49m\u001b[38;5;241;43m.\u001b[39;49m\u001b[43mexecute\u001b[49m\u001b[43m(\u001b[49m\n\u001b[1;32m   1480\u001b[0m \u001b[43m      \u001b[49m\u001b[43mname\u001b[49m\u001b[38;5;241;43m.\u001b[39;49m\u001b[43mdecode\u001b[49m\u001b[43m(\u001b[49m\u001b[38;5;124;43m\"\u001b[39;49m\u001b[38;5;124;43mutf-8\u001b[39;49m\u001b[38;5;124;43m\"\u001b[39;49m\u001b[43m)\u001b[49m\u001b[43m,\u001b[49m\n\u001b[1;32m   1481\u001b[0m \u001b[43m      \u001b[49m\u001b[43mnum_outputs\u001b[49m\u001b[38;5;241;43m=\u001b[39;49m\u001b[43mnum_outputs\u001b[49m\u001b[43m,\u001b[49m\n\u001b[1;32m   1482\u001b[0m \u001b[43m      \u001b[49m\u001b[43minputs\u001b[49m\u001b[38;5;241;43m=\u001b[39;49m\u001b[43mtensor_inputs\u001b[49m\u001b[43m,\u001b[49m\n\u001b[1;32m   1483\u001b[0m \u001b[43m      \u001b[49m\u001b[43mattrs\u001b[49m\u001b[38;5;241;43m=\u001b[39;49m\u001b[43mattrs\u001b[49m\u001b[43m,\u001b[49m\n\u001b[1;32m   1484\u001b[0m \u001b[43m      \u001b[49m\u001b[43mctx\u001b[49m\u001b[38;5;241;43m=\u001b[39;49m\u001b[38;5;28;43mself\u001b[39;49m\u001b[43m,\u001b[49m\n\u001b[1;32m   1485\u001b[0m \u001b[43m  \u001b[49m\u001b[43m)\u001b[49m\n\u001b[1;32m   1486\u001b[0m \u001b[38;5;28;01melse\u001b[39;00m:\n\u001b[1;32m   1487\u001b[0m   outputs \u001b[38;5;241m=\u001b[39m execute\u001b[38;5;241m.\u001b[39mexecute_with_cancellation(\n\u001b[1;32m   1488\u001b[0m       name\u001b[38;5;241m.\u001b[39mdecode(\u001b[38;5;124m\"\u001b[39m\u001b[38;5;124mutf-8\u001b[39m\u001b[38;5;124m\"\u001b[39m),\n\u001b[1;32m   1489\u001b[0m       num_outputs\u001b[38;5;241m=\u001b[39mnum_outputs,\n\u001b[0;32m   (...)\u001b[0m\n\u001b[1;32m   1493\u001b[0m       cancellation_manager\u001b[38;5;241m=\u001b[39mcancellation_context,\n\u001b[1;32m   1494\u001b[0m   )\n",
      "File \u001b[0;32m~/anaconda3/envs/seismic_purifier_test/lib/python3.10/site-packages/tensorflow/python/eager/execute.py:60\u001b[0m, in \u001b[0;36mquick_execute\u001b[0;34m(op_name, num_outputs, inputs, attrs, ctx, name)\u001b[0m\n\u001b[1;32m     53\u001b[0m   \u001b[38;5;66;03m# Convert any objects of type core_types.Tensor to Tensor.\u001b[39;00m\n\u001b[1;32m     54\u001b[0m   inputs \u001b[38;5;241m=\u001b[39m [\n\u001b[1;32m     55\u001b[0m       tensor_conversion_registry\u001b[38;5;241m.\u001b[39mconvert(t)\n\u001b[1;32m     56\u001b[0m       \u001b[38;5;28;01mif\u001b[39;00m \u001b[38;5;28misinstance\u001b[39m(t, core_types\u001b[38;5;241m.\u001b[39mTensor)\n\u001b[1;32m     57\u001b[0m       \u001b[38;5;28;01melse\u001b[39;00m t\n\u001b[1;32m     58\u001b[0m       \u001b[38;5;28;01mfor\u001b[39;00m t \u001b[38;5;129;01min\u001b[39;00m inputs\n\u001b[1;32m     59\u001b[0m   ]\n\u001b[0;32m---> 60\u001b[0m   tensors \u001b[38;5;241m=\u001b[39m \u001b[43mpywrap_tfe\u001b[49m\u001b[38;5;241;43m.\u001b[39;49m\u001b[43mTFE_Py_Execute\u001b[49m\u001b[43m(\u001b[49m\u001b[43mctx\u001b[49m\u001b[38;5;241;43m.\u001b[39;49m\u001b[43m_handle\u001b[49m\u001b[43m,\u001b[49m\u001b[43m \u001b[49m\u001b[43mdevice_name\u001b[49m\u001b[43m,\u001b[49m\u001b[43m \u001b[49m\u001b[43mop_name\u001b[49m\u001b[43m,\u001b[49m\n\u001b[1;32m     61\u001b[0m \u001b[43m                                      \u001b[49m\u001b[43minputs\u001b[49m\u001b[43m,\u001b[49m\u001b[43m \u001b[49m\u001b[43mattrs\u001b[49m\u001b[43m,\u001b[49m\u001b[43m \u001b[49m\u001b[43mnum_outputs\u001b[49m\u001b[43m)\u001b[49m\n\u001b[1;32m     62\u001b[0m \u001b[38;5;28;01mexcept\u001b[39;00m core\u001b[38;5;241m.\u001b[39m_NotOkStatusException \u001b[38;5;28;01mas\u001b[39;00m e:\n\u001b[1;32m     63\u001b[0m   \u001b[38;5;28;01mif\u001b[39;00m name \u001b[38;5;129;01mis\u001b[39;00m \u001b[38;5;129;01mnot\u001b[39;00m \u001b[38;5;28;01mNone\u001b[39;00m:\n",
      "\u001b[0;31mKeyboardInterrupt\u001b[0m: "
     ]
    }
   ],
   "source": [
    "# For all splits, train the model over\n",
    "for train_dataset in DATASETS:\n",
    "    for model_class in MODEL_CLASSES:\n",
    "        for split in range(KFOLD_SPLITS):\n",
    "            kfold_trainer = KfoldTrainer(\n",
    "                EXP_NAME, model_class, train_dataset, split, epochs=NUM_EPOCHS\n",
    "            )\n",
    "            kfold_trainer.train()"
   ]
  }
 ],
 "metadata": {
  "kernelspec": {
   "display_name": "Python 3",
   "language": "python",
   "name": "python3"
  },
  "language_info": {
   "codemirror_mode": {
    "name": "ipython",
    "version": 3
   },
   "file_extension": ".py",
   "mimetype": "text/x-python",
   "name": "python",
   "nbconvert_exporter": "python",
   "pygments_lexer": "ipython3",
   "version": "3.10.14"
  }
 },
 "nbformat": 4,
 "nbformat_minor": 2
}
