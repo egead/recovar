{
 "cells": [
  {
   "cell_type": "code",
   "execution_count": 3,
   "metadata": {},
   "outputs": [],
   "source": [
    "import tensorflow as tf\n",
    "from tensorflow import keras\n",
    "import numpy as np\n",
    "import os\n",
    "from seismic_purifier.config import BATCH_SIZE\n",
    "from seismic_purifier.representation_learning_models import (\n",
    "    RepresentationLearningAutoencoder,\n",
    "    RepresentationLearningDenoisingAutoencoder,\n",
    "    RepresentationLearningAutoencoderEnsemble\n",
    ")\n",
    "from seismic_purifier.classifier_models import (\n",
    "    ClassifierAutocovariance, \n",
    "    ClassifierAugmentationCrossCovariances, \n",
    "    ClassifierRepresentationCrossCovariances\n",
    ")"
   ]
  },
  {
   "cell_type": "code",
   "execution_count": 4,
   "metadata": {},
   "outputs": [],
   "source": [
    "# ============================\n",
    "# 1. Configuration\n",
    "# ============================\n",
    "\n",
    "# Paths to your data\n",
    "TRAIN_DATA_PATH = 'data/train_data.npy'  # Replace with your actual path\n",
    "VAL_DATA_PATH = 'data/val_data.npy'  # Replace with your actual path\n",
    "TEST_DATA_PATH = 'data/test_data.npy'  # Replace with your actual path\n",
    "\n",
    "# Directory to save checkpoints and the final model\n",
    "CHECKPOINT_DIR = 'checkpoints'\n",
    "MODEL_SAVE_PATH = 'saved_models/autoencoder_model'\n",
    "\n",
    "# Training parameters\n",
    "EPOCHS = 50\n",
    "LEARNING_RATE = 1e-4"
   ]
  },
  {
   "cell_type": "code",
   "execution_count": null,
   "metadata": {},
   "outputs": [],
   "source": [
    "# Ensure directories exist\n",
    "os.makedirs(CHECKPOINT_DIR, exist_ok=True)\n",
    "os.makedirs(os.path.dirname(MODEL_SAVE_PATH), exist_ok=True)\n",
    "\n",
    "# ============================\n",
    "# 2. Data loading\n",
    "# ============================\n",
    "X_train = np.load(TRAIN_DATA_PATH)  # Expected shape: (num_samples, 3000, 3)\n",
    "print(f\"Training data shape: {X_train.shape}\")\n",
    "\n",
    "X_val = np.load(VAL_DATA_PATH)  # Expected shape: (num_samples, 3000, 3)\n",
    "print(f\"Validation data shape: {X_val.shape}\")\n",
    "\n",
    "X_test = np.load(TEST_DATA_PATH)\n",
    "print(f\"Test data shape: {X_test.shape}\")"
   ]
  },
  {
   "cell_type": "code",
   "execution_count": null,
   "metadata": {},
   "outputs": [],
   "source": [
    "# ============================\n",
    "# 3. Representation Learning Model Instantiation\n",
    "# ============================\n",
    "\n",
    "# Choose the model you want to train\n",
    "# For example, using RepresentationLearningAutoencoder\n",
    "model = RepresentationLearningAutoencoder(\n",
    "    name=\"rep_learning_autoencoder\"\n",
    ")\n",
    "\n",
    "# Alternatively, you can choose other models:\n",
    "# model = RepresentationLearningDenoisingAutoencoder(\n",
    "#     name=\"rep_learning_denoising_autoencoder\",\n",
    "#     input_noise_std=1e-6,\n",
    "#     denoising_noise_std=2e-1\n",
    "# )\n",
    "# model = RepresentationLearningAutoencoderEnsemble(\n",
    "#     name=\"rep_learning_autoencoder_ensemble\",\n",
    "#     input_noise_std=1e-6,\n",
    "#     eps=1e-27\n",
    "# )"
   ]
  },
  {
   "cell_type": "code",
   "execution_count": null,
   "metadata": {},
   "outputs": [],
   "source": [
    "# ============================\n",
    "# 4. Model Compilation\n",
    "# ============================\n",
    "optimizer = keras.optimizers.Adam(learning_rate=LEARNING_RATE) \n",
    "model.compile(optimizer=optimizer)"
   ]
  },
  {
   "cell_type": "code",
   "execution_count": null,
   "metadata": {},
   "outputs": [],
   "source": [
    "# ============================\n",
    "# 5. Callbacks Setup\n",
    "# ============================\n",
    "# Define callbacks for saving checkpoints, early stopping.\n",
    "callbacks = [\n",
    "    keras.callbacks.ModelCheckpoint(\n",
    "        filepath=os.path.join(CHECKPOINT_DIR, 'autoencoder_epoch_{epoch:02d}.ckpt'),\n",
    "        save_weights_only=True,\n",
    "        save_freq='epoch',\n",
    "        verbose=1\n",
    "    ),\n",
    "    keras.callbacks.EarlyStopping(\n",
    "        monitor='val_loss',\n",
    "        patience=2,\n",
    "        restore_best_weights=True,\n",
    "        verbose=1\n",
    "    )\n",
    "]"
   ]
  },
  {
   "cell_type": "code",
   "execution_count": null,
   "metadata": {},
   "outputs": [],
   "source": [
    "# ============================\n",
    "# 6. Training the Representation Learning Model and Save.\n",
    "# ============================\n",
    "fit_result = model.fit(X_train, \n",
    "                       validation_data=X_val, \n",
    "                       epochs=EPOCHS, \n",
    "                       batch_size=BATCH_SIZE, \n",
    "                       callbacks=callbacks, \n",
    "                       shuffle=False)\n",
    "\n",
    "model.save(MODEL_SAVE_PATH)\n",
    "print(f\"Model saved to {MODEL_SAVE_PATH}\")"
   ]
  },
  {
   "cell_type": "code",
   "execution_count": null,
   "metadata": {},
   "outputs": [],
   "source": [
    "# ============================\n",
    "# 7. Classifier Model Instantiation\n",
    "# ============================\n",
    "\n",
    "# Choose the model for classification. This is just for convenience, these models are actually wrappers around\n",
    "#representation learning models.\n",
    "# For example, using RepresentationLearningAutoencoder\n",
    "model_classifier = ClassifierAutocovariance(model)\n",
    "\n",
    "# Alternatively, you can choose other wrappers. \n",
    "# model_classifier = ClassifierAugmentationCrossCovariances(model)\n",
    "# model_classifier = ClassifierRepresentationCrossCovariances(model)\n",
    "\n",
    "\"\"\"Note: One should be careful about the compatibility of the classifier wrappers with the models. RepresentationLearningAutoencoder and RepresentationLearningDenoising\n",
    "Autoencoder are compatible with ClassifierAutocovariance, ClassifierAugmentationCrossCovariances. However, RepresentationLearningAutoencoderEnsemble is only compatible with \n",
    "ClassifierRepresentationCrossCovariances. \"\"\""
   ]
  },
  {
   "cell_type": "code",
   "execution_count": null,
   "metadata": {},
   "outputs": [],
   "source": [
    "# ============================\n",
    "# 8. Obtain earthquake probabilities(unnormalized)\n",
    "# ============================\n",
    "earthquake_scores = model_classifier(X_test)"
   ]
  }
 ],
 "metadata": {
  "kernelspec": {
   "display_name": "seismic_purifier_test",
   "language": "python",
   "name": "python3"
  },
  "language_info": {
   "codemirror_mode": {
    "name": "ipython",
    "version": 3
   },
   "file_extension": ".py",
   "mimetype": "text/x-python",
   "name": "python",
   "nbconvert_exporter": "python",
   "pygments_lexer": "ipython3",
   "version": "3.10.14"
  }
 },
 "nbformat": 4,
 "nbformat_minor": 2
}
