{
 "cells": [
  {
   "attachments": {},
   "cell_type": "markdown",
   "metadata": {},
   "source": [
    "# HOW TO USE THESE SCRIPTS"
   ]
  },
  {
   "attachments": {},
   "cell_type": "markdown",
   "metadata": {},
   "source": [
    "## SETTING UP THE ENVIRONMENT\n",
    "First of all STEAD and INSTANCE dataset must be downloaded. Then STEAD dataset will involve a csv file and a hdf5 file while INSTANCE dataset would have seperate files for noise and earthquake waveforms. After downloading properly, config file (config.py) must be modified accordingly. After proper configuration, datasets must be preprocessed in order to optimize training and testing procedures. In the optimization process each dataset is split into chunks which will be grouped for kfold training and testing purposes afterwards. \"KFoldEnvironment\" class governs forming proper splits and chunks. At the end, some of the chunks will be used for training, some of them for validation and testing. This will be done for each split. "
   ]
  },
  {
   "attachments": {},
   "cell_type": "markdown",
   "metadata": {},
   "source": [
    "\n",
    "## TRAINING MODELS\n",
    "After preprocessed datasets are generated (it can take upto 2-3hours per dataset), training can be done. \"Trainer\" class governs training processes. Training can only be done split based(although testing is rather flexible, for training at this version of the software, all of the chunks included in the training set of split must be used). Training is done at the models in \"detector_models.py\" file since models are split to two classes. Please note that training is done compatible with Kfold validation. Trainer itself generates a kfold environment to be used for training implicitly."
   ]
  },
  {
   "cell_type": "code",
   "execution_count": null,
   "metadata": {},
   "outputs": [],
   "source": [
    "from detector_models import AutocovarianceDetector30s\n",
    "from trainer import Trainer\n",
    "\n",
    "# Create a trainer object.\n",
    "trainer = Trainer(\n",
    "    model_ctor=AutocovarianceDetector30s,\n",
    ")\n",
    "\n",
    "# Train the model on INSTANCE dataset with learning rate 1e-4 and epsilon 1e-7. Training is done on folds 0, 1, 2, 3, 4.\n",
    "trainer.train(\n",
    "    \"instance\",\n",
    "    epochs=1,\n",
    "    learning_rate=1e-4,\n",
    "    epsilon=1e-7,\n",
    "    splits=[0, 1],\n",
    ")"
   ]
  },
  {
   "attachments": {},
   "cell_type": "markdown",
   "metadata": {},
   "source": [
    "## TESTING MODELS\n",
    "Testing models encapsulates monitoring the hidden layers or some variables of the model rather then running classification algorithm directly. Classification is done by using the variables stored afterwards. Models are composed of two different classes, \"detector\" and \"monitor\" models namely. Detector models are the models which can be trained while monitor models are used to monitor different variables for the application of some methods. As a result, monitor models are not actually models in a classical sense; they are just constructs used for classification purposes.\n",
    "\n",
    "In order to test models, two different kfold environment should be formed. One of them will be the training environment."
   ]
  },
  {
   "cell_type": "code",
   "execution_count": null,
   "metadata": {},
   "outputs": [],
   "source": [
    "from detector_models import AutocovarianceDetector30s\n",
    "from monitor_models import AutocovarianceMonitor30s\n",
    "from kfold_environment import KFoldEnvironment\n",
    "from tester import KFoldTester\n",
    "\n",
    "# Form train environment. \n",
    "train_kenv = KFoldEnvironment(\n",
    "    dataset=\"instance\",\n",
    "        subsampling_factor=1.0,\n",
    "    )\n",
    "\n",
    "# Form test environment.\n",
    "test_kenv = KFoldEnvironment(\n",
    "    dataset=\"stead\",\n",
    "    subsampling_factor=1.0,\n",
    ")\n",
    "\n",
    "# Create a tester object. Constructors from detector and monitor models should be specified.\n",
    "tester = KFoldTester(\n",
    "    train_environment=train_kenv,\n",
    "    test_environment=test_kenv,\n",
    "    detector_ctor=AutocovarianceDetector30s,\n",
    "    monitor_ctor=AutocovarianceMonitor30s,\n",
    ")\n",
    "\n",
    "# Test the model on folds 0. Monitoring results will be stored on \n",
    "# {HOME_DIR}/results{exp_name}/training_{train_dataset}/test_{test_dataset}/{monitor_model_name}/split_{split_number}/epoch{epoch}_monitoredparams{monitor_params}.hdf5\n",
    "# Besides at the same directory traces.csv file is generated. This file contains the traces of the monitored parameters in the same order with the hdf5 file. \n",
    "tester.test(\n",
    "    exp_name=\"autocovariance_detector_30s\",\n",
    "    splits=[0],\n",
    "    monitor_params=[\"fcov\"],\n",
    "    method_params={\"epoch\": 19},\n",
    ")"
   ]
  }
 ],
 "metadata": {
  "kernelspec": {
   "display_name": "tf",
   "language": "python",
   "name": "python3"
  },
  "language_info": {
   "codemirror_mode": {
    "name": "ipython",
    "version": 3
   },
   "file_extension": ".py",
   "mimetype": "text/x-python",
   "name": "python",
   "nbconvert_exporter": "python",
   "pygments_lexer": "ipython3",
   "version": "3.10.9"
  },
  "orig_nbformat": 4
 },
 "nbformat": 4,
 "nbformat_minor": 2
}
