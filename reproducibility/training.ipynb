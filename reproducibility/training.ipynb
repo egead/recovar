{
 "cells": [
  {
   "cell_type": "code",
   "execution_count": 1,
   "metadata": {},
   "outputs": [
    {
     "name": "stderr",
     "output_type": "stream",
     "text": [
      "2024-09-21 23:40:10.548104: I tensorflow/core/util/port.cc:111] oneDNN custom operations are on. You may see slightly different numerical results due to floating-point round-off errors from different computation orders. To turn them off, set the environment variable `TF_ENABLE_ONEDNN_OPTS=0`.\n",
      "2024-09-21 23:40:10.567099: E tensorflow/compiler/xla/stream_executor/cuda/cuda_dnn.cc:9342] Unable to register cuDNN factory: Attempting to register factory for plugin cuDNN when one has already been registered\n",
      "2024-09-21 23:40:10.567119: E tensorflow/compiler/xla/stream_executor/cuda/cuda_fft.cc:609] Unable to register cuFFT factory: Attempting to register factory for plugin cuFFT when one has already been registered\n",
      "2024-09-21 23:40:10.567132: E tensorflow/compiler/xla/stream_executor/cuda/cuda_blas.cc:1518] Unable to register cuBLAS factory: Attempting to register factory for plugin cuBLAS when one has already been registered\n",
      "2024-09-21 23:40:10.571043: I tensorflow/core/platform/cpu_feature_guard.cc:182] This TensorFlow binary is optimized to use available CPU instructions in performance-critical operations.\n",
      "To enable the following instructions: AVX2 AVX_VNNI FMA, in other operations, rebuild TensorFlow with the appropriate compiler flags.\n"
     ]
    }
   ],
   "source": [
    "from seismic_purifier import RepresentationLearningAutoencoder, RepresentationLearningDenoisingAutoencoder, RepresentationLearningAutoencoderEnsemble\n",
    "from kfold_trainer import KfoldTrainer\n",
    "from config import KFOLD_SPLITS"
   ]
  },
  {
   "cell_type": "code",
   "execution_count": 2,
   "metadata": {},
   "outputs": [
    {
     "ename": "",
     "evalue": "",
     "output_type": "error",
     "traceback": [
      "\u001b[1;31mThe Kernel crashed while executing code in the current cell or a previous cell. \n",
      "\u001b[1;31mPlease review the code in the cell(s) to identify a possible cause of the failure. \n",
      "\u001b[1;31mClick <a href='https://aka.ms/vscodeJupyterKernelCrash'>here</a> for more info. \n",
      "\u001b[1;31mView Jupyter <a href='command:jupyter.viewOutput'>log</a> for further details."
     ]
    }
   ],
   "source": [
    "# Experiment name.\n",
    "EXP_NAME = \"exp_test\"\n",
    "\n",
    "# Should be one of the RepresentationLearningAutoencoder, RepresentationLearningDenoisingAutoencoder, RepresentationLearningAutoencoderEnsemble\n",
    "MODEL_CLASSES = [RepresentationLearningAutoencoder, RepresentationLearningDenoisingAutoencoder, RepresentationLearningAutoencoderEnsemble]\n",
    "\n",
    "# Should be stead or instance.\n",
    "DATASETS = [\"instance\", \"stead\"]\n",
    "\n",
    "# Number of epochs\n",
    "NUM_EPOCHS = 10"
   ]
  },
  {
   "cell_type": "code",
   "execution_count": 3,
   "metadata": {},
   "outputs": [
    {
     "name": "stderr",
     "output_type": "stream",
     "text": [
      "2024-09-21 23:40:11.615158: I tensorflow/compiler/xla/stream_executor/cuda/cuda_gpu_executor.cc:894] successful NUMA node read from SysFS had negative value (-1), but there must be at least one NUMA node, so returning NUMA node zero. See more at https://github.com/torvalds/linux/blob/v6.0/Documentation/ABI/testing/sysfs-bus-pci#L344-L355\n",
      "2024-09-21 23:40:11.630630: I tensorflow/compiler/xla/stream_executor/cuda/cuda_gpu_executor.cc:894] successful NUMA node read from SysFS had negative value (-1), but there must be at least one NUMA node, so returning NUMA node zero. See more at https://github.com/torvalds/linux/blob/v6.0/Documentation/ABI/testing/sysfs-bus-pci#L344-L355\n",
      "2024-09-21 23:40:11.630718: I tensorflow/compiler/xla/stream_executor/cuda/cuda_gpu_executor.cc:894] successful NUMA node read from SysFS had negative value (-1), but there must be at least one NUMA node, so returning NUMA node zero. See more at https://github.com/torvalds/linux/blob/v6.0/Documentation/ABI/testing/sysfs-bus-pci#L344-L355\n",
      "2024-09-21 23:40:11.631400: I tensorflow/compiler/xla/stream_executor/cuda/cuda_gpu_executor.cc:894] successful NUMA node read from SysFS had negative value (-1), but there must be at least one NUMA node, so returning NUMA node zero. See more at https://github.com/torvalds/linux/blob/v6.0/Documentation/ABI/testing/sysfs-bus-pci#L344-L355\n",
      "2024-09-21 23:40:11.631459: I tensorflow/compiler/xla/stream_executor/cuda/cuda_gpu_executor.cc:894] successful NUMA node read from SysFS had negative value (-1), but there must be at least one NUMA node, so returning NUMA node zero. See more at https://github.com/torvalds/linux/blob/v6.0/Documentation/ABI/testing/sysfs-bus-pci#L344-L355\n",
      "2024-09-21 23:40:11.631498: I tensorflow/compiler/xla/stream_executor/cuda/cuda_gpu_executor.cc:894] successful NUMA node read from SysFS had negative value (-1), but there must be at least one NUMA node, so returning NUMA node zero. See more at https://github.com/torvalds/linux/blob/v6.0/Documentation/ABI/testing/sysfs-bus-pci#L344-L355\n",
      "2024-09-21 23:40:11.913463: I tensorflow/compiler/xla/stream_executor/cuda/cuda_gpu_executor.cc:894] successful NUMA node read from SysFS had negative value (-1), but there must be at least one NUMA node, so returning NUMA node zero. See more at https://github.com/torvalds/linux/blob/v6.0/Documentation/ABI/testing/sysfs-bus-pci#L344-L355\n",
      "2024-09-21 23:40:11.913545: I tensorflow/compiler/xla/stream_executor/cuda/cuda_gpu_executor.cc:894] successful NUMA node read from SysFS had negative value (-1), but there must be at least one NUMA node, so returning NUMA node zero. See more at https://github.com/torvalds/linux/blob/v6.0/Documentation/ABI/testing/sysfs-bus-pci#L344-L355\n",
      "2024-09-21 23:40:11.913596: I tensorflow/compiler/xla/stream_executor/cuda/cuda_gpu_executor.cc:894] successful NUMA node read from SysFS had negative value (-1), but there must be at least one NUMA node, so returning NUMA node zero. See more at https://github.com/torvalds/linux/blob/v6.0/Documentation/ABI/testing/sysfs-bus-pci#L344-L355\n",
      "2024-09-21 23:40:11.913634: I tensorflow/core/common_runtime/gpu/gpu_device.cc:1886] Created device /job:localhost/replica:0/task:0/device:GPU:0 with 21729 MB memory:  -> device: 0, name: NVIDIA GeForce RTX 3090 Ti, pci bus id: 0000:01:00.0, compute capability: 8.6\n",
      "/home/onur/Desktop/GitRepos/SeismicPurifier/reproducibility/kfold_environment.py:427: DtypeWarning: Columns (23,24,26,27) have mixed types. Specify dtype option on import or set low_memory=False.\n",
      "  eq_metadata = pd.read_csv(eq_metadata_csv)\n",
      "2024-09-21 23:40:31.421959: I tensorflow/compiler/xla/stream_executor/cuda/cuda_dnn.cc:442] Loaded cuDNN version 8700\n"
     ]
    },
    {
     "name": "stdout",
     "output_type": "stream",
     "text": [
      "Epoch 1/10\n"
     ]
    },
    {
     "name": "stderr",
     "output_type": "stream",
     "text": [
      "2024-09-21 23:40:35.524439: I tensorflow/compiler/xla/service/service.cc:168] XLA service 0x7fc5c00058d0 initialized for platform CUDA (this does not guarantee that XLA will be used). Devices:\n",
      "2024-09-21 23:40:35.524464: I tensorflow/compiler/xla/service/service.cc:176]   StreamExecutor device (0): NVIDIA GeForce RTX 3090 Ti, Compute Capability 8.6\n",
      "2024-09-21 23:40:35.528172: I tensorflow/compiler/mlir/tensorflow/utils/dump_mlir_util.cc:269] disabling MLIR crash reproducer, set env var `MLIR_CRASH_REPRODUCER_DIRECTORY` to enable.\n",
      "2024-09-21 23:40:35.579329: I ./tensorflow/compiler/jit/device_compiler.h:186] Compiled cluster using XLA!  This line is logged at most once for the lifetime of the process.\n"
     ]
    },
    {
     "name": "stdout",
     "output_type": "stream",
     "text": [
      "3019/3019 [==============================] - 92s 28ms/step - loss: 1.0380 - val_loss: 1.1866\n",
      "Epoch 2/10\n",
      "3019/3019 [==============================] - 86s 29ms/step - loss: 0.9055 - val_loss: 0.8411\n",
      "Epoch 3/10\n",
      "3019/3019 [==============================] - 86s 28ms/step - loss: 0.8072 - val_loss: 0.7824\n",
      "Epoch 4/10\n",
      "3019/3019 [==============================] - 85s 28ms/step - loss: 0.7657 - val_loss: 0.7498\n",
      "Epoch 5/10\n",
      "3019/3019 [==============================] - 85s 28ms/step - loss: 0.6750 - val_loss: 0.6372\n",
      "Epoch 6/10\n",
      "3019/3019 [==============================] - 85s 28ms/step - loss: 0.6032 - val_loss: 0.5835\n",
      "Epoch 7/10\n",
      "3019/3019 [==============================] - 86s 28ms/step - loss: 0.5646 - val_loss: 0.5596\n",
      "Epoch 8/10\n",
      "3019/3019 [==============================] - 85s 28ms/step - loss: 0.5360 - val_loss: 0.5235\n",
      "Epoch 9/10\n",
      "3019/3019 [==============================] - 85s 28ms/step - loss: 0.5001 - val_loss: 0.4963\n",
      "Epoch 10/10\n",
      "3019/3019 [==============================] - 85s 28ms/step - loss: 0.4782 - val_loss: 0.4751\n"
     ]
    },
    {
     "name": "stderr",
     "output_type": "stream",
     "text": [
      "/home/onur/Desktop/GitRepos/SeismicPurifier/reproducibility/kfold_environment.py:427: DtypeWarning: Columns (23,24,26,27) have mixed types. Specify dtype option on import or set low_memory=False.\n",
      "  eq_metadata = pd.read_csv(eq_metadata_csv)\n"
     ]
    },
    {
     "name": "stdout",
     "output_type": "stream",
     "text": [
      "Epoch 1/10\n",
      "3019/3019 [==============================] - 90s 28ms/step - loss: 1.0419 - val_loss: 1.2690\n",
      "Epoch 2/10\n",
      "3019/3019 [==============================] - 85s 28ms/step - loss: 0.9129 - val_loss: 0.8483\n",
      "Epoch 3/10\n",
      "3019/3019 [==============================] - 85s 28ms/step - loss: 0.8167 - val_loss: 0.7907\n",
      "Epoch 4/10\n",
      "3019/3019 [==============================] - 85s 28ms/step - loss: 0.7779 - val_loss: 0.7708\n",
      "Epoch 5/10\n",
      "3019/3019 [==============================] - 84s 28ms/step - loss: 0.7500 - val_loss: 0.7328\n",
      "Epoch 6/10\n",
      "3019/3019 [==============================] - 85s 28ms/step - loss: 0.7179 - val_loss: 0.7118\n",
      "Epoch 7/10\n",
      "3019/3019 [==============================] - 85s 28ms/step - loss: 0.7048 - val_loss: 0.7007\n",
      "Epoch 8/10\n",
      "3019/3019 [==============================] - 85s 28ms/step - loss: 0.6883 - val_loss: 0.6820\n",
      "Epoch 9/10\n",
      "3019/3019 [==============================] - 85s 28ms/step - loss: 0.6758 - val_loss: 0.6745\n",
      "Epoch 10/10\n",
      "3019/3019 [==============================] - 84s 28ms/step - loss: 0.6622 - val_loss: 0.6567\n"
     ]
    },
    {
     "name": "stderr",
     "output_type": "stream",
     "text": [
      "/home/onur/Desktop/GitRepos/SeismicPurifier/reproducibility/kfold_environment.py:427: DtypeWarning: Columns (23,24,26,27) have mixed types. Specify dtype option on import or set low_memory=False.\n",
      "  eq_metadata = pd.read_csv(eq_metadata_csv)\n"
     ]
    },
    {
     "name": "stdout",
     "output_type": "stream",
     "text": [
      "Epoch 1/10\n",
      "3033/3033 [==============================] - 90s 28ms/step - loss: 1.0456 - val_loss: 1.2861\n",
      "Epoch 2/10\n",
      "3033/3033 [==============================] - 86s 28ms/step - loss: 0.9422 - val_loss: 0.8760\n",
      "Epoch 3/10\n",
      "3033/3033 [==============================] - 86s 28ms/step - loss: 0.8246 - val_loss: 0.7631\n",
      "Epoch 4/10\n",
      "3033/3033 [==============================] - 86s 28ms/step - loss: 0.7184 - val_loss: 0.6836\n",
      "Epoch 5/10\n",
      "3033/3033 [==============================] - 85s 28ms/step - loss: 0.6431 - val_loss: 0.6099\n",
      "Epoch 6/10\n",
      "3033/3033 [==============================] - 85s 28ms/step - loss: 0.5951 - val_loss: 0.5851\n",
      "Epoch 7/10\n",
      "3033/3033 [==============================] - 86s 28ms/step - loss: 0.5617 - val_loss: 0.5427\n",
      "Epoch 8/10\n",
      "3033/3033 [==============================] - 86s 28ms/step - loss: 0.5243 - val_loss: 0.5086\n",
      "Epoch 9/10\n",
      "3033/3033 [==============================] - 86s 28ms/step - loss: 0.4988 - val_loss: 0.4888\n",
      "Epoch 10/10\n",
      "3033/3033 [==============================] - 85s 28ms/step - loss: 0.4780 - val_loss: 0.4732\n"
     ]
    },
    {
     "name": "stderr",
     "output_type": "stream",
     "text": [
      "/home/onur/Desktop/GitRepos/SeismicPurifier/reproducibility/kfold_environment.py:427: DtypeWarning: Columns (23,24,26,27) have mixed types. Specify dtype option on import or set low_memory=False.\n",
      "  eq_metadata = pd.read_csv(eq_metadata_csv)\n"
     ]
    },
    {
     "name": "stdout",
     "output_type": "stream",
     "text": [
      "Epoch 1/10\n",
      "3027/3027 [==============================] - 91s 28ms/step - loss: 1.0461 - val_loss: 1.0943\n",
      "Epoch 2/10\n",
      "3027/3027 [==============================] - 86s 28ms/step - loss: 0.9107 - val_loss: 0.8403\n",
      "Epoch 3/10\n",
      "3027/3027 [==============================] - 86s 28ms/step - loss: 0.7818 - val_loss: 0.7232\n",
      "Epoch 4/10\n",
      "3027/3027 [==============================] - 86s 28ms/step - loss: 0.6766 - val_loss: 0.6343\n",
      "Epoch 5/10\n",
      "3027/3027 [==============================] - 85s 28ms/step - loss: 0.6078 - val_loss: 0.5946\n",
      "Epoch 6/10\n",
      "3027/3027 [==============================] - 85s 28ms/step - loss: 0.5698 - val_loss: 0.5518\n",
      "Epoch 7/10\n",
      "3027/3027 [==============================] - 85s 28ms/step - loss: 0.5292 - val_loss: 0.5159\n",
      "Epoch 8/10\n",
      "3027/3027 [==============================] - 86s 28ms/step - loss: 0.5011 - val_loss: 0.4959\n",
      "Epoch 9/10\n",
      "3027/3027 [==============================] - 86s 28ms/step - loss: 0.4903 - val_loss: 0.4897\n",
      "Epoch 10/10\n",
      "3027/3027 [==============================] - 86s 28ms/step - loss: 0.4791 - val_loss: 0.4738\n"
     ]
    },
    {
     "name": "stderr",
     "output_type": "stream",
     "text": [
      "/home/onur/Desktop/GitRepos/SeismicPurifier/reproducibility/kfold_environment.py:427: DtypeWarning: Columns (23,24,26,27) have mixed types. Specify dtype option on import or set low_memory=False.\n",
      "  eq_metadata = pd.read_csv(eq_metadata_csv)\n"
     ]
    },
    {
     "name": "stdout",
     "output_type": "stream",
     "text": [
      "Epoch 1/10\n",
      "3009/3009 [==============================] - 90s 28ms/step - loss: 1.0455 - val_loss: 1.1730\n",
      "Epoch 2/10\n",
      "3009/3009 [==============================] - 85s 28ms/step - loss: 0.9440 - val_loss: 0.8819\n",
      "Epoch 3/10\n",
      "3009/3009 [==============================] - 85s 28ms/step - loss: 0.8335 - val_loss: 0.7639\n",
      "Epoch 4/10\n",
      "3009/3009 [==============================] - 85s 28ms/step - loss: 0.7181 - val_loss: 0.6721\n",
      "Epoch 5/10\n",
      "3009/3009 [==============================] - 85s 28ms/step - loss: 0.6330 - val_loss: 0.6053\n",
      "Epoch 6/10\n",
      "3009/3009 [==============================] - 85s 28ms/step - loss: 0.5893 - val_loss: 0.5706\n",
      "Epoch 7/10\n",
      "3009/3009 [==============================] - 85s 28ms/step - loss: 0.5431 - val_loss: 0.5213\n",
      "Epoch 8/10\n",
      "3009/3009 [==============================] - 85s 28ms/step - loss: 0.5091 - val_loss: 0.4979\n",
      "Epoch 9/10\n",
      "3009/3009 [==============================] - 85s 28ms/step - loss: 0.4940 - val_loss: 0.4877\n",
      "Epoch 10/10\n",
      "3009/3009 [==============================] - 85s 28ms/step - loss: 0.4853 - val_loss: 0.4783\n"
     ]
    },
    {
     "name": "stderr",
     "output_type": "stream",
     "text": [
      "/home/onur/Desktop/GitRepos/SeismicPurifier/reproducibility/kfold_environment.py:427: DtypeWarning: Columns (23,24,26,27) have mixed types. Specify dtype option on import or set low_memory=False.\n",
      "  eq_metadata = pd.read_csv(eq_metadata_csv)\n"
     ]
    },
    {
     "name": "stdout",
     "output_type": "stream",
     "text": [
      "Epoch 1/10\n",
      "3019/3019 [==============================] - 93s 29ms/step - loss: 1.0424 - val_loss: 1.4322\n",
      "Epoch 2/10\n",
      "3019/3019 [==============================] - 87s 29ms/step - loss: 0.9402 - val_loss: 0.8537\n",
      "Epoch 3/10\n",
      "3019/3019 [==============================] - 87s 29ms/step - loss: 0.7777 - val_loss: 0.7149\n",
      "Epoch 4/10\n",
      "3019/3019 [==============================] - 88s 29ms/step - loss: 0.6763 - val_loss: 0.6504\n",
      "Epoch 5/10\n",
      "3019/3019 [==============================] - 88s 29ms/step - loss: 0.6241 - val_loss: 0.6066\n",
      "Epoch 6/10\n",
      "3019/3019 [==============================] - 88s 29ms/step - loss: 0.5839 - val_loss: 0.5623\n",
      "Epoch 7/10\n",
      "3019/3019 [==============================] - 87s 29ms/step - loss: 0.5398 - val_loss: 0.5255\n",
      "Epoch 8/10\n",
      "3019/3019 [==============================] - 87s 29ms/step - loss: 0.5114 - val_loss: 0.5008\n",
      "Epoch 9/10\n",
      "3019/3019 [==============================] - 87s 29ms/step - loss: 0.4906 - val_loss: 0.4843\n",
      "Epoch 10/10\n",
      "3019/3019 [==============================] - 87s 29ms/step - loss: 0.4680 - val_loss: 0.4595\n"
     ]
    },
    {
     "name": "stderr",
     "output_type": "stream",
     "text": [
      "/home/onur/Desktop/GitRepos/SeismicPurifier/reproducibility/kfold_environment.py:427: DtypeWarning: Columns (23,24,26,27) have mixed types. Specify dtype option on import or set low_memory=False.\n",
      "  eq_metadata = pd.read_csv(eq_metadata_csv)\n"
     ]
    },
    {
     "name": "stdout",
     "output_type": "stream",
     "text": [
      "Epoch 1/10\n",
      "3019/3019 [==============================] - 93s 29ms/step - loss: 1.0412 - val_loss: 1.1619\n",
      "Epoch 2/10\n",
      "3019/3019 [==============================] - 87s 29ms/step - loss: 0.9382 - val_loss: 0.8664\n",
      "Epoch 3/10\n",
      "3019/3019 [==============================] - 87s 29ms/step - loss: 0.7811 - val_loss: 0.7215\n",
      "Epoch 4/10\n",
      "3019/3019 [==============================] - 87s 29ms/step - loss: 0.6745 - val_loss: 0.6397\n",
      "Epoch 5/10\n",
      "3019/3019 [==============================] - 87s 29ms/step - loss: 0.6161 - val_loss: 0.5960\n",
      "Epoch 6/10\n",
      "3019/3019 [==============================] - 88s 29ms/step - loss: 0.5872 - val_loss: 0.5778\n",
      "Epoch 7/10\n",
      "3019/3019 [==============================] - 88s 29ms/step - loss: 0.5565 - val_loss: 0.5359\n",
      "Epoch 8/10\n",
      "3019/3019 [==============================] - 87s 29ms/step - loss: 0.5210 - val_loss: 0.5064\n",
      "Epoch 9/10\n",
      "3019/3019 [==============================] - 87s 29ms/step - loss: 0.4944 - val_loss: 0.4857\n",
      "Epoch 10/10\n",
      "3019/3019 [==============================] - 87s 29ms/step - loss: 0.4753 - val_loss: 0.4766\n"
     ]
    },
    {
     "name": "stderr",
     "output_type": "stream",
     "text": [
      "/home/onur/Desktop/GitRepos/SeismicPurifier/reproducibility/kfold_environment.py:427: DtypeWarning: Columns (23,24,26,27) have mixed types. Specify dtype option on import or set low_memory=False.\n",
      "  eq_metadata = pd.read_csv(eq_metadata_csv)\n"
     ]
    },
    {
     "name": "stdout",
     "output_type": "stream",
     "text": [
      "Epoch 1/10\n",
      "3033/3033 [==============================] - 93s 29ms/step - loss: 1.0401 - val_loss: 1.1585\n",
      "Epoch 2/10\n",
      "3033/3033 [==============================] - 88s 29ms/step - loss: 0.9292 - val_loss: 0.8479\n",
      "Epoch 3/10\n",
      "3033/3033 [==============================] - 88s 29ms/step - loss: 0.7771 - val_loss: 0.7167\n",
      "Epoch 4/10\n",
      "3033/3033 [==============================] - 87s 29ms/step - loss: 0.6770 - val_loss: 0.6328\n",
      "Epoch 5/10\n",
      "3033/3033 [==============================] - 87s 29ms/step - loss: 0.6070 - val_loss: 0.5870\n",
      "Epoch 6/10\n",
      "3033/3033 [==============================] - 88s 29ms/step - loss: 0.5607 - val_loss: 0.5314\n",
      "Epoch 7/10\n",
      "3033/3033 [==============================] - 88s 29ms/step - loss: 0.5146 - val_loss: 0.4973\n",
      "Epoch 8/10\n",
      "3033/3033 [==============================] - 88s 29ms/step - loss: 0.4861 - val_loss: 0.4784\n",
      "Epoch 9/10\n",
      "3033/3033 [==============================] - 87s 29ms/step - loss: 0.4707 - val_loss: 0.4632\n",
      "Epoch 10/10\n",
      "3033/3033 [==============================] - 87s 29ms/step - loss: 0.4532 - val_loss: 0.4406\n"
     ]
    },
    {
     "name": "stderr",
     "output_type": "stream",
     "text": [
      "/home/onur/Desktop/GitRepos/SeismicPurifier/reproducibility/kfold_environment.py:427: DtypeWarning: Columns (23,24,26,27) have mixed types. Specify dtype option on import or set low_memory=False.\n",
      "  eq_metadata = pd.read_csv(eq_metadata_csv)\n"
     ]
    },
    {
     "name": "stdout",
     "output_type": "stream",
     "text": [
      "Epoch 1/10\n",
      "3027/3027 [==============================] - 93s 29ms/step - loss: 1.0379 - val_loss: 1.2074\n",
      "Epoch 2/10\n",
      "3027/3027 [==============================] - 88s 29ms/step - loss: 0.9010 - val_loss: 0.8276\n",
      "Epoch 3/10\n",
      "3027/3027 [==============================] - 88s 29ms/step - loss: 0.7609 - val_loss: 0.7195\n",
      "Epoch 4/10\n",
      "3027/3027 [==============================] - 87s 29ms/step - loss: 0.6830 - val_loss: 0.6454\n",
      "Epoch 5/10\n",
      "3027/3027 [==============================] - 87s 29ms/step - loss: 0.6207 - val_loss: 0.6014\n",
      "Epoch 6/10\n",
      "3027/3027 [==============================] - 87s 29ms/step - loss: 0.5752 - val_loss: 0.5521\n",
      "Epoch 7/10\n",
      "3027/3027 [==============================] - 88s 29ms/step - loss: 0.5345 - val_loss: 0.5209\n",
      "Epoch 8/10\n",
      "3027/3027 [==============================] - 88s 29ms/step - loss: 0.5055 - val_loss: 0.4958\n",
      "Epoch 9/10\n",
      "3027/3027 [==============================] - 87s 29ms/step - loss: 0.4859 - val_loss: 0.4839\n",
      "Epoch 10/10\n",
      "3027/3027 [==============================] - 87s 29ms/step - loss: 0.4686 - val_loss: 0.4606\n"
     ]
    },
    {
     "name": "stderr",
     "output_type": "stream",
     "text": [
      "/home/onur/Desktop/GitRepos/SeismicPurifier/reproducibility/kfold_environment.py:427: DtypeWarning: Columns (23,24,26,27) have mixed types. Specify dtype option on import or set low_memory=False.\n",
      "  eq_metadata = pd.read_csv(eq_metadata_csv)\n"
     ]
    },
    {
     "name": "stdout",
     "output_type": "stream",
     "text": [
      "Epoch 1/10\n",
      "3009/3009 [==============================] - 92s 29ms/step - loss: 1.0423 - val_loss: 2.0336\n",
      "Epoch 2/10\n",
      "3009/3009 [==============================] - 87s 29ms/step - loss: 0.9621 - val_loss: 0.8971\n",
      "Epoch 3/10\n",
      "3009/3009 [==============================] - 87s 29ms/step - loss: 0.8257 - val_loss: 0.7419\n",
      "Epoch 4/10\n",
      "3009/3009 [==============================] - 87s 29ms/step - loss: 0.7058 - val_loss: 0.6632\n",
      "Epoch 5/10\n",
      "3009/3009 [==============================] - 86s 29ms/step - loss: 0.6306 - val_loss: 0.6019\n",
      "Epoch 6/10\n",
      "3009/3009 [==============================] - 86s 29ms/step - loss: 0.5897 - val_loss: 0.5681\n",
      "Epoch 7/10\n",
      "3009/3009 [==============================] - 87s 29ms/step - loss: 0.5446 - val_loss: 0.5278\n",
      "Epoch 8/10\n",
      "3009/3009 [==============================] - 87s 29ms/step - loss: 0.5085 - val_loss: 0.4873\n",
      "Epoch 9/10\n",
      "3009/3009 [==============================] - 87s 29ms/step - loss: 0.4859 - val_loss: 0.4718\n",
      "Epoch 10/10\n",
      "3009/3009 [==============================] - 87s 29ms/step - loss: 0.4718 - val_loss: 0.4573\n"
     ]
    },
    {
     "name": "stderr",
     "output_type": "stream",
     "text": [
      "/home/onur/Desktop/GitRepos/SeismicPurifier/reproducibility/kfold_environment.py:427: DtypeWarning: Columns (23,24,26,27) have mixed types. Specify dtype option on import or set low_memory=False.\n",
      "  eq_metadata = pd.read_csv(eq_metadata_csv)\n"
     ]
    },
    {
     "name": "stdout",
     "output_type": "stream",
     "text": [
      "Epoch 1/10\n",
      "3019/3019 [==============================] - 444s 140ms/step - loss: 1.7196 - val_loss: 1.6213\n",
      "Epoch 2/10\n",
      "3019/3019 [==============================] - 422s 140ms/step - loss: 1.3634 - val_loss: 1.2468\n",
      "Epoch 3/10\n",
      "3019/3019 [==============================] - 422s 140ms/step - loss: 1.1530 - val_loss: 1.0631\n",
      "Epoch 4/10\n",
      "3019/3019 [==============================] - 422s 140ms/step - loss: 0.9876 - val_loss: 0.9260\n",
      "Epoch 5/10\n",
      "3019/3019 [==============================] - 422s 140ms/step - loss: 0.8796 - val_loss: 0.8631\n",
      "Epoch 6/10\n",
      "3019/3019 [==============================] - 423s 140ms/step - loss: 0.8414 - val_loss: 0.8421\n",
      "Epoch 7/10\n",
      "3019/3019 [==============================] - 422s 140ms/step - loss: 0.8191 - val_loss: 0.8036\n",
      "Epoch 8/10\n",
      "3019/3019 [==============================] - 422s 140ms/step - loss: 0.7859 - val_loss: 0.7508\n",
      "Epoch 9/10\n",
      "3019/3019 [==============================] - 422s 140ms/step - loss: 0.7540 - val_loss: 0.7367\n",
      "Epoch 10/10\n",
      "3019/3019 [==============================] - 422s 140ms/step - loss: 0.7523 - val_loss: 0.7249\n"
     ]
    },
    {
     "name": "stderr",
     "output_type": "stream",
     "text": [
      "/home/onur/Desktop/GitRepos/SeismicPurifier/reproducibility/kfold_environment.py:427: DtypeWarning: Columns (23,24,26,27) have mixed types. Specify dtype option on import or set low_memory=False.\n",
      "  eq_metadata = pd.read_csv(eq_metadata_csv)\n"
     ]
    },
    {
     "name": "stdout",
     "output_type": "stream",
     "text": [
      "Epoch 1/10\n",
      "3019/3019 [==============================] - 445s 140ms/step - loss: 1.7203 - val_loss: 1.9127\n",
      "Epoch 2/10\n",
      "3019/3019 [==============================] - 423s 140ms/step - loss: 1.3798 - val_loss: 1.2711\n",
      "Epoch 3/10\n",
      "3019/3019 [==============================] - 423s 140ms/step - loss: 1.1481 - val_loss: 1.0339\n",
      "Epoch 4/10\n",
      "3019/3019 [==============================] - 423s 140ms/step - loss: 0.9622 - val_loss: 0.9229\n",
      "Epoch 5/10\n",
      "3019/3019 [==============================] - 423s 140ms/step - loss: 0.8819 - val_loss: 0.8692\n",
      "Epoch 6/10\n",
      "3019/3019 [==============================] - 423s 140ms/step - loss: 0.8456 - val_loss: 0.8289\n",
      "Epoch 7/10\n",
      "3019/3019 [==============================] - 423s 140ms/step - loss: 0.8154 - val_loss: 0.8003\n",
      "Epoch 8/10\n",
      "3019/3019 [==============================] - 423s 140ms/step - loss: 0.7884 - val_loss: 0.7625\n",
      "Epoch 9/10\n",
      "3019/3019 [==============================] - 423s 140ms/step - loss: 0.7501 - val_loss: 0.7362\n",
      "Epoch 10/10\n",
      "3019/3019 [==============================] - 424s 140ms/step - loss: 0.7265 - val_loss: 0.7152\n"
     ]
    },
    {
     "name": "stderr",
     "output_type": "stream",
     "text": [
      "/home/onur/Desktop/GitRepos/SeismicPurifier/reproducibility/kfold_environment.py:427: DtypeWarning: Columns (23,24,26,27) have mixed types. Specify dtype option on import or set low_memory=False.\n",
      "  eq_metadata = pd.read_csv(eq_metadata_csv)\n"
     ]
    },
    {
     "name": "stdout",
     "output_type": "stream",
     "text": [
      "Epoch 1/10\n",
      "3033/3033 [==============================] - 444s 140ms/step - loss: 1.7257 - val_loss: 1.6053\n",
      "Epoch 2/10\n",
      "3033/3033 [==============================] - 423s 139ms/step - loss: 1.3338 - val_loss: 1.2141\n",
      "Epoch 3/10\n",
      "3033/3033 [==============================] - 422s 139ms/step - loss: 1.1184 - val_loss: 1.0200\n",
      "Epoch 4/10\n",
      "3033/3033 [==============================] - 422s 139ms/step - loss: 0.9728 - val_loss: 0.9327\n",
      "Epoch 5/10\n",
      "3033/3033 [==============================] - 423s 139ms/step - loss: 0.9126 - val_loss: 0.8992\n",
      "Epoch 6/10\n",
      "3033/3033 [==============================] - 423s 139ms/step - loss: 0.8581 - val_loss: 0.8001\n",
      "Epoch 7/10\n",
      "3033/3033 [==============================] - 423s 139ms/step - loss: 0.7790 - val_loss: 0.7478\n",
      "Epoch 8/10\n",
      "3033/3033 [==============================] - 423s 139ms/step - loss: 0.7535 - val_loss: 0.7336\n",
      "Epoch 9/10\n",
      "3033/3033 [==============================] - 423s 139ms/step - loss: 0.7401 - val_loss: 0.7210\n",
      "Epoch 10/10\n",
      "3033/3033 [==============================] - 423s 139ms/step - loss: 0.7343 - val_loss: 0.7226\n"
     ]
    },
    {
     "name": "stderr",
     "output_type": "stream",
     "text": [
      "/home/onur/Desktop/GitRepos/SeismicPurifier/reproducibility/kfold_environment.py:427: DtypeWarning: Columns (23,24,26,27) have mixed types. Specify dtype option on import or set low_memory=False.\n",
      "  eq_metadata = pd.read_csv(eq_metadata_csv)\n"
     ]
    },
    {
     "name": "stdout",
     "output_type": "stream",
     "text": [
      "Epoch 1/10\n",
      "3027/3027 [==============================] - 443s 139ms/step - loss: 1.7415 - val_loss: 1.6564\n",
      "Epoch 2/10\n",
      "3027/3027 [==============================] - 421s 139ms/step - loss: 1.3651 - val_loss: 1.2434\n",
      "Epoch 3/10\n",
      "3027/3027 [==============================] - 421s 139ms/step - loss: 1.1327 - val_loss: 1.0355\n",
      "Epoch 4/10\n",
      "3027/3027 [==============================] - 421s 139ms/step - loss: 0.9772 - val_loss: 0.9330\n",
      "Epoch 5/10\n",
      "3027/3027 [==============================] - 421s 139ms/step - loss: 0.9079 - val_loss: 0.8966\n",
      "Epoch 6/10\n",
      "3027/3027 [==============================] - 422s 139ms/step - loss: 0.8473 - val_loss: 0.8091\n",
      "Epoch 7/10\n",
      "3027/3027 [==============================] - 421s 139ms/step - loss: 0.7970 - val_loss: 0.7753\n",
      "Epoch 8/10\n",
      "3027/3027 [==============================] - 421s 139ms/step - loss: 0.7799 - val_loss: 0.7782\n",
      "Epoch 9/10\n",
      "3027/3027 [==============================] - 421s 139ms/step - loss: 0.7824 - val_loss: 0.7709\n",
      "Epoch 10/10\n",
      "3027/3027 [==============================] - 421s 139ms/step - loss: 0.7580 - val_loss: 0.7347\n"
     ]
    },
    {
     "name": "stderr",
     "output_type": "stream",
     "text": [
      "/home/onur/Desktop/GitRepos/SeismicPurifier/reproducibility/kfold_environment.py:427: DtypeWarning: Columns (23,24,26,27) have mixed types. Specify dtype option on import or set low_memory=False.\n",
      "  eq_metadata = pd.read_csv(eq_metadata_csv)\n"
     ]
    },
    {
     "name": "stdout",
     "output_type": "stream",
     "text": [
      "Epoch 1/10\n",
      "3009/3009 [==============================] - 442s 140ms/step - loss: 1.7218 - val_loss: 1.5491\n",
      "Epoch 2/10\n",
      "3009/3009 [==============================] - 421s 140ms/step - loss: 1.3569 - val_loss: 1.2389\n",
      "Epoch 3/10\n",
      "3009/3009 [==============================] - 421s 140ms/step - loss: 1.1205 - val_loss: 1.0082\n",
      "Epoch 4/10\n",
      "3009/3009 [==============================] - 421s 140ms/step - loss: 0.9509 - val_loss: 0.9068\n",
      "Epoch 5/10\n",
      "3009/3009 [==============================] - 421s 140ms/step - loss: 0.8850 - val_loss: 0.8552\n",
      "Epoch 6/10\n",
      "3009/3009 [==============================] - 421s 140ms/step - loss: 0.8327 - val_loss: 0.8202\n",
      "Epoch 7/10\n",
      "3009/3009 [==============================] - 421s 140ms/step - loss: 0.7999 - val_loss: 0.7967\n",
      "Epoch 8/10\n",
      "3009/3009 [==============================] - 421s 140ms/step - loss: 0.7746 - val_loss: 0.7842\n",
      "Epoch 9/10\n",
      "3009/3009 [==============================] - 421s 140ms/step - loss: 0.7712 - val_loss: 0.7506\n",
      "Epoch 10/10\n",
      "3009/3009 [==============================] - 421s 140ms/step - loss: 0.7668 - val_loss: 0.7799\n",
      "Epoch 1/10\n",
      "2967/2967 [==============================] - 88s 28ms/step - loss: 0.9977 - val_loss: 0.9194\n",
      "Epoch 2/10\n",
      "2967/2967 [==============================] - 84s 28ms/step - loss: 0.8665 - val_loss: 0.8034\n",
      "Epoch 3/10\n",
      "2967/2967 [==============================] - 84s 28ms/step - loss: 0.7753 - val_loss: 0.7462\n",
      "Epoch 4/10\n",
      "2967/2967 [==============================] - 84s 28ms/step - loss: 0.7152 - val_loss: 0.7008\n",
      "Epoch 5/10\n",
      "2967/2967 [==============================] - 84s 28ms/step - loss: 0.6965 - val_loss: 0.6934\n",
      "Epoch 6/10\n",
      "2967/2967 [==============================] - 83s 28ms/step - loss: 0.6899 - val_loss: 0.6790\n",
      "Epoch 7/10\n",
      "2967/2967 [==============================] - 83s 28ms/step - loss: 0.6684 - val_loss: 0.6390\n",
      "Epoch 8/10\n",
      "2967/2967 [==============================] - 83s 28ms/step - loss: 0.5819 - val_loss: 0.5517\n",
      "Epoch 9/10\n",
      "2967/2967 [==============================] - 84s 28ms/step - loss: 0.5456 - val_loss: 0.5417\n",
      "Epoch 10/10\n",
      "2967/2967 [==============================] - 84s 28ms/step - loss: 0.5289 - val_loss: 0.5079\n",
      "Epoch 1/10\n",
      "2955/2955 [==============================] - 88s 28ms/step - loss: 1.0564 - val_loss: 0.9952\n",
      "Epoch 2/10\n",
      "2955/2955 [==============================] - 83s 28ms/step - loss: 0.9074 - val_loss: 0.8381\n",
      "Epoch 3/10\n",
      "2955/2955 [==============================] - 83s 28ms/step - loss: 0.7645 - val_loss: 0.7145\n",
      "Epoch 4/10\n",
      "2955/2955 [==============================] - 83s 28ms/step - loss: 0.6660 - val_loss: 0.6277\n",
      "Epoch 5/10\n",
      "2955/2955 [==============================] - 84s 28ms/step - loss: 0.6059 - val_loss: 0.5813\n",
      "Epoch 6/10\n",
      "2955/2955 [==============================] - 84s 28ms/step - loss: 0.5515 - val_loss: 0.5234\n",
      "Epoch 7/10\n",
      "2955/2955 [==============================] - 84s 28ms/step - loss: 0.5131 - val_loss: 0.5097\n",
      "Epoch 8/10\n",
      "2955/2955 [==============================] - 83s 28ms/step - loss: 0.5003 - val_loss: 0.4847\n",
      "Epoch 9/10\n",
      "2955/2955 [==============================] - 83s 28ms/step - loss: 0.4702 - val_loss: 0.4661\n",
      "Epoch 10/10\n",
      "2955/2955 [==============================] - 83s 28ms/step - loss: 0.4624 - val_loss: 0.4619\n",
      "Epoch 1/10\n",
      "2959/2959 [==============================] - 88s 28ms/step - loss: 1.0015 - val_loss: 0.9184\n",
      "Epoch 2/10\n",
      "2959/2959 [==============================] - 84s 28ms/step - loss: 0.8482 - val_loss: 0.8113\n",
      "Epoch 3/10\n",
      "2959/2959 [==============================] - 84s 28ms/step - loss: 0.7762 - val_loss: 0.7536\n",
      "Epoch 4/10\n",
      "2959/2959 [==============================] - 83s 28ms/step - loss: 0.7270 - val_loss: 0.7068\n",
      "Epoch 5/10\n",
      "2959/2959 [==============================] - 83s 28ms/step - loss: 0.6958 - val_loss: 0.6900\n",
      "Epoch 6/10\n",
      "2959/2959 [==============================] - 84s 28ms/step - loss: 0.6832 - val_loss: 0.6720\n",
      "Epoch 7/10\n",
      "2959/2959 [==============================] - 84s 28ms/step - loss: 0.6657 - val_loss: 0.6593\n",
      "Epoch 8/10\n",
      "2959/2959 [==============================] - 84s 28ms/step - loss: 0.6047 - val_loss: 0.5578\n",
      "Epoch 9/10\n",
      "2959/2959 [==============================] - 83s 28ms/step - loss: 0.5418 - val_loss: 0.5321\n",
      "Epoch 10/10\n",
      "2959/2959 [==============================] - 83s 28ms/step - loss: 0.5298 - val_loss: 0.5257\n",
      "Epoch 1/10\n",
      "2954/2954 [==============================] - 88s 28ms/step - loss: 1.0074 - val_loss: 0.9112\n",
      "Epoch 2/10\n",
      "2954/2954 [==============================] - 84s 28ms/step - loss: 0.8241 - val_loss: 0.7635\n",
      "Epoch 3/10\n",
      "2954/2954 [==============================] - 84s 28ms/step - loss: 0.6959 - val_loss: 0.6430\n",
      "Epoch 4/10\n",
      "2954/2954 [==============================] - 83s 28ms/step - loss: 0.6174 - val_loss: 0.5919\n",
      "Epoch 5/10\n",
      "2954/2954 [==============================] - 83s 28ms/step - loss: 0.5632 - val_loss: 0.5308\n",
      "Epoch 6/10\n",
      "2954/2954 [==============================] - 83s 28ms/step - loss: 0.5127 - val_loss: 0.4924\n",
      "Epoch 7/10\n",
      "2954/2954 [==============================] - 84s 28ms/step - loss: 0.4819 - val_loss: 0.4751\n",
      "Epoch 8/10\n",
      "2954/2954 [==============================] - 84s 28ms/step - loss: 0.4728 - val_loss: 0.4703\n",
      "Epoch 9/10\n",
      "2954/2954 [==============================] - 84s 28ms/step - loss: 0.4689 - val_loss: 0.4672\n",
      "Epoch 10/10\n",
      "2954/2954 [==============================] - 83s 28ms/step - loss: 0.4659 - val_loss: 0.4644\n",
      "Epoch 1/10\n",
      "2956/2956 [==============================] - 87s 28ms/step - loss: 1.0539 - val_loss: 1.4044\n",
      "Epoch 2/10\n",
      "2956/2956 [==============================] - 83s 28ms/step - loss: 0.9137 - val_loss: 0.8588\n",
      "Epoch 3/10\n",
      "2956/2956 [==============================] - 84s 28ms/step - loss: 0.7942 - val_loss: 0.7232\n",
      "Epoch 4/10\n",
      "2956/2956 [==============================] - 84s 28ms/step - loss: 0.6809 - val_loss: 0.6436\n",
      "Epoch 5/10\n",
      "2956/2956 [==============================] - 83s 28ms/step - loss: 0.5981 - val_loss: 0.5730\n",
      "Epoch 6/10\n",
      "2956/2956 [==============================] - 83s 28ms/step - loss: 0.5591 - val_loss: 0.5518\n",
      "Epoch 7/10\n",
      "2956/2956 [==============================] - 83s 28ms/step - loss: 0.5283 - val_loss: 0.5062\n",
      "Epoch 8/10\n",
      "2956/2956 [==============================] - 83s 28ms/step - loss: 0.4837 - val_loss: 0.4710\n",
      "Epoch 9/10\n",
      "2956/2956 [==============================] - 84s 28ms/step - loss: 0.4656 - val_loss: 0.4616\n",
      "Epoch 10/10\n",
      "2956/2956 [==============================] - 84s 28ms/step - loss: 0.4501 - val_loss: 0.4393\n",
      "Epoch 1/10\n",
      "2967/2967 [==============================] - 92s 29ms/step - loss: 1.0202 - val_loss: 0.9280\n",
      "Epoch 2/10\n",
      "2967/2967 [==============================] - 86s 29ms/step - loss: 0.8545 - val_loss: 0.8095\n",
      "Epoch 3/10\n",
      "2967/2967 [==============================] - 86s 29ms/step - loss: 0.7389 - val_loss: 0.6789\n",
      "Epoch 4/10\n",
      "2967/2967 [==============================] - 86s 29ms/step - loss: 0.6455 - val_loss: 0.6160\n",
      "Epoch 5/10\n",
      "2967/2967 [==============================] - 86s 29ms/step - loss: 0.5860 - val_loss: 0.5439\n",
      "Epoch 6/10\n",
      "2967/2967 [==============================] - 86s 29ms/step - loss: 0.5330 - val_loss: 0.5207\n",
      "Epoch 7/10\n",
      "2967/2967 [==============================] - 86s 29ms/step - loss: 0.5185 - val_loss: 0.4962\n",
      "Epoch 8/10\n",
      "2967/2967 [==============================] - 86s 29ms/step - loss: 0.4882 - val_loss: 0.4751\n",
      "Epoch 9/10\n",
      "2967/2967 [==============================] - 86s 29ms/step - loss: 0.4804 - val_loss: 0.4702\n",
      "Epoch 10/10\n",
      "2967/2967 [==============================] - 86s 29ms/step - loss: 0.4769 - val_loss: 0.4674\n",
      "Epoch 1/10\n",
      "2955/2955 [==============================] - 91s 29ms/step - loss: 1.0244 - val_loss: 0.9452\n",
      "Epoch 2/10\n",
      "2955/2955 [==============================] - 86s 29ms/step - loss: 0.8610 - val_loss: 0.8015\n",
      "Epoch 3/10\n",
      "2955/2955 [==============================] - 85s 29ms/step - loss: 0.7507 - val_loss: 0.7048\n",
      "Epoch 4/10\n",
      "2955/2955 [==============================] - 85s 29ms/step - loss: 0.6652 - val_loss: 0.6294\n",
      "Epoch 5/10\n",
      "2955/2955 [==============================] - 85s 29ms/step - loss: 0.6180 - val_loss: 0.6022\n",
      "Epoch 6/10\n",
      "2955/2955 [==============================] - 86s 29ms/step - loss: 0.5863 - val_loss: 0.5605\n",
      "Epoch 7/10\n",
      "2955/2955 [==============================] - 86s 29ms/step - loss: 0.5449 - val_loss: 0.5282\n",
      "Epoch 8/10\n",
      "2955/2955 [==============================] - 86s 29ms/step - loss: 0.5258 - val_loss: 0.5165\n",
      "Epoch 9/10\n",
      "2955/2955 [==============================] - 85s 29ms/step - loss: 0.5057 - val_loss: 0.4854\n",
      "Epoch 10/10\n",
      "2955/2955 [==============================] - 85s 29ms/step - loss: 0.4847 - val_loss: 0.4753\n",
      "Epoch 1/10\n",
      "2959/2959 [==============================] - 90s 29ms/step - loss: 1.0296 - val_loss: 0.9476\n",
      "Epoch 2/10\n",
      "2959/2959 [==============================] - 86s 29ms/step - loss: 0.8675 - val_loss: 0.7873\n",
      "Epoch 3/10\n",
      "2959/2959 [==============================] - 86s 29ms/step - loss: 0.7297 - val_loss: 0.6758\n",
      "Epoch 4/10\n",
      "2959/2959 [==============================] - 85s 29ms/step - loss: 0.6295 - val_loss: 0.5804\n",
      "Epoch 5/10\n",
      "2959/2959 [==============================] - 85s 29ms/step - loss: 0.5719 - val_loss: 0.5599\n",
      "Epoch 6/10\n",
      "2959/2959 [==============================] - 85s 29ms/step - loss: 0.5475 - val_loss: 0.5277\n",
      "Epoch 7/10\n",
      "2959/2959 [==============================] - 86s 29ms/step - loss: 0.5142 - val_loss: 0.5000\n",
      "Epoch 8/10\n",
      "2959/2959 [==============================] - 86s 29ms/step - loss: 0.4926 - val_loss: 0.4826\n",
      "Epoch 9/10\n",
      "2959/2959 [==============================] - 85s 29ms/step - loss: 0.4826 - val_loss: 0.4756\n",
      "Epoch 10/10\n",
      "2959/2959 [==============================] - 85s 29ms/step - loss: 0.4793 - val_loss: 0.4712\n",
      "Epoch 1/10\n",
      "2954/2954 [==============================] - 90s 29ms/step - loss: 1.0132 - val_loss: 0.9183\n",
      "Epoch 2/10\n",
      "2954/2954 [==============================] - 86s 29ms/step - loss: 0.8350 - val_loss: 0.7585\n",
      "Epoch 3/10\n",
      "2954/2954 [==============================] - 85s 29ms/step - loss: 0.6982 - val_loss: 0.6444\n",
      "Epoch 4/10\n",
      "2954/2954 [==============================] - 85s 29ms/step - loss: 0.6184 - val_loss: 0.5836\n",
      "Epoch 5/10\n",
      "2954/2954 [==============================] - 85s 29ms/step - loss: 0.5652 - val_loss: 0.5429\n",
      "Epoch 6/10\n",
      "2954/2954 [==============================] - 84s 29ms/step - loss: 0.5364 - val_loss: 0.5241\n",
      "Epoch 7/10\n",
      "2954/2954 [==============================] - 85s 29ms/step - loss: 0.5224 - val_loss: 0.5083\n",
      "Epoch 8/10\n",
      "2954/2954 [==============================] - 85s 29ms/step - loss: 0.5050 - val_loss: 0.4841\n",
      "Epoch 9/10\n",
      "2954/2954 [==============================] - 85s 29ms/step - loss: 0.4834 - val_loss: 0.4719\n",
      "Epoch 10/10\n",
      "2954/2954 [==============================] - 85s 29ms/step - loss: 0.4789 - val_loss: 0.4681\n",
      "Epoch 1/10\n",
      "2956/2956 [==============================] - 90s 29ms/step - loss: 1.0490 - val_loss: 0.9693\n",
      "Epoch 2/10\n",
      "2956/2956 [==============================] - 85s 29ms/step - loss: 0.8943 - val_loss: 0.8079\n",
      "Epoch 3/10\n",
      "2956/2956 [==============================] - 85s 29ms/step - loss: 0.7479 - val_loss: 0.6955\n",
      "Epoch 4/10\n",
      "2956/2956 [==============================] - 85s 29ms/step - loss: 0.6550 - val_loss: 0.6206\n",
      "Epoch 5/10\n",
      "2956/2956 [==============================] - 85s 29ms/step - loss: 0.5886 - val_loss: 0.5496\n",
      "Epoch 6/10\n",
      "2956/2956 [==============================] - 85s 29ms/step - loss: 0.5328 - val_loss: 0.5242\n",
      "Epoch 7/10\n",
      "2956/2956 [==============================] - 85s 29ms/step - loss: 0.5175 - val_loss: 0.5091\n",
      "Epoch 8/10\n",
      "2956/2956 [==============================] - 85s 29ms/step - loss: 0.4951 - val_loss: 0.4827\n",
      "Epoch 9/10\n",
      "2956/2956 [==============================] - 85s 29ms/step - loss: 0.4770 - val_loss: 0.4718\n",
      "Epoch 10/10\n",
      "2956/2956 [==============================] - 85s 29ms/step - loss: 0.4727 - val_loss: 0.4698\n"
     ]
    }
   ],
   "source": [
    "# For all splits, train the model over\n",
    "for train_dataset in DATASETS:\n",
    "    for model_class in MODEL_CLASSES:\n",
    "        for split in range(KFOLD_SPLITS):\n",
    "            kfold_trainer = KfoldTrainer(\n",
    "                EXP_NAME, model_class, train_dataset, split, epochs=NUM_EPOCHS\n",
    "            )\n",
    "            kfold_trainer.train()"
   ]
  }
 ],
 "metadata": {
  "kernelspec": {
   "display_name": "Python 3",
   "language": "python",
   "name": "python3"
  },
  "language_info": {
   "codemirror_mode": {
    "name": "ipython",
    "version": 3
   },
   "file_extension": ".py",
   "mimetype": "text/x-python",
   "name": "python",
   "nbconvert_exporter": "python",
   "pygments_lexer": "ipython3",
   "version": "3.10.14"
  }
 },
 "nbformat": 4,
 "nbformat_minor": 2
}
