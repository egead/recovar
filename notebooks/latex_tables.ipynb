{
 "cells": [
  {
   "cell_type": "code",
   "execution_count": 19,
   "metadata": {},
   "outputs": [],
   "source": [
    "import pandas as pd"
   ]
  },
  {
   "cell_type": "code",
   "execution_count": 20,
   "metadata": {},
   "outputs": [],
   "source": [
    "df=pd.read_csv(\"../evals/df_best_val.csv\")"
   ]
  },
  {
   "cell_type": "code",
   "execution_count": 21,
   "metadata": {},
   "outputs": [],
   "source": [
    "df1 = df.groupby([\"Method\", \"Model\", \"Training\", \"Testing\"]).mean().reset_index()\n",
    "df2 = df.groupby([\"Method\", \"Model\", \"Training\", \"Testing\"]).std().reset_index()"
   ]
  },
  {
   "cell_type": "code",
   "execution_count": 22,
   "metadata": {},
   "outputs": [],
   "source": [
    "df1[\"ROC-AUC\"] = df1[\"ROC-AUC\"].apply(lambda x: \"${:.3f}\".format(x)) + \" \\pm \" + df2[\"ROC-AUC\"].apply(lambda x: \"{:.3f}$\".format(x))"
   ]
  },
  {
   "cell_type": "code",
   "execution_count": 23,
   "metadata": {},
   "outputs": [],
   "source": [
    "df = df1.drop([\"Model\", \"split\", \"Validation loss\", \"Epoch\"], axis=1)"
   ]
  },
  {
   "cell_type": "code",
   "execution_count": 24,
   "metadata": {},
   "outputs": [],
   "source": [
    "# Dictionary with method names and corresponding orders\n",
    "order_dict = {\"STA-LTA\":0, \"Autocovariance\":1, \"Augmentation Cross-covariances\":2, \"Representation Cross-covariances\":3}\n",
    "\n",
    "# Add 'Order' column based on the dictionary\n",
    "df['Order'] = df['Method'].map(order_dict)"
   ]
  },
  {
   "cell_type": "code",
   "execution_count": 25,
   "metadata": {},
   "outputs": [],
   "source": [
    "df[\"Training\"]=df[\"Training\"].str.upper()\n",
    "df[\"Testing\"]=df[\"Testing\"].str.upper()\n"
   ]
  },
  {
   "cell_type": "code",
   "execution_count": 26,
   "metadata": {},
   "outputs": [],
   "source": [
    "df_g=df.groupby([\"Training\", \"Testing\", \"Method\", \"ROC-AUC\"]).mean(\"ROC-AUC\")\n",
    "df_g.sort_values(by=[\"Training\", \"Testing\", \"Order\"], inplace=True)\n",
    "df_g = df_g.drop([\"Order\"], axis=1)"
   ]
  },
  {
   "cell_type": "code",
   "execution_count": 27,
   "metadata": {},
   "outputs": [
    {
     "name": "stderr",
     "output_type": "stream",
     "text": [
      "/tmp/ipykernel_1291854/2778034150.py:1: FutureWarning: In future versions `DataFrame.to_latex` is expected to utilise the base implementation of `Styler.to_latex` for formatting and rendering. The arguments signature may therefore change. It is recommended instead to use `DataFrame.style.to_latex` which also contains additional functionality.\n",
      "  df_g.to_latex(\"./try.tex\")\n"
     ]
    }
   ],
   "source": [
    "df_g.to_latex(\"./try.tex\")"
   ]
  }
 ],
 "metadata": {
  "kernelspec": {
   "display_name": "tf",
   "language": "python",
   "name": "python3"
  },
  "language_info": {
   "codemirror_mode": {
    "name": "ipython",
    "version": 3
   },
   "file_extension": ".py",
   "mimetype": "text/x-python",
   "name": "python",
   "nbconvert_exporter": "python",
   "pygments_lexer": "ipython3",
   "version": "3.10.9"
  },
  "orig_nbformat": 4
 },
 "nbformat": 4,
 "nbformat_minor": 2
}
