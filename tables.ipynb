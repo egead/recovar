{
 "cells": [
  {
   "cell_type": "code",
   "execution_count": 1,
   "metadata": {},
   "outputs": [
    {
     "name": "stderr",
     "output_type": "stream",
     "text": [
      "2024-03-25 14:32:30.898134: I tensorflow/core/platform/cpu_feature_guard.cc:193] This TensorFlow binary is optimized with oneAPI Deep Neural Network Library (oneDNN) to use the following CPU instructions in performance-critical operations:  AVX2 AVX_VNNI FMA\n",
      "To enable them in other operations, rebuild TensorFlow with the appropriate compiler flags.\n",
      "2024-03-25 14:32:32.841555: I tensorflow/core/util/port.cc:104] oneDNN custom operations are on. You may see slightly different numerical results due to floating-point round-off errors from different computation orders. To turn them off, set the environment variable `TF_ENABLE_ONEDNN_OPTS=0`.\n",
      "2024-03-25 14:32:38.470310: W tensorflow/compiler/xla/stream_executor/platform/default/dso_loader.cc:64] Could not load dynamic library 'libnvinfer.so.7'; dlerror: libnvinfer.so.7: cannot open shared object file: No such file or directory; LD_LIBRARY_PATH: :/usr/local/cuda/lib64:/usr/local/cuda/lib64:/home/onur/anaconda3/envs/tf/lib/\n",
      "2024-03-25 14:32:38.471664: W tensorflow/compiler/xla/stream_executor/platform/default/dso_loader.cc:64] Could not load dynamic library 'libnvinfer_plugin.so.7'; dlerror: libnvinfer_plugin.so.7: cannot open shared object file: No such file or directory; LD_LIBRARY_PATH: :/usr/local/cuda/lib64:/usr/local/cuda/lib64:/home/onur/anaconda3/envs/tf/lib/\n",
      "2024-03-25 14:32:38.471698: W tensorflow/compiler/tf2tensorrt/utils/py_utils.cc:38] TF-TRT Warning: Cannot dlopen some TensorRT libraries. If you would like to use Nvidia GPU with TensorRT, please make sure the missing libraries mentioned above are installed properly.\n"
     ]
    }
   ],
   "source": [
    "import os\n",
    "os.environ[\"CUDA_VISIBLE_DEVICES\"] = \"\"\n",
    "\n",
    "import matplotlib.pyplot as plt\n",
    "import seaborn as sns\n",
    "from training_models import Autoencoder, DenoisingAutoencoder, AutoencoderEnsemble\n",
    "from monitor_models import Autocovariance, AugmentationCrossCovariances, RepresentationCrossCovariances\n",
    "from os.path import join\n",
    "import pandas as pd\n",
    "from directory import RESULTS_DIR, PLOTS_DIR"
   ]
  },
  {
   "cell_type": "code",
   "execution_count": 2,
   "metadata": {},
   "outputs": [],
   "source": [
    "EXP_NAME = \"exp_test\"\n",
    "EVAL_FILE_NAME = \"summary.csv\"\n",
    "LATEX_FILE_NAME = \"summary.tex\""
   ]
  },
  {
   "cell_type": "code",
   "execution_count": 3,
   "metadata": {},
   "outputs": [],
   "source": [
    "def _to_sigma_notation(row):\n",
    "    return f\"{row['ROC-AUC']} +- {row['ROC-AUC-STD']}\"\n",
    "\n",
    "def _create_method_name(row):\n",
    "    training_model_name = row[\"Training model\"]\n",
    "    monitoring_model_name = row[\"Monitoring model\"]\n",
    "\n",
    "    if training_model_name == Autoencoder().name and monitoring_model_name == Autocovariance().name:\n",
    "        return \"Autocovariance\"\n",
    "    \n",
    "    if training_model_name == DenoisingAutoencoder().name and monitoring_model_name == Autocovariance().name:\n",
    "        return \"Autocovariance \\n(Denoising)\"\n",
    "    \n",
    "    if training_model_name == Autoencoder().name and monitoring_model_name == AugmentationCrossCovariances().name:\n",
    "        return \"Augmentation Cross-covariances\"\n",
    "    \n",
    "    if training_model_name == DenoisingAutoencoder().name and monitoring_model_name == AugmentationCrossCovariances().name:\n",
    "        return \"Augmentation Cross-covariances \\n(Denoising)\"\n",
    "    \n",
    "    if training_model_name == AutoencoderEnsemble().name and monitoring_model_name == RepresentationCrossCovariances().name:\n",
    "        return \"Representation Cross-covariances\"\n",
    "    \n",
    "def _get_min_validation_loss_epochs(df_summary):\n",
    "    df_summary_grouped = df_summary.groupby(['Method', 'Training dataset', 'Testing dataset', 'Split'])\n",
    "    df_summary_min_validation = df_summary.loc[df_summary_grouped['Validation loss'].idxmin()]\n",
    "    df_summary_min_validation.reset_index()\n",
    "    return df_summary_min_validation\n",
    "\n",
    "def _add_rocauc_sigma_notation(df_summary):\n",
    "    _df_summary = df_summary.copy()\n",
    "    _df_summary_grouped = _df_summary.groupby(['Method', 'Training dataset', 'Testing dataset'])\n",
    "    \n",
    "    _df_summary_mean= _df_summary_grouped['ROC-AUC'].mean().reset_index()\n",
    "    _df_summary_std = _df_summary_grouped['ROC-AUC'].std().reset_index()\n",
    "    \n",
    "    _df_summary_mean[\"ROC-AUC-STD\"] = _df_summary_std['ROC-AUC']\n",
    "    _df_summary_mean = _df_summary_mean.round(3)\n",
    "    _df_summary_mean[\"ROC-AUC\"] = _df_summary_mean.apply(_to_sigma_notation, axis=1)\n",
    "    return _df_summary_mean"
   ]
  },
  {
   "cell_type": "code",
   "execution_count": 4,
   "metadata": {},
   "outputs": [
    {
     "name": "stderr",
     "output_type": "stream",
     "text": [
      "2024-03-25 14:32:46.418930: E tensorflow/compiler/xla/stream_executor/cuda/cuda_driver.cc:267] failed call to cuInit: CUDA_ERROR_NO_DEVICE: no CUDA-capable device is detected\n",
      "2024-03-25 14:32:46.418964: I tensorflow/compiler/xla/stream_executor/cuda/cuda_diagnostics.cc:169] retrieving CUDA diagnostic information for host: nova98\n",
      "2024-03-25 14:32:46.418967: I tensorflow/compiler/xla/stream_executor/cuda/cuda_diagnostics.cc:176] hostname: nova98\n",
      "2024-03-25 14:32:46.419053: I tensorflow/compiler/xla/stream_executor/cuda/cuda_diagnostics.cc:200] libcuda reported version is: 525.85.12\n",
      "2024-03-25 14:32:46.419116: I tensorflow/compiler/xla/stream_executor/cuda/cuda_diagnostics.cc:204] kernel reported version is: 525.85.12\n",
      "2024-03-25 14:32:46.419118: I tensorflow/compiler/xla/stream_executor/cuda/cuda_diagnostics.cc:310] kernel version seems to match DSO: 525.85.12\n",
      "2024-03-25 14:32:46.433211: I tensorflow/core/platform/cpu_feature_guard.cc:193] This TensorFlow binary is optimized with oneAPI Deep Neural Network Library (oneDNN) to use the following CPU instructions in performance-critical operations:  AVX2 AVX_VNNI FMA\n",
      "To enable them in other operations, rebuild TensorFlow with the appropriate compiler flags.\n"
     ]
    }
   ],
   "source": [
    "df_summary = pd.read_csv(join(RESULTS_DIR, EXP_NAME, EVAL_FILE_NAME))\n",
    "df_summary[\"Method\"] = df_summary.apply(_create_method_name, axis=1)\n",
    "df_summary.drop([\"Training model\", \"Monitoring model\"], axis=1, inplace=True)"
   ]
  },
  {
   "cell_type": "code",
   "execution_count": 5,
   "metadata": {},
   "outputs": [
    {
     "name": "stderr",
     "output_type": "stream",
     "text": [
      "/tmp/ipykernel_37477/2683659800.py:4: FutureWarning: In future versions `DataFrame.to_latex` is expected to utilise the base implementation of `Styler.to_latex` for formatting and rendering. The arguments signature may therefore change. It is recommended instead to use `DataFrame.style.to_latex` which also contains additional functionality.\n",
      "  df_summary.to_latex(join(RESULTS_DIR, EXP_NAME, LATEX_FILE_NAME))\n"
     ]
    }
   ],
   "source": [
    "df_summary = _get_min_validation_loss_epochs(df_summary)\n",
    "df_summary = _add_rocauc_sigma_notation(df_summary)\n",
    "df_summary.sort_values(by=['Training dataset', 'Testing dataset', 'Method'], inplace=True)\n",
    "df_summary.to_latex(join(RESULTS_DIR, EXP_NAME, LATEX_FILE_NAME))\n"
   ]
  }
 ],
 "metadata": {
  "kernelspec": {
   "display_name": "tf",
   "language": "python",
   "name": "python3"
  },
  "language_info": {
   "codemirror_mode": {
    "name": "ipython",
    "version": 3
   },
   "file_extension": ".py",
   "mimetype": "text/x-python",
   "name": "python",
   "nbconvert_exporter": "python",
   "pygments_lexer": "ipython3",
   "version": "3.10.9"
  },
  "orig_nbformat": 4
 },
 "nbformat": 4,
 "nbformat_minor": 2
}
