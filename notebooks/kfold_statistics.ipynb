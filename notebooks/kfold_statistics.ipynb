{
 "cells": [
  {
   "cell_type": "code",
   "execution_count": 125,
   "metadata": {},
   "outputs": [],
   "source": [
    "import seaborn as sns\n",
    "import pandas as pd\n",
    "import matplotlib.pyplot as plt\n",
    "import h5py as h5\n",
    "import numpy as np\n",
    "import matplotlib.pyplot as plt\n",
    "from sklearn.metrics import roc_curve, auc, precision_recall_curve, average_precision_score\n",
    "from pandas.api.types import is_numeric_dtype"
   ]
  },
  {
   "cell_type": "code",
   "execution_count": 126,
   "metadata": {},
   "outputs": [],
   "source": [
    "KFOLD = 5\n",
    "EXP_RESULTS_DIR = \"../results/timewarp_aug\"\n",
    "SPLITS = range(KFOLD)\n",
    "EVALS = [{\"train_dataset\":\"instance\", \"test_dataset\":\"instance\", \"model_name\":\"AugmentationCrossCovarianceMonitor30s\", \"epoch\":10, \"monitor_params\":[\"fcov\"]},\n",
    "         {\"train_dataset\":\"instance\", \"test_dataset\":\"stead\", \"model_name\":\"AugmentationCrossCovarianceMonitor30s\", \"epoch\":10, \"monitor_params\":[\"fcov\"]},\n",
    "         {\"train_dataset\":\"stead\", \"test_dataset\":\"instance\", \"model_name\":\"AugmentationCrossCovarianceMonitor30s\", \"epoch\": 10, \"monitor_params\":[\"fcov\"]},\n",
    "         {\"train_dataset\":\"stead\", \"test_dataset\":\"stead\", \"model_name\":\"AugmentationCrossCovarianceMonitor30s\", \"epoch\": 10, \"monitor_params\":[\"fcov\"]}]"
   ]
  },
  {
   "cell_type": "code",
   "execution_count": 127,
   "metadata": {},
   "outputs": [],
   "source": [
    "def get_trace_path(split_idx, train_dataset, test_dataset, model_name):\n",
    "    return \"{}/training_{}/testing_{}/{}/split{}/traces.csv\".format(EXP_RESULTS_DIR, train_dataset, test_dataset, model_name, split_idx)\n",
    "\n",
    "def get_monitor_path(split_idx, train_dataset, test_dataset, model_name, epoch, monitor_params):\n",
    "    return \"{}/training_{}/testing_{}/{}/split{}/epoch{}_monitoredparams{}.hdf5\".format(EXP_RESULTS_DIR, train_dataset, test_dataset, model_name, split_idx, epoch, monitor_params)"
   ]
  },
  {
   "cell_type": "code",
   "execution_count": 128,
   "metadata": {},
   "outputs": [],
   "source": [
    "def softmax(fc, gain=4, axis=1):\n",
    "    # First normalize the fc values.\n",
    "    # Make it's standart deviation 1. And mean 0.\n",
    "    fc = fc - np.mean(fc, axis=axis, keepdims=True)\n",
    "    fc = fc / (1e-37+np.std(fc, axis=axis, keepdims=True))\n",
    "\n",
    "    fc = fc - np.max(fc, axis=axis, keepdims=True)\n",
    "    return np.exp(gain * fc) / np.sum(np.exp(gain * fc), axis=axis, keepdims=True)\n",
    "\n",
    "def linear_map(x, a, b):\n",
    "    return a + (b - a) * (x - np.min(x)) / (np.max(x) - np.min(x))\n",
    "\n",
    "def gaussian(x, mu, sig, axis=1):\n",
    "    g = np.exp(-np.power(x - mu, 2.) / (2 * np.power(sig, 2.)))\n",
    "    return g / np.sum(g, axis=axis, keepdims=True)\n",
    "\n",
    "def detection_probability_ensemble(cov, window_size=5.0):\n",
    "    # (BATCH_SIZE, N_ENSEMBLE, N_TIMESTEPS)\n",
    "    ts = np.shape(cov)[2]\n",
    "    t = np.expand_dims(np.expand_dims(np.linspace(-15, 15, ts), axis=0), axis=0)\n",
    "\n",
    "    g = gaussian(t, np.zeros_like(t), window_size*np.ones_like(t), axis=2)\n",
    "\n",
    "    return np.mean(np.sum(cov * g, axis=(2)), axis=1)\n",
    "\n",
    "def detection_probability(cov, window_size=5.0):\n",
    "    ts = np.shape(cov)[1]\n",
    "    t = np.expand_dims(np.linspace(-15, 15, ts), axis=0)\n",
    "    \n",
    "    g = gaussian(t, np.zeros_like(t), window_size*np.ones_like(t))\n",
    "    \n",
    "    return np.sum(cov * g, axis=1)\n",
    "\n",
    "def batch_normalize_feature(f):\n",
    "    # Demean each channel over time axes.\n",
    "    f = f - np.mean(f, axis=(1), keepdims=True)\n",
    "    \n",
    "    # Normalize each channel by dividing it to standart deviation.\n",
    "    f = f / np.sqrt(np.mean(np.square(f), axis=(0, 1), keepdims=True))\n",
    "\n",
    "    return f\n",
    "\n",
    "def get_maxf1_threshold(thresholds, pre, rec):\n",
    "    f1_score = 2 * pre * rec / (1e-37 + pre + rec)\n",
    "    max_f1_score_idx = np.argmax(f1_score)\n",
    "    return thresholds[max_f1_score_idx]\n",
    "\n",
    "def get_balanced_accuracy(tpr, fpr, thresholds, best_f1_threshold):\n",
    "    idx = np.argmin(np.abs(thresholds - best_f1_threshold))\n",
    "    return ((tpr[idx] + (1 - fpr[idx])) / 2)\n",
    "\n",
    "def get_metrics(pre, rec, thresholds, best_f1_threshold):\n",
    "    idx = np.argmin(np.abs(thresholds - best_f1_threshold))\n",
    "    f1_score = 2 * pre * rec / (1e-37 + pre + rec)\n",
    "    return {\n",
    "        \"pre\":pre[idx],\n",
    "        \"rec\":rec[idx],\n",
    "        \"f1_score\":f1_score[idx]}\n",
    "    \n",
    "def plot_density(df_traces, metric):\n",
    "    plt.clf()\n",
    "    plt.figure(figsize=(10, 8))\n",
    "    sns.kdeplot(data=df_traces, hue=\"label\", x=df_traces[metric], bw_adjust=0.05)\n",
    "\n",
    "def plot_roc(models):\n",
    "    plt.clf()\n",
    "    plt.figure(figsize=(10, 8))\n",
    "    ax = plt.subplot(111)\n",
    "    ax.set_xlabel(\"FPR\")\n",
    "    ax.set_ylabel(\"TPR\")\n",
    "\n",
    "    for model in models:\n",
    "        ax.plot(model[\"fpr\"],  model[\"tpr\"], label =model[\"name\"])\n",
    "    \n",
    "    ax.legend()\n",
    "\n",
    "def is_test_sample(df):\n",
    "    df[\"min_crop_offset\"] = df[\"p_arrival_sample\"] + 300 - 3000\n",
    "    df[\"max_crop_offset\"] = df[\"p_arrival_sample\"] - 300\n",
    "\n",
    "    return ((df[\"min_crop_offset\"] < df[\"crop_offset\"]) & ((df[\"crop_offset\"] < df[\"max_crop_offset\"])))\n",
    "\n",
    "def get_latex_table(df_metrics):\n",
    "    columns = [\"Method\", \"Training\", \"Testing\", \"ROC-AUC\", \"Precision\", \"Recall\", \"F1-Score\"]\n",
    "    trainsets = df_metrics[\"training\"].unique()\n",
    "    testsets = df_metrics[\"testing\"].unique()\n",
    "    models = df_metrics[\"model\"].unique()\n",
    "\n",
    "    latex_table = \"\"\n",
    "    for column in columns:\n",
    "        latex_table += \"& {} \".format(column)\n",
    "    latex_table += \"\\\\\\\\ \\\\hline \\n\"\n",
    "\n",
    "    for trainset in trainsets:\n",
    "        for testset in testsets:\n",
    "            for model in models:\n",
    "                df_exp = df_metrics[(df_metrics[\"model\"] == model) & (df_metrics[\"training\"] == trainset) & (df_metrics[\"testing\"] == testset)]\n",
    "                latex_table += \"\\\\\\\\ \\\\hline \\n\"\n",
    "                for column in columns:\n",
    "                    if is_numeric_dtype(df_exp[column]):\n",
    "                        latex_table += \"& ${:.3f} \\pm {:.3f}$ \".format(np.mean(df_exp[column]), np.std(df_exp[column]))\n",
    "                    else:\n",
    "                        latex_table += \"& {} \".format(df_exp[column].values[0])\n",
    "                latex_table += \"\\\\\\\\ \\\\hline \\n\"\n",
    "    \n",
    "    return latex_table"
   ]
  },
  {
   "cell_type": "code",
   "execution_count": 129,
   "metadata": {},
   "outputs": [
    {
     "name": "stdout",
     "output_type": "stream",
     "text": [
      "Total nans 0\n"
     ]
    },
    {
     "name": "stderr",
     "output_type": "stream",
     "text": [
      "/tmp/ipykernel_316938/1220699846.py:91: SettingWithCopyWarning: \n",
      "A value is trying to be set on a copy of a slice from a DataFrame.\n",
      "Try using .loc[row_indexer,col_indexer] = value instead\n",
      "\n",
      "See the caveats in the documentation: https://pandas.pydata.org/pandas-docs/stable/user_guide/indexing.html#returning-a-view-versus-a-copy\n",
      "  df[\"min_crop_offset\"] = df[\"p_arrival_sample\"] + 300 - 3000\n",
      "/tmp/ipykernel_316938/1220699846.py:92: SettingWithCopyWarning: \n",
      "A value is trying to be set on a copy of a slice from a DataFrame.\n",
      "Try using .loc[row_indexer,col_indexer] = value instead\n",
      "\n",
      "See the caveats in the documentation: https://pandas.pydata.org/pandas-docs/stable/user_guide/indexing.html#returning-a-view-versus-a-copy\n",
      "  df[\"max_crop_offset\"] = df[\"p_arrival_sample\"] - 300\n"
     ]
    },
    {
     "name": "stdout",
     "output_type": "stream",
     "text": [
      "Total nans 0\n"
     ]
    },
    {
     "name": "stderr",
     "output_type": "stream",
     "text": [
      "/tmp/ipykernel_316938/1220699846.py:91: SettingWithCopyWarning: \n",
      "A value is trying to be set on a copy of a slice from a DataFrame.\n",
      "Try using .loc[row_indexer,col_indexer] = value instead\n",
      "\n",
      "See the caveats in the documentation: https://pandas.pydata.org/pandas-docs/stable/user_guide/indexing.html#returning-a-view-versus-a-copy\n",
      "  df[\"min_crop_offset\"] = df[\"p_arrival_sample\"] + 300 - 3000\n",
      "/tmp/ipykernel_316938/1220699846.py:92: SettingWithCopyWarning: \n",
      "A value is trying to be set on a copy of a slice from a DataFrame.\n",
      "Try using .loc[row_indexer,col_indexer] = value instead\n",
      "\n",
      "See the caveats in the documentation: https://pandas.pydata.org/pandas-docs/stable/user_guide/indexing.html#returning-a-view-versus-a-copy\n",
      "  df[\"max_crop_offset\"] = df[\"p_arrival_sample\"] - 300\n"
     ]
    },
    {
     "name": "stdout",
     "output_type": "stream",
     "text": [
      "Total nans 0\n"
     ]
    },
    {
     "name": "stderr",
     "output_type": "stream",
     "text": [
      "/tmp/ipykernel_316938/1220699846.py:91: SettingWithCopyWarning: \n",
      "A value is trying to be set on a copy of a slice from a DataFrame.\n",
      "Try using .loc[row_indexer,col_indexer] = value instead\n",
      "\n",
      "See the caveats in the documentation: https://pandas.pydata.org/pandas-docs/stable/user_guide/indexing.html#returning-a-view-versus-a-copy\n",
      "  df[\"min_crop_offset\"] = df[\"p_arrival_sample\"] + 300 - 3000\n",
      "/tmp/ipykernel_316938/1220699846.py:92: SettingWithCopyWarning: \n",
      "A value is trying to be set on a copy of a slice from a DataFrame.\n",
      "Try using .loc[row_indexer,col_indexer] = value instead\n",
      "\n",
      "See the caveats in the documentation: https://pandas.pydata.org/pandas-docs/stable/user_guide/indexing.html#returning-a-view-versus-a-copy\n",
      "  df[\"max_crop_offset\"] = df[\"p_arrival_sample\"] - 300\n"
     ]
    },
    {
     "name": "stdout",
     "output_type": "stream",
     "text": [
      "Total nans 0\n"
     ]
    },
    {
     "name": "stderr",
     "output_type": "stream",
     "text": [
      "/tmp/ipykernel_316938/1220699846.py:91: SettingWithCopyWarning: \n",
      "A value is trying to be set on a copy of a slice from a DataFrame.\n",
      "Try using .loc[row_indexer,col_indexer] = value instead\n",
      "\n",
      "See the caveats in the documentation: https://pandas.pydata.org/pandas-docs/stable/user_guide/indexing.html#returning-a-view-versus-a-copy\n",
      "  df[\"min_crop_offset\"] = df[\"p_arrival_sample\"] + 300 - 3000\n",
      "/tmp/ipykernel_316938/1220699846.py:92: SettingWithCopyWarning: \n",
      "A value is trying to be set on a copy of a slice from a DataFrame.\n",
      "Try using .loc[row_indexer,col_indexer] = value instead\n",
      "\n",
      "See the caveats in the documentation: https://pandas.pydata.org/pandas-docs/stable/user_guide/indexing.html#returning-a-view-versus-a-copy\n",
      "  df[\"max_crop_offset\"] = df[\"p_arrival_sample\"] - 300\n"
     ]
    },
    {
     "name": "stdout",
     "output_type": "stream",
     "text": [
      "Total nans 0\n"
     ]
    },
    {
     "name": "stderr",
     "output_type": "stream",
     "text": [
      "/tmp/ipykernel_316938/1220699846.py:91: SettingWithCopyWarning: \n",
      "A value is trying to be set on a copy of a slice from a DataFrame.\n",
      "Try using .loc[row_indexer,col_indexer] = value instead\n",
      "\n",
      "See the caveats in the documentation: https://pandas.pydata.org/pandas-docs/stable/user_guide/indexing.html#returning-a-view-versus-a-copy\n",
      "  df[\"min_crop_offset\"] = df[\"p_arrival_sample\"] + 300 - 3000\n",
      "/tmp/ipykernel_316938/1220699846.py:92: SettingWithCopyWarning: \n",
      "A value is trying to be set on a copy of a slice from a DataFrame.\n",
      "Try using .loc[row_indexer,col_indexer] = value instead\n",
      "\n",
      "See the caveats in the documentation: https://pandas.pydata.org/pandas-docs/stable/user_guide/indexing.html#returning-a-view-versus-a-copy\n",
      "  df[\"max_crop_offset\"] = df[\"p_arrival_sample\"] - 300\n",
      "/tmp/ipykernel_316938/15461894.py:19: DtypeWarning: Columns (22) have mixed types. Specify dtype option on import or set low_memory=False.\n",
      "  df_traces = pd.read_csv(df_path)\n",
      "/tmp/ipykernel_316938/1220699846.py:91: SettingWithCopyWarning: \n",
      "A value is trying to be set on a copy of a slice from a DataFrame.\n",
      "Try using .loc[row_indexer,col_indexer] = value instead\n",
      "\n",
      "See the caveats in the documentation: https://pandas.pydata.org/pandas-docs/stable/user_guide/indexing.html#returning-a-view-versus-a-copy\n",
      "  df[\"min_crop_offset\"] = df[\"p_arrival_sample\"] + 300 - 3000\n",
      "/tmp/ipykernel_316938/1220699846.py:92: SettingWithCopyWarning: \n",
      "A value is trying to be set on a copy of a slice from a DataFrame.\n",
      "Try using .loc[row_indexer,col_indexer] = value instead\n",
      "\n",
      "See the caveats in the documentation: https://pandas.pydata.org/pandas-docs/stable/user_guide/indexing.html#returning-a-view-versus-a-copy\n",
      "  df[\"max_crop_offset\"] = df[\"p_arrival_sample\"] - 300\n"
     ]
    },
    {
     "name": "stdout",
     "output_type": "stream",
     "text": [
      "Total nans 0\n"
     ]
    },
    {
     "name": "stderr",
     "output_type": "stream",
     "text": [
      "/tmp/ipykernel_316938/15461894.py:19: DtypeWarning: Columns (22) have mixed types. Specify dtype option on import or set low_memory=False.\n",
      "  df_traces = pd.read_csv(df_path)\n",
      "/tmp/ipykernel_316938/1220699846.py:91: SettingWithCopyWarning: \n",
      "A value is trying to be set on a copy of a slice from a DataFrame.\n",
      "Try using .loc[row_indexer,col_indexer] = value instead\n",
      "\n",
      "See the caveats in the documentation: https://pandas.pydata.org/pandas-docs/stable/user_guide/indexing.html#returning-a-view-versus-a-copy\n",
      "  df[\"min_crop_offset\"] = df[\"p_arrival_sample\"] + 300 - 3000\n",
      "/tmp/ipykernel_316938/1220699846.py:92: SettingWithCopyWarning: \n",
      "A value is trying to be set on a copy of a slice from a DataFrame.\n",
      "Try using .loc[row_indexer,col_indexer] = value instead\n",
      "\n",
      "See the caveats in the documentation: https://pandas.pydata.org/pandas-docs/stable/user_guide/indexing.html#returning-a-view-versus-a-copy\n",
      "  df[\"max_crop_offset\"] = df[\"p_arrival_sample\"] - 300\n"
     ]
    },
    {
     "name": "stdout",
     "output_type": "stream",
     "text": [
      "Total nans 0\n"
     ]
    },
    {
     "name": "stderr",
     "output_type": "stream",
     "text": [
      "/tmp/ipykernel_316938/15461894.py:19: DtypeWarning: Columns (22) have mixed types. Specify dtype option on import or set low_memory=False.\n",
      "  df_traces = pd.read_csv(df_path)\n",
      "/tmp/ipykernel_316938/1220699846.py:91: SettingWithCopyWarning: \n",
      "A value is trying to be set on a copy of a slice from a DataFrame.\n",
      "Try using .loc[row_indexer,col_indexer] = value instead\n",
      "\n",
      "See the caveats in the documentation: https://pandas.pydata.org/pandas-docs/stable/user_guide/indexing.html#returning-a-view-versus-a-copy\n",
      "  df[\"min_crop_offset\"] = df[\"p_arrival_sample\"] + 300 - 3000\n",
      "/tmp/ipykernel_316938/1220699846.py:92: SettingWithCopyWarning: \n",
      "A value is trying to be set on a copy of a slice from a DataFrame.\n",
      "Try using .loc[row_indexer,col_indexer] = value instead\n",
      "\n",
      "See the caveats in the documentation: https://pandas.pydata.org/pandas-docs/stable/user_guide/indexing.html#returning-a-view-versus-a-copy\n",
      "  df[\"max_crop_offset\"] = df[\"p_arrival_sample\"] - 300\n"
     ]
    },
    {
     "name": "stdout",
     "output_type": "stream",
     "text": [
      "Total nans 0\n"
     ]
    },
    {
     "name": "stderr",
     "output_type": "stream",
     "text": [
      "/tmp/ipykernel_316938/15461894.py:19: DtypeWarning: Columns (22) have mixed types. Specify dtype option on import or set low_memory=False.\n",
      "  df_traces = pd.read_csv(df_path)\n",
      "/tmp/ipykernel_316938/1220699846.py:91: SettingWithCopyWarning: \n",
      "A value is trying to be set on a copy of a slice from a DataFrame.\n",
      "Try using .loc[row_indexer,col_indexer] = value instead\n",
      "\n",
      "See the caveats in the documentation: https://pandas.pydata.org/pandas-docs/stable/user_guide/indexing.html#returning-a-view-versus-a-copy\n",
      "  df[\"min_crop_offset\"] = df[\"p_arrival_sample\"] + 300 - 3000\n",
      "/tmp/ipykernel_316938/1220699846.py:92: SettingWithCopyWarning: \n",
      "A value is trying to be set on a copy of a slice from a DataFrame.\n",
      "Try using .loc[row_indexer,col_indexer] = value instead\n",
      "\n",
      "See the caveats in the documentation: https://pandas.pydata.org/pandas-docs/stable/user_guide/indexing.html#returning-a-view-versus-a-copy\n",
      "  df[\"max_crop_offset\"] = df[\"p_arrival_sample\"] - 300\n"
     ]
    },
    {
     "name": "stdout",
     "output_type": "stream",
     "text": [
      "Total nans 0\n"
     ]
    },
    {
     "name": "stderr",
     "output_type": "stream",
     "text": [
      "/tmp/ipykernel_316938/15461894.py:19: DtypeWarning: Columns (22) have mixed types. Specify dtype option on import or set low_memory=False.\n",
      "  df_traces = pd.read_csv(df_path)\n",
      "/tmp/ipykernel_316938/1220699846.py:91: SettingWithCopyWarning: \n",
      "A value is trying to be set on a copy of a slice from a DataFrame.\n",
      "Try using .loc[row_indexer,col_indexer] = value instead\n",
      "\n",
      "See the caveats in the documentation: https://pandas.pydata.org/pandas-docs/stable/user_guide/indexing.html#returning-a-view-versus-a-copy\n",
      "  df[\"min_crop_offset\"] = df[\"p_arrival_sample\"] + 300 - 3000\n",
      "/tmp/ipykernel_316938/1220699846.py:92: SettingWithCopyWarning: \n",
      "A value is trying to be set on a copy of a slice from a DataFrame.\n",
      "Try using .loc[row_indexer,col_indexer] = value instead\n",
      "\n",
      "See the caveats in the documentation: https://pandas.pydata.org/pandas-docs/stable/user_guide/indexing.html#returning-a-view-versus-a-copy\n",
      "  df[\"max_crop_offset\"] = df[\"p_arrival_sample\"] - 300\n"
     ]
    },
    {
     "name": "stdout",
     "output_type": "stream",
     "text": [
      "Total nans 0\n",
      "Total nans 0\n"
     ]
    },
    {
     "name": "stderr",
     "output_type": "stream",
     "text": [
      "/tmp/ipykernel_316938/1220699846.py:91: SettingWithCopyWarning: \n",
      "A value is trying to be set on a copy of a slice from a DataFrame.\n",
      "Try using .loc[row_indexer,col_indexer] = value instead\n",
      "\n",
      "See the caveats in the documentation: https://pandas.pydata.org/pandas-docs/stable/user_guide/indexing.html#returning-a-view-versus-a-copy\n",
      "  df[\"min_crop_offset\"] = df[\"p_arrival_sample\"] + 300 - 3000\n",
      "/tmp/ipykernel_316938/1220699846.py:92: SettingWithCopyWarning: \n",
      "A value is trying to be set on a copy of a slice from a DataFrame.\n",
      "Try using .loc[row_indexer,col_indexer] = value instead\n",
      "\n",
      "See the caveats in the documentation: https://pandas.pydata.org/pandas-docs/stable/user_guide/indexing.html#returning-a-view-versus-a-copy\n",
      "  df[\"max_crop_offset\"] = df[\"p_arrival_sample\"] - 300\n"
     ]
    },
    {
     "name": "stdout",
     "output_type": "stream",
     "text": [
      "Total nans 0\n"
     ]
    },
    {
     "name": "stderr",
     "output_type": "stream",
     "text": [
      "/tmp/ipykernel_316938/1220699846.py:91: SettingWithCopyWarning: \n",
      "A value is trying to be set on a copy of a slice from a DataFrame.\n",
      "Try using .loc[row_indexer,col_indexer] = value instead\n",
      "\n",
      "See the caveats in the documentation: https://pandas.pydata.org/pandas-docs/stable/user_guide/indexing.html#returning-a-view-versus-a-copy\n",
      "  df[\"min_crop_offset\"] = df[\"p_arrival_sample\"] + 300 - 3000\n",
      "/tmp/ipykernel_316938/1220699846.py:92: SettingWithCopyWarning: \n",
      "A value is trying to be set on a copy of a slice from a DataFrame.\n",
      "Try using .loc[row_indexer,col_indexer] = value instead\n",
      "\n",
      "See the caveats in the documentation: https://pandas.pydata.org/pandas-docs/stable/user_guide/indexing.html#returning-a-view-versus-a-copy\n",
      "  df[\"max_crop_offset\"] = df[\"p_arrival_sample\"] - 300\n"
     ]
    },
    {
     "name": "stdout",
     "output_type": "stream",
     "text": [
      "Total nans 0\n"
     ]
    },
    {
     "name": "stderr",
     "output_type": "stream",
     "text": [
      "/tmp/ipykernel_316938/1220699846.py:91: SettingWithCopyWarning: \n",
      "A value is trying to be set on a copy of a slice from a DataFrame.\n",
      "Try using .loc[row_indexer,col_indexer] = value instead\n",
      "\n",
      "See the caveats in the documentation: https://pandas.pydata.org/pandas-docs/stable/user_guide/indexing.html#returning-a-view-versus-a-copy\n",
      "  df[\"min_crop_offset\"] = df[\"p_arrival_sample\"] + 300 - 3000\n",
      "/tmp/ipykernel_316938/1220699846.py:92: SettingWithCopyWarning: \n",
      "A value is trying to be set on a copy of a slice from a DataFrame.\n",
      "Try using .loc[row_indexer,col_indexer] = value instead\n",
      "\n",
      "See the caveats in the documentation: https://pandas.pydata.org/pandas-docs/stable/user_guide/indexing.html#returning-a-view-versus-a-copy\n",
      "  df[\"max_crop_offset\"] = df[\"p_arrival_sample\"] - 300\n"
     ]
    },
    {
     "name": "stdout",
     "output_type": "stream",
     "text": [
      "Total nans 0\n"
     ]
    },
    {
     "name": "stderr",
     "output_type": "stream",
     "text": [
      "/tmp/ipykernel_316938/1220699846.py:91: SettingWithCopyWarning: \n",
      "A value is trying to be set on a copy of a slice from a DataFrame.\n",
      "Try using .loc[row_indexer,col_indexer] = value instead\n",
      "\n",
      "See the caveats in the documentation: https://pandas.pydata.org/pandas-docs/stable/user_guide/indexing.html#returning-a-view-versus-a-copy\n",
      "  df[\"min_crop_offset\"] = df[\"p_arrival_sample\"] + 300 - 3000\n",
      "/tmp/ipykernel_316938/1220699846.py:92: SettingWithCopyWarning: \n",
      "A value is trying to be set on a copy of a slice from a DataFrame.\n",
      "Try using .loc[row_indexer,col_indexer] = value instead\n",
      "\n",
      "See the caveats in the documentation: https://pandas.pydata.org/pandas-docs/stable/user_guide/indexing.html#returning-a-view-versus-a-copy\n",
      "  df[\"max_crop_offset\"] = df[\"p_arrival_sample\"] - 300\n"
     ]
    },
    {
     "name": "stdout",
     "output_type": "stream",
     "text": [
      "Total nans 0\n"
     ]
    },
    {
     "name": "stderr",
     "output_type": "stream",
     "text": [
      "/tmp/ipykernel_316938/1220699846.py:91: SettingWithCopyWarning: \n",
      "A value is trying to be set on a copy of a slice from a DataFrame.\n",
      "Try using .loc[row_indexer,col_indexer] = value instead\n",
      "\n",
      "See the caveats in the documentation: https://pandas.pydata.org/pandas-docs/stable/user_guide/indexing.html#returning-a-view-versus-a-copy\n",
      "  df[\"min_crop_offset\"] = df[\"p_arrival_sample\"] + 300 - 3000\n",
      "/tmp/ipykernel_316938/1220699846.py:92: SettingWithCopyWarning: \n",
      "A value is trying to be set on a copy of a slice from a DataFrame.\n",
      "Try using .loc[row_indexer,col_indexer] = value instead\n",
      "\n",
      "See the caveats in the documentation: https://pandas.pydata.org/pandas-docs/stable/user_guide/indexing.html#returning-a-view-versus-a-copy\n",
      "  df[\"max_crop_offset\"] = df[\"p_arrival_sample\"] - 300\n",
      "/tmp/ipykernel_316938/15461894.py:19: DtypeWarning: Columns (22) have mixed types. Specify dtype option on import or set low_memory=False.\n",
      "  df_traces = pd.read_csv(df_path)\n"
     ]
    },
    {
     "name": "stdout",
     "output_type": "stream",
     "text": [
      "Total nans 0\n"
     ]
    },
    {
     "name": "stderr",
     "output_type": "stream",
     "text": [
      "/tmp/ipykernel_316938/1220699846.py:91: SettingWithCopyWarning: \n",
      "A value is trying to be set on a copy of a slice from a DataFrame.\n",
      "Try using .loc[row_indexer,col_indexer] = value instead\n",
      "\n",
      "See the caveats in the documentation: https://pandas.pydata.org/pandas-docs/stable/user_guide/indexing.html#returning-a-view-versus-a-copy\n",
      "  df[\"min_crop_offset\"] = df[\"p_arrival_sample\"] + 300 - 3000\n",
      "/tmp/ipykernel_316938/1220699846.py:92: SettingWithCopyWarning: \n",
      "A value is trying to be set on a copy of a slice from a DataFrame.\n",
      "Try using .loc[row_indexer,col_indexer] = value instead\n",
      "\n",
      "See the caveats in the documentation: https://pandas.pydata.org/pandas-docs/stable/user_guide/indexing.html#returning-a-view-versus-a-copy\n",
      "  df[\"max_crop_offset\"] = df[\"p_arrival_sample\"] - 300\n",
      "/tmp/ipykernel_316938/15461894.py:19: DtypeWarning: Columns (22) have mixed types. Specify dtype option on import or set low_memory=False.\n",
      "  df_traces = pd.read_csv(df_path)\n"
     ]
    },
    {
     "name": "stdout",
     "output_type": "stream",
     "text": [
      "Total nans 0\n"
     ]
    },
    {
     "name": "stderr",
     "output_type": "stream",
     "text": [
      "/tmp/ipykernel_316938/1220699846.py:91: SettingWithCopyWarning: \n",
      "A value is trying to be set on a copy of a slice from a DataFrame.\n",
      "Try using .loc[row_indexer,col_indexer] = value instead\n",
      "\n",
      "See the caveats in the documentation: https://pandas.pydata.org/pandas-docs/stable/user_guide/indexing.html#returning-a-view-versus-a-copy\n",
      "  df[\"min_crop_offset\"] = df[\"p_arrival_sample\"] + 300 - 3000\n",
      "/tmp/ipykernel_316938/1220699846.py:92: SettingWithCopyWarning: \n",
      "A value is trying to be set on a copy of a slice from a DataFrame.\n",
      "Try using .loc[row_indexer,col_indexer] = value instead\n",
      "\n",
      "See the caveats in the documentation: https://pandas.pydata.org/pandas-docs/stable/user_guide/indexing.html#returning-a-view-versus-a-copy\n",
      "  df[\"max_crop_offset\"] = df[\"p_arrival_sample\"] - 300\n",
      "/tmp/ipykernel_316938/15461894.py:19: DtypeWarning: Columns (22) have mixed types. Specify dtype option on import or set low_memory=False.\n",
      "  df_traces = pd.read_csv(df_path)\n"
     ]
    },
    {
     "name": "stdout",
     "output_type": "stream",
     "text": [
      "Total nans 0\n"
     ]
    },
    {
     "name": "stderr",
     "output_type": "stream",
     "text": [
      "/tmp/ipykernel_316938/1220699846.py:91: SettingWithCopyWarning: \n",
      "A value is trying to be set on a copy of a slice from a DataFrame.\n",
      "Try using .loc[row_indexer,col_indexer] = value instead\n",
      "\n",
      "See the caveats in the documentation: https://pandas.pydata.org/pandas-docs/stable/user_guide/indexing.html#returning-a-view-versus-a-copy\n",
      "  df[\"min_crop_offset\"] = df[\"p_arrival_sample\"] + 300 - 3000\n",
      "/tmp/ipykernel_316938/1220699846.py:92: SettingWithCopyWarning: \n",
      "A value is trying to be set on a copy of a slice from a DataFrame.\n",
      "Try using .loc[row_indexer,col_indexer] = value instead\n",
      "\n",
      "See the caveats in the documentation: https://pandas.pydata.org/pandas-docs/stable/user_guide/indexing.html#returning-a-view-versus-a-copy\n",
      "  df[\"max_crop_offset\"] = df[\"p_arrival_sample\"] - 300\n",
      "/tmp/ipykernel_316938/15461894.py:19: DtypeWarning: Columns (22) have mixed types. Specify dtype option on import or set low_memory=False.\n",
      "  df_traces = pd.read_csv(df_path)\n"
     ]
    },
    {
     "name": "stdout",
     "output_type": "stream",
     "text": [
      "Total nans 0\n"
     ]
    },
    {
     "name": "stderr",
     "output_type": "stream",
     "text": [
      "/tmp/ipykernel_316938/1220699846.py:91: SettingWithCopyWarning: \n",
      "A value is trying to be set on a copy of a slice from a DataFrame.\n",
      "Try using .loc[row_indexer,col_indexer] = value instead\n",
      "\n",
      "See the caveats in the documentation: https://pandas.pydata.org/pandas-docs/stable/user_guide/indexing.html#returning-a-view-versus-a-copy\n",
      "  df[\"min_crop_offset\"] = df[\"p_arrival_sample\"] + 300 - 3000\n",
      "/tmp/ipykernel_316938/1220699846.py:92: SettingWithCopyWarning: \n",
      "A value is trying to be set on a copy of a slice from a DataFrame.\n",
      "Try using .loc[row_indexer,col_indexer] = value instead\n",
      "\n",
      "See the caveats in the documentation: https://pandas.pydata.org/pandas-docs/stable/user_guide/indexing.html#returning-a-view-versus-a-copy\n",
      "  df[\"max_crop_offset\"] = df[\"p_arrival_sample\"] - 300\n",
      "/tmp/ipykernel_316938/15461894.py:19: DtypeWarning: Columns (22) have mixed types. Specify dtype option on import or set low_memory=False.\n",
      "  df_traces = pd.read_csv(df_path)\n"
     ]
    },
    {
     "name": "stdout",
     "output_type": "stream",
     "text": [
      "Total nans 0\n"
     ]
    },
    {
     "name": "stderr",
     "output_type": "stream",
     "text": [
      "/tmp/ipykernel_316938/1220699846.py:91: SettingWithCopyWarning: \n",
      "A value is trying to be set on a copy of a slice from a DataFrame.\n",
      "Try using .loc[row_indexer,col_indexer] = value instead\n",
      "\n",
      "See the caveats in the documentation: https://pandas.pydata.org/pandas-docs/stable/user_guide/indexing.html#returning-a-view-versus-a-copy\n",
      "  df[\"min_crop_offset\"] = df[\"p_arrival_sample\"] + 300 - 3000\n",
      "/tmp/ipykernel_316938/1220699846.py:92: SettingWithCopyWarning: \n",
      "A value is trying to be set on a copy of a slice from a DataFrame.\n",
      "Try using .loc[row_indexer,col_indexer] = value instead\n",
      "\n",
      "See the caveats in the documentation: https://pandas.pydata.org/pandas-docs/stable/user_guide/indexing.html#returning-a-view-versus-a-copy\n",
      "  df[\"max_crop_offset\"] = df[\"p_arrival_sample\"] - 300\n"
     ]
    },
    {
     "name": "stdout",
     "output_type": "stream",
     "text": [
      "Results:\n",
      "& model & training & testing & auc & pre & rec & f1_score \\\\ \\hline \n",
      "& AugmentationCrossCovarianceMonitor30s & instance & instance & $0.963 \\pm 0.006$ & $0.964 \\pm 0.002$ & $0.961 \\pm 0.002$ & $0.963 \\pm 0.002$ \\\\ \\hline \n",
      "& model & training & testing & auc & pre & rec & f1_score \\\\ \\hline \n",
      "& AugmentationCrossCovarianceMonitor30s & instance & stead & $0.969 \\pm 0.013$ & $0.933 \\pm 0.011$ & $0.967 \\pm 0.003$ & $0.950 \\pm 0.006$ \\\\ \\hline \n",
      "& model & training & testing & auc & pre & rec & f1_score \\\\ \\hline \n",
      "& AugmentationCrossCovarianceMonitor30s & stead & instance & $0.966 \\pm 0.003$ & $0.965 \\pm 0.002$ & $0.960 \\pm 0.002$ & $0.963 \\pm 0.002$ \\\\ \\hline \n",
      "& model & training & testing & auc & pre & rec & f1_score \\\\ \\hline \n",
      "& AugmentationCrossCovarianceMonitor30s & stead & stead & $0.972 \\pm 0.007$ & $0.936 \\pm 0.009$ & $0.969 \\pm 0.002$ & $0.952 \\pm 0.005$ \\\\ \\hline \n",
      "\n"
     ]
    }
   ],
   "source": [
    "df_list = []\n",
    "fc_list = []\n",
    "df_metrics_list = []\n",
    "for eval in EVALS:    \n",
    "    for i in range(KFOLD):\n",
    "        with h5.File(get_monitor_path(split_idx=i, \n",
    "                                      train_dataset=eval[\"train_dataset\"], \n",
    "                                      test_dataset=eval[\"test_dataset\"], \n",
    "                                      model_name=eval[\"model_name\"],\n",
    "                                      epoch=eval[\"epoch\"],\n",
    "                                      monitor_params=eval[\"monitor_params\"]), \"r\") as f:\n",
    "            \n",
    "            df_path = get_trace_path(split_idx=i, \n",
    "                           train_dataset = eval[\"train_dataset\"], \n",
    "                           test_dataset=eval[\"test_dataset\"], \n",
    "                           model_name = eval[\"model_name\"])\n",
    "\n",
    "\n",
    "            df_traces = pd.read_csv(df_path)\n",
    "\n",
    "            fcov = np.array(f[\"fcov\"])\n",
    "            print(\"Total nans\", np.isnan(fcov).sum())\n",
    "\n",
    "            # Reset traces index.\n",
    "            df_traces.reset_index(inplace=True)\n",
    "            df_eq = df_traces[df_traces.label == \"eq\"]\n",
    "            df_no = df_traces[df_traces.label == \"no\"]\n",
    "\n",
    "            # Eliminate ill cropped traces.\n",
    "            df_eq = df_eq[is_test_sample(df_eq)]\n",
    "\n",
    "            # Concat eq and no traces. And shuffle them. Index.\n",
    "            df_traces = pd.concat([df_eq, df_no], ignore_index=False)\n",
    "            df_traces = df_traces.sample(frac=1)\n",
    "            fcov = fcov[np.array(df_traces.index), :]\n",
    "\n",
    "            df_list.append(df_traces)\n",
    "            fc_list.append(fcov)\n",
    "\n",
    "            #df_traces[\"similarity\"]= detection_probability_ensemble(fcov)\n",
    "            df_traces[\"similarity\"] = detection_probability(fcov)\n",
    "            \n",
    "            fpr, tpr, thresholds1 = roc_curve(df_traces[\"label\"] == \"eq\", df_traces[\"similarity\"])\n",
    "            pre, rec, thresholds2 = precision_recall_curve(df_traces[\"label\"] == \"eq\", df_traces[\"similarity\"])\n",
    "            roc_auc = auc(fpr, tpr)\n",
    "            av_pre = average_precision_score(df_traces[\"label\"] == \"eq\", df_traces[\"similarity\"])\n",
    "\n",
    "            best_f1_threshold = get_maxf1_threshold(thresholds2, pre, rec)\n",
    "            metrics = get_metrics(pre, rec, thresholds2, best_f1_threshold)\n",
    "            metrics.update({\"model\":eval[\"model_name\"], \"training\":eval[\"train_dataset\"], \"testing\":eval[\"test_dataset\"], \"auc\":roc_auc, \"av_pre\":av_pre})\n",
    "            df_metrics_list.append(metrics)\n",
    "\n",
    "df_metrics = pd.DataFrame(df_metrics_list)\n",
    "print(\"Results:\")\n",
    "print(get_latex_table(df_metrics))\n"
   ]
  },
  {
   "cell_type": "code",
   "execution_count": 22,
   "metadata": {},
   "outputs": [
    {
     "name": "stdout",
     "output_type": "stream",
     "text": [
      "        pre       rec  f1_score       auc    av_pre\n",
      "0  0.946742  0.970300  0.958376  0.984501  0.984999\n",
      "1  0.947168  0.969765  0.958333  0.985403  0.986940\n",
      "2  0.946564  0.970925  0.958590  0.984865  0.985228\n",
      "3  0.953315  0.974105  0.963598  0.987495  0.987972\n",
      "4  0.938192  0.971336  0.954476  0.982033  0.981282\n",
      "auc: 0.985 +- 0.002\n",
      "av_pre: 0.985 +- 0.002\n",
      "pre: 0.946 +- 0.005\n",
      "rec: 0.971 +- 0.002\n",
      "f1_score: 0.959 +- 0.003\n"
     ]
    }
   ],
   "source": [
    "\n",
    "df_metrics = pd.DataFrame(df_metrics_list)\n",
    "auc_std = np.std(df_metrics[\"auc\"])\n",
    "acc_std = np.std(df_metrics[\"av_pre\"])\n",
    "pre_std = np.std(df_metrics[\"pre\"])\n",
    "rec_std = np.std(df_metrics[\"rec\"])\n",
    "f1_score_std = np.std(df_metrics[\"f1_score\"])\n",
    "\n",
    "print(df_metrics)\n",
    "print(\"auc: {:.3f} +- {:.3f}\".format(np.mean(df_metrics[\"auc\"]), auc_std))\n",
    "print(\"av_pre: {:.3f} +- {:.3f}\".format(np.mean(df_metrics[\"av_pre\"]), acc_std))\n",
    "print(\"pre: {:.3f} +- {:.3f}\".format(np.mean(df_metrics[\"pre\"]), pre_std))\n",
    "print(\"rec: {:.3f} +- {:.3f}\".format(np.mean(df_metrics[\"rec\"]), rec_std))\n",
    "print(\"f1_score: {:.3f} +- {:.3f}\".format(np.mean(df_metrics[\"f1_score\"]), f1_score_std))"
   ]
  },
  {
   "cell_type": "code",
   "execution_count": 23,
   "metadata": {},
   "outputs": [
    {
     "name": "stdout",
     "output_type": "stream",
     "text": [
      "& auc & av_pre & pre & rec & f1_score \\\\ \\hline \n",
      "& $0.985 \\pm 0.002$ & $0.985 \\pm 0.002$ & $0.946 \\pm 0.005$ & $0.971 \\pm 0.002$ & $0.959 \\pm 0.003$ \\\\ \\hline \n",
      "\n"
     ]
    }
   ],
   "source": [
    "print(get_latex_table(df_metrics))"
   ]
  },
  {
   "cell_type": "code",
   "execution_count": 24,
   "metadata": {},
   "outputs": [
    {
     "name": "stdout",
     "output_type": "stream",
     "text": [
      "& auc & av_pre & pre & rec & f1_score \\\\ \\hline \n",
      "& $0.985 & $0.985 & $0.947 & $0.970 & $0.958 \\\\ \\hline \n",
      "& $0.985 & $0.987 & $0.947 & $0.970 & $0.958 \\\\ \\hline \n",
      "& $0.985 & $0.985 & $0.947 & $0.971 & $0.959 \\\\ \\hline \n",
      "& $0.987 & $0.988 & $0.953 & $0.974 & $0.964 \\\\ \\hline \n",
      "& $0.982 & $0.981 & $0.938 & $0.971 & $0.954 \\\\ \\hline \n",
      "\n"
     ]
    }
   ],
   "source": [
    "print(get_latex_table_kfold(df_metrics))"
   ]
  }
 ],
 "metadata": {
  "kernelspec": {
   "display_name": "tf",
   "language": "python",
   "name": "python3"
  },
  "language_info": {
   "codemirror_mode": {
    "name": "ipython",
    "version": 3
   },
   "file_extension": ".py",
   "mimetype": "text/x-python",
   "name": "python",
   "nbconvert_exporter": "python",
   "pygments_lexer": "ipython3",
   "version": "3.10.9"
  },
  "orig_nbformat": 4
 },
 "nbformat": 4,
 "nbformat_minor": 2
}
