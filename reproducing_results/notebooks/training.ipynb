{
 "cells": [
  {
   "cell_type": "code",
   "execution_count": null,
   "metadata": {},
   "outputs": [],
   "source": [
    "from reproducing_results.config import KFOLD_SPLITS\n",
    "from core.representation_learning_models import Autoencoder, DenoisingAutoencoder, AutoencoderEnsemble\n",
    "from reproducing_results.kfold_trainer import KfoldTrainer"
   ]
  },
  {
   "cell_type": "code",
   "execution_count": null,
   "metadata": {},
   "outputs": [],
   "source": [
    "# Experiment name.\n",
    "EXP_NAME = \"exp_test\"\n",
    "\n",
    "# Should be Autoencoder, DenoisingAutoencoder or AutoencoderEnsemble\n",
    "MODEL_CLASS = DenoisingAutoencoder\n",
    "\n",
    "# Should be stead or instance.\n",
    "DATASET = \"stead\"\n",
    "\n",
    "# Number of epochs\n",
    "NUM_EPOCHS = 20"
   ]
  },
  {
   "cell_type": "code",
   "execution_count": null,
   "metadata": {},
   "outputs": [],
   "source": [
    "# For all splits, train the model over \n",
    "for split in range(KFOLD_SPLITS):\n",
    "    kfold_trainer = KfoldTrainer(\n",
    "        EXP_NAME, MODEL_CLASS, DATASET, split, epochs=NUM_EPOCHS\n",
    "    )\n",
    "    kfold_trainer.train()"
   ]
  },
  {
   "cell_type": "code",
   "execution_count": null,
   "metadata": {},
   "outputs": [],
   "source": []
  }
 ],
 "metadata": {
  "language_info": {
   "name": "python"
  }
 },
 "nbformat": 4,
 "nbformat_minor": 2
}
