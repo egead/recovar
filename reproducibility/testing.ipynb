{
 "cells": [
  {
   "cell_type": "code",
   "execution_count": null,
   "metadata": {},
   "outputs": [],
   "source": [
    "from seismic_purifier import RepresentationLearningAutoencoder, RepresentationLearningDenoisingAutoencoder, RepresentationLearningAutoencoderEnsemble\n",
    "from seismic_purifier import ClassifierAutocovariance, ClassifierAugmentationCrossCovariances, ClassifierRepresentationCrossCovariances\n",
    "from kfold_tester import KFoldTester\n",
    "from evaluator import Evaluator, CropOffsetFilter\n",
    "from sklearn.metrics import auc"
   ]
  },
  {
   "cell_type": "code",
   "execution_count": 2,
   "metadata": {},
   "outputs": [],
   "source": [
    "# Experiment name.\n",
    "EXP_NAME = \"exp_test\"\n",
    "\n",
    "# Should be RepresentationLearningAutoencoder, RepresentationLearningDenoisingAutoencoder or RepresentationLearningAutoencoderEnsemble\n",
    "REPRESENTATION_LEARNING_MODEL_CLASS = RepresentationLearningAutoencoder\n",
    "CLASSIFIER_MODEL_CLASS = RepresentationLearningAutoencoder\n",
    "\n",
    "# Should be stead or instance.\n",
    "TRAIN_DATASET = \"stead\"\n",
    "TEST_DATASET = \"stead\"\n",
    "\n",
    "# Number of epochs\n",
    "EPOCHS = [6]\n",
    "\n",
    "# Split.\n",
    "SPLIT = 0"
   ]
  },
  {
   "cell_type": "code",
   "execution_count": null,
   "metadata": {},
   "outputs": [],
   "source": [
    "tester = KFoldTester(\n",
    "    EXP_NAME,\n",
    "    REPRESENTATION_LEARNING_MODEL_CLASS,\n",
    "    CLASSIFIER_MODEL_CLASS,\n",
    "    train_dataset=TRAIN_DATASET,\n",
    "    test_dataset=TEST_DATASET,\n",
    "    split=SPLIT,\n",
    "    epochs=EPOCHS\n",
    ")\n",
    "tester.test()"
   ]
  },
  {
   "cell_type": "code",
   "execution_count": 12,
   "metadata": {},
   "outputs": [],
   "source": [
    "filters = [CropOffsetFilter()]\n",
    "evaluator = Evaluator(exp_name = EXP_NAME, \n",
    "                      representation_learning_model_class=REPRESENTATION_LEARNING_MODEL_CLASS, \n",
    "                      classifier_model_class = CLASSIFIER_MODEL_CLASS, \n",
    "                      train_dataset = TRAIN_DATASET, \n",
    "                      test_dataset = TEST_DATASET, \n",
    "                      filters = filters, \n",
    "                      epochs = EPOCHS, \n",
    "                      split = SPLIT,\n",
    "                      method_params={})"
   ]
  },
  {
   "cell_type": "code",
   "execution_count": null,
   "metadata": {},
   "outputs": [],
   "source": [
    "roc_vectors = evaluator.get_roc_vectors()\n",
    "fpr = roc_vectors[0][\"fpr\"]\n",
    "tpr = roc_vectors[0][\"tpr\"]\n",
    "roc_auc = auc(roc_vectors[0][\"fpr\"], roc_vectors[0][\"tpr\"])\n",
    "print(roc_auc)"
   ]
  },
  {
   "cell_type": "code",
   "execution_count": null,
   "metadata": {},
   "outputs": [],
   "source": [
    "import seaborn as sns\n",
    "import pandas as pd\n",
    "import matplotlib.pyplot as plt\n",
    "\n",
    "# Create a DataFrame for Seaborn\n",
    "roc_data = pd.DataFrame({\n",
    "    'False Positive Rate': fpr,\n",
    "    'True Positive Rate': tpr\n",
    "})\n",
    "\n",
    "plt.figure(figsize=(8, 6))\n",
    "sns.lineplot(data=roc_data, x='False Positive Rate', y='True Positive Rate', label='ROC Curve')\n",
    "\n",
    "# Plot random guess line\n",
    "plt.plot([0, 1], [0, 1], 'k--', label='Random Guess')\n",
    "\n",
    "plt.xlabel('False Positive Rate')\n",
    "plt.ylabel('True Positive Rate')\n",
    "plt.title('ROC Curve for Seismic Detection Model')\n",
    "plt.legend()\n",
    "plt.grid(True)\n",
    "plt.show()"
   ]
  }
 ],
 "metadata": {
  "kernelspec": {
   "display_name": "Python 3",
   "language": "python",
   "name": "python3"
  },
  "language_info": {
   "codemirror_mode": {
    "name": "ipython",
    "version": 3
   },
   "file_extension": ".py",
   "mimetype": "text/x-python",
   "name": "python",
   "nbconvert_exporter": "python",
   "pygments_lexer": "ipython3",
   "version": "3.10.14"
  }
 },
 "nbformat": 4,
 "nbformat_minor": 2
}
