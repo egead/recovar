{
 "cells": [
  {
   "cell_type": "code",
   "execution_count": 59,
   "metadata": {},
   "outputs": [],
   "source": [
    "import pandas as pd\n",
    "import h5py\n",
    "import numpy as np\n",
    "import matplotlib.gridspec as gridspec\n",
    "import matplotlib.pyplot as plt"
   ]
  },
  {
   "cell_type": "code",
   "execution_count": 60,
   "metadata": {},
   "outputs": [],
   "source": [
    "def bandpass(x, freqmin=1, freqmax=20, sampling_freq=100):\n",
    "        xw = np.fft.fft(x, axis=0)\n",
    "        f = np.fft.fftfreq(np.shape(x)[0], 1.0 / sampling_freq)\n",
    "        mask = (np.abs(f) < freqmin) | (np.abs(f) > freqmax)\n",
    "        xw[mask, :] = 0\n",
    "\n",
    "        x = np.fft.ifft(xw, axis=0)\n",
    "        return np.real(x).astype(np.float32)\n",
    "\n",
    "def plot_waveform(x, spec, title, t=np.linspace(0, 120, 12000)):\n",
    "    shapex = np.shape(x)\n",
    "    if len(shapex) == 1:\n",
    "        channels = 1\n",
    "        x = np.expand_dims(x, axis=1)\n",
    "    else:\n",
    "        channels = shapex[1]\n",
    "\n",
    "    # Generate axis object with three rows.\n",
    "    waveforms = gridspec.GridSpecFromSubplotSpec(\n",
    "        channels,\n",
    "        1,\n",
    "        subplot_spec=spec,\n",
    "        wspace=0.1,\n",
    "        hspace=0.1,\n",
    "    )\n",
    "\n",
    "    for i in range(channels):\n",
    "        ax = plt.subplot(waveforms[i, 0])\n",
    "        if i == 0:\n",
    "            ax.set_title(title, loc=\"left\")\n",
    "        \n",
    "        ax.xaxis.set_visible(False)\n",
    "        ax.yaxis.set_visible(False)\n",
    "            \n",
    "        ax.plot(t, x[:, i], linewidth=0.6)"
   ]
  },
  {
   "cell_type": "code",
   "execution_count": 61,
   "metadata": {},
   "outputs": [],
   "source": [
    "data_hdf5_path = \"/home/onur/dataset_preprocessed/instance/subsampled_100percent.hdf5\"\n",
    "data_csv_path=\"/home/onur/dataset_preprocessed/instance/subsampled_100percent.csv\""
   ]
  },
  {
   "cell_type": "code",
   "execution_count": 62,
   "metadata": {},
   "outputs": [],
   "source": [
    "pick_hdf5_path = \"/home/onur/instance/events/waveforms.hdf5\"\n",
    "pick_metadata_csv_path = \"/home/onur/instance/events/metadata.csv\"\n",
    "noise_hdf5_path = \"/home/onur/instance/noise/waveforms.hdf5\"\n",
    "noise_metadata_csv_path = \"/home/onur/instance/noise/metadata.csv\""
   ]
  },
  {
   "cell_type": "code",
   "execution_count": 63,
   "metadata": {},
   "outputs": [],
   "source": [
    "df_preprocessed = pd.read_csv(data_csv_path)"
   ]
  },
  {
   "cell_type": "code",
   "execution_count": 69,
   "metadata": {},
   "outputs": [],
   "source": [
    "def is_test_sample(row):\n",
    "    if row[\"label\"].values[0] == \"eq\":\n",
    "        min_val = row[\"p_arrival_sample\"].values[0] + 300 - 3000\n",
    "        max_val = row[\"p_arrival_sample\"].values[0] - 300\n",
    "        return ((row[\"crop_offset\"].values[0] > min_val) and (row[\"crop_offset\"].values[0] < max_val))\n",
    "    else:\n",
    "        return True"
   ]
  },
  {
   "cell_type": "code",
   "execution_count": 70,
   "metadata": {},
   "outputs": [
    {
     "name": "stderr",
     "output_type": "stream",
     "text": [
      "/tmp/ipykernel_1194398/3547056603.py:1: DtypeWarning: Columns (23,24,26,27) have mixed types. Specify dtype option on import or set low_memory=False.\n",
      "  df_eq = pd.read_csv(pick_metadata_csv_path)\n"
     ]
    }
   ],
   "source": [
    "df_eq = pd.read_csv(pick_metadata_csv_path)\n",
    "df_no = pd.read_csv(noise_metadata_csv_path)"
   ]
  },
  {
   "cell_type": "code",
   "execution_count": 71,
   "metadata": {},
   "outputs": [],
   "source": [
    "f_preprocessed = h5py.File(data_hdf5_path, \"r\")\n",
    "f_eq = h5py.File(pick_hdf5_path, \"r\")\n",
    "f_no = h5py.File(noise_hdf5_path, \"r\")"
   ]
  },
  {
   "cell_type": "code",
   "execution_count": 72,
   "metadata": {},
   "outputs": [
    {
     "name": "stdout",
     "output_type": "stream",
     "text": [
      "134 125\n",
      "73 26\n",
      "174 184\n",
      "109 67\n",
      "151 72\n",
      "8 20\n",
      "122 142\n",
      "10 135\n",
      "134 91\n",
      "20 38\n",
      "90 37\n",
      "97 9\n",
      "164 96\n",
      "251 100\n",
      "100 151\n",
      "220 20\n",
      "40 156\n",
      "78 92\n",
      "157 211\n",
      "72 102\n",
      "226 44\n",
      "107 148\n",
      "94 23\n",
      "55 159\n",
      "4 63\n",
      "24 100\n",
      "14 133\n",
      "145 248\n",
      "54 209\n",
      "79 204\n",
      "51 223\n",
      "155 16\n",
      "96 19\n",
      "56 150\n",
      "34 175\n",
      "43 58\n",
      "35 122\n",
      "147 73\n",
      "212 115\n",
      "249 242\n",
      "111 92\n",
      "165 78\n",
      "27 174\n",
      "0 70\n",
      "80 141\n",
      "159 174\n",
      "25 98\n",
      "36 100\n",
      "52 111\n",
      "76 70\n",
      "66 123\n",
      "154 75\n",
      "57 118\n",
      "167 129\n",
      "80 161\n",
      "77 27\n",
      "48 93\n",
      "111 196\n",
      "18 218\n",
      "110 228\n",
      "75 69\n",
      "22 230\n",
      "214 206\n",
      "210 27\n",
      "126 83\n",
      "90 33\n",
      "34 173\n",
      "103 61\n",
      "132 175\n",
      "78 197\n",
      "185 252\n"
     ]
    },
    {
     "data": {
      "text/plain": [
       "<Figure size 640x480 with 0 Axes>"
      ]
     },
     "metadata": {},
     "output_type": "display_data"
    }
   ],
   "source": [
    "for i in range(100):\n",
    "    row = df_preprocessed.sample(1)\n",
    "    if not is_test_sample(row):\n",
    "        continue\n",
    "\n",
    "    chunk_idx = row[\"chunk_idx\"].values[0]\n",
    "    df_chunk = df_preprocessed[df_preprocessed[\"chunk_idx\"] == chunk_idx]\n",
    "    df_chunk.reset_index(inplace=True)\n",
    "    \n",
    "    batch_offset = df_chunk[df_chunk.trace_name == row[\"trace_name\"].values[0]].index[0] // 256\n",
    "    waveform_idx = df_chunk[df_chunk.trace_name == row[\"trace_name\"].values[0]].index[0] % 256\n",
    "    print(batch_offset, waveform_idx)\n",
    "    trace_name = row[\"trace_name\"].values[0]\n",
    "\n",
    "    wf = f_preprocessed.get(\"data/x/chunk{}/{}\".format(chunk_idx, batch_offset))[waveform_idx, :, :]\n",
    "    gs = gridspec.GridSpec(1, 2)\n",
    "    plot_waveform(wf, gs[0, 0], trace_name, t=np.linspace(0, 30, 3000))\n",
    "\n",
    "    crop_offset = row[\"crop_offset\"].values[0]\n",
    "    if row[\"label\"].values[0] == \"eq\":\n",
    "        wf = f_eq.get(\"data/{}\".format(trace_name))[...]\n",
    "    else:\n",
    "        wf = f_no.get(\"data/{}\".format(trace_name))[...]\n",
    "\n",
    "    wf = bandpass(np.transpose(wf, axes=(1, 0)))\n",
    "    wf = wf[crop_offset:crop_offset+3000, :]\n",
    "    plot_waveform(wf, gs[0, 1], trace_name, t=np.linspace(0, 30, 3000))\n",
    "\n",
    "    label = row[\"label\"].values[0]\n",
    "    plt.savefig(f\"../plots/{label}_{trace_name}.png\")\n",
    "    plt.clf()"
   ]
  }
 ],
 "metadata": {
  "kernelspec": {
   "display_name": "tf",
   "language": "python",
   "name": "python3"
  },
  "language_info": {
   "codemirror_mode": {
    "name": "ipython",
    "version": 3
   },
   "file_extension": ".py",
   "mimetype": "text/x-python",
   "name": "python",
   "nbconvert_exporter": "python",
   "pygments_lexer": "ipython3",
   "version": "3.10.9"
  },
  "orig_nbformat": 4
 },
 "nbformat": 4,
 "nbformat_minor": 2
}
