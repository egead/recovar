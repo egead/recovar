{
 "cells": [
  {
   "cell_type": "code",
   "execution_count": null,
   "metadata": {},
   "outputs": [],
   "source": [
    "from seismic_purifier.representation_learning_models import AutoencoderEnsemble\n",
    "from seismic_purifier.classifier_models import ClassifierRepresentationCrossCovariances\n",
    "from kfold_tester import KFoldTester"
   ]
  },
  {
   "cell_type": "code",
   "execution_count": null,
   "metadata": {},
   "outputs": [],
   "source": [
    "# Experiment name.\n",
    "EXP_NAME = \"exp_test\"\n",
    "\n",
    "# Should be Autoencoder, DenoisingAutoencoder or AutoencoderEnsemble\n",
    "REPRESENTATION_LEARNING_MODEL_CLASS = AutoencoderEnsemble\n",
    "CLASSIFIER_MODEL_CLASS = ClassifierRepresentationCrossCovariances\n",
    "\n",
    "# Should be stead or instance.\n",
    "TRAIN_DATASET = \"stead\"\n",
    "TEST_DATASET = \"stead\"\n",
    "\n",
    "# Number of epochs\n",
    "EPOCH = 8\n",
    "\n",
    "# Split.\n",
    "SPLIT = 0"
   ]
  },
  {
   "cell_type": "code",
   "execution_count": null,
   "metadata": {},
   "outputs": [],
   "source": [
    "tester = KFoldTester(\n",
    "    EXP_NAME,\n",
    "    REPRESENTATION_LEARNING_MODEL_CLASS,\n",
    "    CLASSIFIER_MODEL_CLASS,\n",
    "    train_dataset=TRAIN_DATASET,\n",
    "    test_dataset=TEST_DATASET,\n",
    "    split=SPLIT,\n",
    "    epochs=[EPOCH]\n",
    ")\n",
    "tester.test()"
   ]
  }
 ],
 "metadata": {
  "language_info": {
   "name": "python"
  }
 },
 "nbformat": 4,
 "nbformat_minor": 2
}
