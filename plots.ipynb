{
 "cells": [
  {
   "cell_type": "code",
   "execution_count": null,
   "metadata": {},
   "outputs": [],
   "source": [
    "import os\n",
    "os.environ[\"CUDA_VISIBLE_DEVICES\"] = \"\"\n",
    "\n",
    "import matplotlib.pyplot as plt\n",
    "import seaborn as sns\n",
    "from training_models import Autoencoder, DenoisingAutoencoder, AutoencoderEnsemble\n",
    "from monitor_models import Autocovariance, AugmentationCrossCovariances, RepresentationCrossCovariances"
   ]
  },
  {
   "cell_type": "code",
   "execution_count": null,
   "metadata": {},
   "outputs": [],
   "source": [
    "EXP_NAME = \"exp_test\"\n",
    "TRAIN_DATASETS = [\"instance\", \"stead\"]\n",
    "TEST_DATASETS = [\"instance\", \"stead\"]\n",
    "OUTPUT_FILE_NAME = \"summary.csv\""
   ]
  },
  {
   "cell_type": "code",
   "execution_count": null,
   "metadata": {},
   "outputs": [],
   "source": [
    "def create_method_name(row):\n",
    "    training_model_name = row[\"Training model\"]\n",
    "    monitoring_model_name = row[\"Monitoring model\"]\n",
    "\n",
    "    if training_model_name == Autoencoder().name and monitoring_model_name == Autocovariance().name:\n",
    "        return \"Autocovariance\"\n",
    "    \n",
    "    if training_model_name == DenoisingAutoencoder().name and monitoring_model_name == Autocovariance().name:\n",
    "        return \"Autocovariance(Denoising)\"\n",
    "    \n",
    "    if training_model_name == Autoencoder().name and monitoring_model_name == AugmentationCrossCovariances().name:\n",
    "        return \"Augmentation Cross-covariances\"\n",
    "    \n",
    "    if training_model_name == DenoisingAutoencoder().name and monitoring_model_name == AugmentationCrossCovariances().name:\n",
    "        return \"Augmentation Cross-covariances(Denoising)\"\n",
    "    \n",
    "    if training_model_name == AutoencoderEnsemble().name and monitoring_model_name == RepresentationCrossCovariances().name:\n",
    "        return \"Representation Cross-covariances\"\n",
    "    \n",
    "def plot_rocauc_vs_epochs(df_grand_summary, figsize=(8, 6), ymin = 0.9, ymax=1.0):\n",
    "    df_grand_summary[\"Method\"] = df_grand_summary.apply(create_method_name)\n",
    "\n",
    "    fig, axs = plt.subplots(nrows=2, ncols=2, figsize=figsize)\n",
    "    for train_idx, training_set in enumerate(TRAIN_DATASETS):\n",
    "        for test_idx, test_set in enumerate(TEST_DATASETS):\n",
    "            _df = df_grand_summary[(df_grand_summary[\"Training dataset\"] == training_set) & (df_grand_summary[\"Testing dataset\"] == test_set)]\n",
    "\n",
    "            legend = (train_idx == 1) and (test_idx == 1) \n",
    "            sns.lineplot(data=_df, x='Epoch', y='ROC-AUC', hue='Method', ax=axs[train_idx, test_idx], legend=legend)\n",
    "\n",
    "            axs[train_idx, test_idx].set_ylim(ymin, ymax)\n",
    "            axs[train_idx, test_idx].set_title(f\"Training dataset: {training_set.upper()}, Testing dataset: {test_set.upper()}\")\n",
    "\n",
    "            axs[train_idx, test_idx].get_xaxis().set_visible(train_idx == 1)\n",
    "\n",
    "            if test_idx == 1:\n",
    "                axs[train_idx, test_idx].set_ylabel(\"\")\n",
    "\n",
    "    plt.tight_layout(pad=0)\n",
    "    plt.savefig('../evals/cross_domain.pdf', dpi=600)"
   ]
  }
 ],
 "metadata": {
  "language_info": {
   "name": "python"
  },
  "orig_nbformat": 4
 },
 "nbformat": 4,
 "nbformat_minor": 2
}
